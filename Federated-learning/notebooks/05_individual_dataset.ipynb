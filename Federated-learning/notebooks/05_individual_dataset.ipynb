{
 "cells": [
  {
   "cell_type": "code",
   "execution_count": 2,
   "metadata": {},
   "outputs": [
    {
     "name": "stdout",
     "output_type": "stream",
     "text": [
      "/Users/darrenlee/Desktop/portfolio/Data-science/Federated-learning\n",
      "README.md  conda.yml  \u001b[1m\u001b[36mdata\u001b[m\u001b[m/      \u001b[1m\u001b[36mnotebooks\u001b[m\u001b[m/ \u001b[1m\u001b[36msrc\u001b[m\u001b[m/       \u001b[1m\u001b[36msrc1\u001b[m\u001b[m/\n"
     ]
    }
   ],
   "source": [
    "%cd ..\n",
    "%ls"
   ]
  },
  {
   "cell_type": "code",
   "execution_count": 29,
   "metadata": {},
   "outputs": [],
   "source": [
    "from src1.data import load_data\n",
    "from src1.model import Model\n",
    "import os\n",
    "import pandas as pd\n",
    "\n",
    "import matplotlib.pyplot as plt\n",
    "import seaborn as sns"
   ]
  },
  {
   "cell_type": "code",
   "execution_count": 30,
   "metadata": {},
   "outputs": [
    {
     "name": "stdout",
     "output_type": "stream",
     "text": [
      "README.md  conda.yml  \u001b[1m\u001b[36mdata\u001b[m\u001b[m/      \u001b[1m\u001b[36mmodels\u001b[m\u001b[m/    \u001b[1m\u001b[36mnotebooks\u001b[m\u001b[m/ \u001b[1m\u001b[36msrc\u001b[m\u001b[m/       \u001b[1m\u001b[36msrc1\u001b[m\u001b[m/\n"
     ]
    }
   ],
   "source": [
    "%ls"
   ]
  },
  {
   "cell_type": "code",
   "execution_count": 20,
   "metadata": {},
   "outputs": [],
   "source": [
    "df = pd.DataFrame()\n",
    "failed = []"
   ]
  },
  {
   "cell_type": "code",
   "execution_count": 21,
   "metadata": {},
   "outputs": [
    {
     "name": "stdout",
     "output_type": "stream",
     "text": [
      "Epoch 1/10\n",
      "WARNING:tensorflow:Model was constructed with shape (None, None, 102) for input KerasTensor(type_spec=TensorSpec(shape=(None, None, 102), dtype=tf.float32, name='dense_360_input'), name='dense_360_input', description=\"created by layer 'dense_360_input'\"), but it was called on an input with incompatible shape (None, 102).\n",
      "WARNING:tensorflow:Model was constructed with shape (None, None, 102) for input KerasTensor(type_spec=TensorSpec(shape=(None, None, 102), dtype=tf.float32, name='dense_360_input'), name='dense_360_input', description=\"created by layer 'dense_360_input'\"), but it was called on an input with incompatible shape (None, 102).\n"
     ]
    },
    {
     "name": "stderr",
     "output_type": "stream",
     "text": [
      "2022-12-16 13:46:38.325254: I tensorflow/core/grappler/optimizers/custom_graph_optimizer_registry.cc:114] Plugin optimizer for device_type GPU is enabled.\n"
     ]
    },
    {
     "name": "stdout",
     "output_type": "stream",
     "text": [
      "273/273 [==============================] - 8s 21ms/step - loss: 9764.1064 - mean_squared_error: 376827872.0000 - mean_absolute_error: 9764.1064\n",
      "Epoch 2/10\n",
      "273/273 [==============================] - 4s 16ms/step - loss: 5089.2183 - mean_squared_error: 88275264.0000 - mean_absolute_error: 5089.2183\n",
      "Epoch 3/10\n",
      "273/273 [==============================] - 4s 16ms/step - loss: 4645.5430 - mean_squared_error: 76967008.0000 - mean_absolute_error: 4645.5430\n",
      "Epoch 4/10\n",
      "273/273 [==============================] - 4s 16ms/step - loss: 4414.6631 - mean_squared_error: 73343536.0000 - mean_absolute_error: 4414.6631\n",
      "Epoch 5/10\n",
      "273/273 [==============================] - 4s 15ms/step - loss: 4181.6797 - mean_squared_error: 68006976.0000 - mean_absolute_error: 4181.6797\n",
      "Epoch 6/10\n",
      "273/273 [==============================] - 4s 16ms/step - loss: 4054.7625 - mean_squared_error: 64841584.0000 - mean_absolute_error: 4054.7625\n",
      "Epoch 7/10\n",
      "273/273 [==============================] - 4s 16ms/step - loss: 3846.0198 - mean_squared_error: 59079520.0000 - mean_absolute_error: 3846.0198\n",
      "Epoch 8/10\n",
      "273/273 [==============================] - 4s 15ms/step - loss: 3814.0356 - mean_squared_error: 59737636.0000 - mean_absolute_error: 3814.0356\n",
      "Epoch 9/10\n",
      "273/273 [==============================] - 4s 16ms/step - loss: 3675.0144 - mean_squared_error: 54638632.0000 - mean_absolute_error: 3675.0144\n",
      "Epoch 10/10\n",
      "273/273 [==============================] - 4s 16ms/step - loss: 3556.4241 - mean_squared_error: 53387248.0000 - mean_absolute_error: 3556.4241\n",
      "WARNING:tensorflow:Model was constructed with shape (None, None, 102) for input KerasTensor(type_spec=TensorSpec(shape=(None, None, 102), dtype=tf.float32, name='dense_360_input'), name='dense_360_input', description=\"created by layer 'dense_360_input'\"), but it was called on an input with incompatible shape (None, 102).\n"
     ]
    },
    {
     "name": "stderr",
     "output_type": "stream",
     "text": [
      "2022-12-16 13:47:24.773926: I tensorflow/core/grappler/optimizers/custom_graph_optimizer_registry.cc:114] Plugin optimizer for device_type GPU is enabled.\n"
     ]
    },
    {
     "name": "stdout",
     "output_type": "stream",
     "text": [
      "273/273 [==============================] - 2s 7ms/step - loss: 6024.0469 - mean_squared_error: 108972864.0000 - mean_absolute_error: 6024.0469\n",
      "47/47 [==============================] - 0s 9ms/step - loss: 5664.4775 - mean_squared_error: 95804464.0000 - mean_absolute_error: 5664.4775\n",
      "Epoch 1/10\n",
      "WARNING:tensorflow:Model was constructed with shape (None, None, 102) for input KerasTensor(type_spec=TensorSpec(shape=(None, None, 102), dtype=tf.float32, name='dense_368_input'), name='dense_368_input', description=\"created by layer 'dense_368_input'\"), but it was called on an input with incompatible shape (None, 102).\n",
      "WARNING:tensorflow:Model was constructed with shape (None, None, 102) for input KerasTensor(type_spec=TensorSpec(shape=(None, None, 102), dtype=tf.float32, name='dense_368_input'), name='dense_368_input', description=\"created by layer 'dense_368_input'\"), but it was called on an input with incompatible shape (None, 102).\n"
     ]
    },
    {
     "name": "stderr",
     "output_type": "stream",
     "text": [
      "2022-12-16 13:47:27.892764: I tensorflow/core/grappler/optimizers/custom_graph_optimizer_registry.cc:114] Plugin optimizer for device_type GPU is enabled.\n"
     ]
    },
    {
     "name": "stdout",
     "output_type": "stream",
     "text": [
      "273/273 [==============================] - 8s 20ms/step - loss: 12061.0098 - mean_squared_error: 573147968.0000 - mean_absolute_error: 12061.0098\n",
      "Epoch 2/10\n",
      "273/273 [==============================] - 4s 16ms/step - loss: 6070.3774 - mean_squared_error: 140701344.0000 - mean_absolute_error: 6070.3774\n",
      "Epoch 3/10\n",
      "273/273 [==============================] - 4s 16ms/step - loss: 5635.5176 - mean_squared_error: 130940616.0000 - mean_absolute_error: 5635.5176\n",
      "Epoch 4/10\n",
      "273/273 [==============================] - 4s 16ms/step - loss: 5479.5698 - mean_squared_error: 125878272.0000 - mean_absolute_error: 5479.5698\n",
      "Epoch 5/10\n",
      "273/273 [==============================] - 4s 16ms/step - loss: 5222.4927 - mean_squared_error: 122220336.0000 - mean_absolute_error: 5222.4927\n",
      "Epoch 6/10\n",
      "273/273 [==============================] - 5s 17ms/step - loss: 5002.5557 - mean_squared_error: 118533488.0000 - mean_absolute_error: 5002.5557\n",
      "Epoch 7/10\n",
      "273/273 [==============================] - 5s 17ms/step - loss: 4898.1797 - mean_squared_error: 114058536.0000 - mean_absolute_error: 4898.1797\n",
      "Epoch 8/10\n",
      "273/273 [==============================] - 4s 16ms/step - loss: 4769.0737 - mean_squared_error: 112730216.0000 - mean_absolute_error: 4769.0737\n",
      "Epoch 9/10\n",
      "273/273 [==============================] - 4s 16ms/step - loss: 4660.1646 - mean_squared_error: 105767880.0000 - mean_absolute_error: 4660.1646\n",
      "Epoch 10/10\n",
      "273/273 [==============================] - 4s 16ms/step - loss: 4534.2085 - mean_squared_error: 98691600.0000 - mean_absolute_error: 4534.2085\n",
      "WARNING:tensorflow:Model was constructed with shape (None, None, 102) for input KerasTensor(type_spec=TensorSpec(shape=(None, None, 102), dtype=tf.float32, name='dense_368_input'), name='dense_368_input', description=\"created by layer 'dense_368_input'\"), but it was called on an input with incompatible shape (None, 102).\n"
     ]
    },
    {
     "name": "stderr",
     "output_type": "stream",
     "text": [
      "2022-12-16 13:48:15.543108: I tensorflow/core/grappler/optimizers/custom_graph_optimizer_registry.cc:114] Plugin optimizer for device_type GPU is enabled.\n"
     ]
    },
    {
     "name": "stdout",
     "output_type": "stream",
     "text": [
      "273/273 [==============================] - 2s 7ms/step - loss: 4534.1338 - mean_squared_error: 107172384.0000 - mean_absolute_error: 4534.1338\n",
      "47/47 [==============================] - 0s 9ms/step - loss: 5143.7563 - mean_squared_error: 71867312.0000 - mean_absolute_error: 5143.7563\n",
      "Epoch 1/10\n",
      "WARNING:tensorflow:Model was constructed with shape (None, None, 102) for input KerasTensor(type_spec=TensorSpec(shape=(None, None, 102), dtype=tf.float32, name='dense_376_input'), name='dense_376_input', description=\"created by layer 'dense_376_input'\"), but it was called on an input with incompatible shape (None, 102).\n",
      "WARNING:tensorflow:Model was constructed with shape (None, None, 102) for input KerasTensor(type_spec=TensorSpec(shape=(None, None, 102), dtype=tf.float32, name='dense_376_input'), name='dense_376_input', description=\"created by layer 'dense_376_input'\"), but it was called on an input with incompatible shape (None, 102).\n"
     ]
    },
    {
     "name": "stderr",
     "output_type": "stream",
     "text": [
      "2022-12-16 13:48:18.800525: I tensorflow/core/grappler/optimizers/custom_graph_optimizer_registry.cc:114] Plugin optimizer for device_type GPU is enabled.\n"
     ]
    },
    {
     "name": "stdout",
     "output_type": "stream",
     "text": [
      "241/241 [==============================] - 8s 23ms/step - loss: 3774.9231 - mean_squared_error: 182576016.0000 - mean_absolute_error: 3774.9231\n",
      "Epoch 2/10\n",
      "241/241 [==============================] - 4s 16ms/step - loss: 2175.4417 - mean_squared_error: 54827320.0000 - mean_absolute_error: 2175.4417\n",
      "Epoch 3/10\n",
      "241/241 [==============================] - 4s 16ms/step - loss: 1661.9392 - mean_squared_error: 20596666.0000 - mean_absolute_error: 1661.9392\n",
      "Epoch 4/10\n",
      "241/241 [==============================] - 4s 16ms/step - loss: 1530.5812 - mean_squared_error: 16297138.0000 - mean_absolute_error: 1530.5812\n",
      "Epoch 5/10\n",
      "241/241 [==============================] - 4s 16ms/step - loss: 1500.6022 - mean_squared_error: 17558244.0000 - mean_absolute_error: 1500.6022\n",
      "Epoch 6/10\n",
      "241/241 [==============================] - 4s 16ms/step - loss: 1393.6058 - mean_squared_error: 15540292.0000 - mean_absolute_error: 1393.6058\n",
      "Epoch 7/10\n",
      "241/241 [==============================] - 4s 16ms/step - loss: 1351.4069 - mean_squared_error: 14116901.0000 - mean_absolute_error: 1351.4069\n",
      "Epoch 8/10\n",
      "241/241 [==============================] - 4s 16ms/step - loss: 1317.1375 - mean_squared_error: 14214621.0000 - mean_absolute_error: 1317.1375\n",
      "Epoch 9/10\n",
      "241/241 [==============================] - 4s 16ms/step - loss: 1286.5140 - mean_squared_error: 12723500.0000 - mean_absolute_error: 1286.5140\n",
      "Epoch 10/10\n",
      "241/241 [==============================] - 4s 16ms/step - loss: 1251.3318 - mean_squared_error: 13753284.0000 - mean_absolute_error: 1251.3318\n",
      "WARNING:tensorflow:Model was constructed with shape (None, None, 102) for input KerasTensor(type_spec=TensorSpec(shape=(None, None, 102), dtype=tf.float32, name='dense_376_input'), name='dense_376_input', description=\"created by layer 'dense_376_input'\"), but it was called on an input with incompatible shape (None, 102).\n"
     ]
    },
    {
     "name": "stderr",
     "output_type": "stream",
     "text": [
      "2022-12-16 13:49:01.360585: I tensorflow/core/grappler/optimizers/custom_graph_optimizer_registry.cc:114] Plugin optimizer for device_type GPU is enabled.\n"
     ]
    },
    {
     "name": "stdout",
     "output_type": "stream",
     "text": [
      "241/241 [==============================] - 2s 7ms/step - loss: 1220.9330 - mean_squared_error: 10306934.0000 - mean_absolute_error: 1220.9330\n",
      "42/42 [==============================] - 1s 12ms/step - loss: 1404.3950 - mean_squared_error: 5546604.0000 - mean_absolute_error: 1404.3950\n",
      "Epoch 1/10\n",
      "WARNING:tensorflow:Model was constructed with shape (None, None, 102) for input KerasTensor(type_spec=TensorSpec(shape=(None, None, 102), dtype=tf.float32, name='dense_384_input'), name='dense_384_input', description=\"created by layer 'dense_384_input'\"), but it was called on an input with incompatible shape (None, 102).\n",
      "WARNING:tensorflow:Model was constructed with shape (None, None, 102) for input KerasTensor(type_spec=TensorSpec(shape=(None, None, 102), dtype=tf.float32, name='dense_384_input'), name='dense_384_input', description=\"created by layer 'dense_384_input'\"), but it was called on an input with incompatible shape (None, 102).\n"
     ]
    },
    {
     "name": "stderr",
     "output_type": "stream",
     "text": [
      "2022-12-16 13:49:04.449058: I tensorflow/core/grappler/optimizers/custom_graph_optimizer_registry.cc:114] Plugin optimizer for device_type GPU is enabled.\n"
     ]
    },
    {
     "name": "stdout",
     "output_type": "stream",
     "text": [
      "274/274 [==============================] - 8s 20ms/step - loss: 13541.6074 - mean_squared_error: 662139392.0000 - mean_absolute_error: 13541.6074\n",
      "Epoch 2/10\n",
      "274/274 [==============================] - 4s 16ms/step - loss: 6668.1807 - mean_squared_error: 173693520.0000 - mean_absolute_error: 6668.1807\n",
      "Epoch 3/10\n",
      "274/274 [==============================] - 4s 16ms/step - loss: 6190.2808 - mean_squared_error: 163966864.0000 - mean_absolute_error: 6190.2808\n",
      "Epoch 4/10\n",
      "274/274 [==============================] - 4s 16ms/step - loss: 5727.6826 - mean_squared_error: 149242080.0000 - mean_absolute_error: 5727.6826\n",
      "Epoch 5/10\n",
      "274/274 [==============================] - 4s 16ms/step - loss: 5483.1167 - mean_squared_error: 141434848.0000 - mean_absolute_error: 5483.1167\n",
      "Epoch 6/10\n",
      "274/274 [==============================] - 4s 16ms/step - loss: 5311.5898 - mean_squared_error: 143319616.0000 - mean_absolute_error: 5311.5898\n",
      "Epoch 7/10\n",
      "274/274 [==============================] - 4s 16ms/step - loss: 5180.7310 - mean_squared_error: 134568928.0000 - mean_absolute_error: 5180.7310\n",
      "Epoch 8/10\n",
      "274/274 [==============================] - 4s 16ms/step - loss: 5005.4248 - mean_squared_error: 133827320.0000 - mean_absolute_error: 5005.4248\n",
      "Epoch 9/10\n",
      "274/274 [==============================] - 4s 16ms/step - loss: 4837.8071 - mean_squared_error: 123952864.0000 - mean_absolute_error: 4837.8071\n",
      "Epoch 10/10\n",
      "274/274 [==============================] - 4s 16ms/step - loss: 4794.7241 - mean_squared_error: 122170064.0000 - mean_absolute_error: 4794.7241\n",
      "WARNING:tensorflow:Model was constructed with shape (None, None, 102) for input KerasTensor(type_spec=TensorSpec(shape=(None, None, 102), dtype=tf.float32, name='dense_384_input'), name='dense_384_input', description=\"created by layer 'dense_384_input'\"), but it was called on an input with incompatible shape (None, 102).\n"
     ]
    },
    {
     "name": "stderr",
     "output_type": "stream",
     "text": [
      "2022-12-16 13:49:51.161636: I tensorflow/core/grappler/optimizers/custom_graph_optimizer_registry.cc:114] Plugin optimizer for device_type GPU is enabled.\n"
     ]
    },
    {
     "name": "stdout",
     "output_type": "stream",
     "text": [
      "274/274 [==============================] - 2s 7ms/step - loss: 6367.0723 - mean_squared_error: 144830544.0000 - mean_absolute_error: 6367.0723\n",
      "48/48 [==============================] - 0s 10ms/step - loss: 5043.6416 - mean_squared_error: 65450940.0000 - mean_absolute_error: 5043.6416\n",
      "Epoch 1/10\n",
      "WARNING:tensorflow:Model was constructed with shape (None, None, 102) for input KerasTensor(type_spec=TensorSpec(shape=(None, None, 102), dtype=tf.float32, name='dense_392_input'), name='dense_392_input', description=\"created by layer 'dense_392_input'\"), but it was called on an input with incompatible shape (None, 102).\n",
      "WARNING:tensorflow:Model was constructed with shape (None, None, 102) for input KerasTensor(type_spec=TensorSpec(shape=(None, None, 102), dtype=tf.float32, name='dense_392_input'), name='dense_392_input', description=\"created by layer 'dense_392_input'\"), but it was called on an input with incompatible shape (None, 102).\n"
     ]
    },
    {
     "name": "stderr",
     "output_type": "stream",
     "text": [
      "2022-12-16 13:49:54.359757: I tensorflow/core/grappler/optimizers/custom_graph_optimizer_registry.cc:114] Plugin optimizer for device_type GPU is enabled.\n"
     ]
    },
    {
     "name": "stdout",
     "output_type": "stream",
     "text": [
      "241/241 [==============================] - 8s 21ms/step - loss: 2700.8237 - mean_squared_error: 44544572.0000 - mean_absolute_error: 2700.8237\n",
      "Epoch 2/10\n",
      "241/241 [==============================] - 4s 16ms/step - loss: 1496.9402 - mean_squared_error: 11760943.0000 - mean_absolute_error: 1496.9402\n",
      "Epoch 3/10\n",
      "241/241 [==============================] - 4s 16ms/step - loss: 1284.7327 - mean_squared_error: 9240272.0000 - mean_absolute_error: 1284.7327\n",
      "Epoch 4/10\n",
      "241/241 [==============================] - 4s 16ms/step - loss: 1199.1498 - mean_squared_error: 8286978.5000 - mean_absolute_error: 1199.1498\n",
      "Epoch 5/10\n",
      "241/241 [==============================] - 4s 16ms/step - loss: 1128.7189 - mean_squared_error: 7495280.5000 - mean_absolute_error: 1128.7189\n",
      "Epoch 6/10\n",
      "241/241 [==============================] - 4s 16ms/step - loss: 1079.8771 - mean_squared_error: 6952006.5000 - mean_absolute_error: 1079.8771\n",
      "Epoch 7/10\n",
      "241/241 [==============================] - 4s 16ms/step - loss: 1053.8177 - mean_squared_error: 6740072.0000 - mean_absolute_error: 1053.8177\n",
      "Epoch 8/10\n",
      "241/241 [==============================] - 4s 16ms/step - loss: 1008.2254 - mean_squared_error: 6566325.0000 - mean_absolute_error: 1008.2254\n",
      "Epoch 9/10\n",
      "241/241 [==============================] - 4s 16ms/step - loss: 977.1242 - mean_squared_error: 6417525.0000 - mean_absolute_error: 977.1242\n",
      "Epoch 10/10\n",
      "241/241 [==============================] - 4s 16ms/step - loss: 955.7413 - mean_squared_error: 5936958.5000 - mean_absolute_error: 955.7413\n",
      "WARNING:tensorflow:Model was constructed with shape (None, None, 102) for input KerasTensor(type_spec=TensorSpec(shape=(None, None, 102), dtype=tf.float32, name='dense_392_input'), name='dense_392_input', description=\"created by layer 'dense_392_input'\"), but it was called on an input with incompatible shape (None, 102).\n"
     ]
    },
    {
     "name": "stderr",
     "output_type": "stream",
     "text": [
      "2022-12-16 13:50:36.359008: I tensorflow/core/grappler/optimizers/custom_graph_optimizer_registry.cc:114] Plugin optimizer for device_type GPU is enabled.\n"
     ]
    },
    {
     "name": "stdout",
     "output_type": "stream",
     "text": [
      "241/241 [==============================] - 2s 7ms/step - loss: 1173.1709 - mean_squared_error: 6284281.5000 - mean_absolute_error: 1173.1709\n",
      "41/41 [==============================] - 0s 11ms/step - loss: 1335.3422 - mean_squared_error: 4878297.0000 - mean_absolute_error: 1335.3422\n",
      "Epoch 1/10\n",
      "WARNING:tensorflow:Model was constructed with shape (None, None, 102) for input KerasTensor(type_spec=TensorSpec(shape=(None, None, 102), dtype=tf.float32, name='dense_400_input'), name='dense_400_input', description=\"created by layer 'dense_400_input'\"), but it was called on an input with incompatible shape (None, 102).\n",
      "WARNING:tensorflow:Model was constructed with shape (None, None, 102) for input KerasTensor(type_spec=TensorSpec(shape=(None, None, 102), dtype=tf.float32, name='dense_400_input'), name='dense_400_input', description=\"created by layer 'dense_400_input'\"), but it was called on an input with incompatible shape (None, 102).\n"
     ]
    },
    {
     "name": "stderr",
     "output_type": "stream",
     "text": [
      "2022-12-16 13:50:39.454139: I tensorflow/core/grappler/optimizers/custom_graph_optimizer_registry.cc:114] Plugin optimizer for device_type GPU is enabled.\n"
     ]
    },
    {
     "name": "stdout",
     "output_type": "stream",
     "text": [
      "272/272 [==============================] - 8s 21ms/step - loss: 9607.0127 - mean_squared_error: 294237696.0000 - mean_absolute_error: 9607.0127\n",
      "Epoch 2/10\n",
      "272/272 [==============================] - 4s 16ms/step - loss: 5408.1826 - mean_squared_error: 106447064.0000 - mean_absolute_error: 5408.1826\n",
      "Epoch 3/10\n",
      "272/272 [==============================] - 4s 16ms/step - loss: 5067.0654 - mean_squared_error: 101503336.0000 - mean_absolute_error: 5067.0654\n",
      "Epoch 4/10\n",
      "272/272 [==============================] - 4s 16ms/step - loss: 4741.8867 - mean_squared_error: 95168744.0000 - mean_absolute_error: 4741.8867\n",
      "Epoch 5/10\n",
      "272/272 [==============================] - 4s 15ms/step - loss: 4601.2573 - mean_squared_error: 90957208.0000 - mean_absolute_error: 4601.2573\n",
      "Epoch 6/10\n",
      "272/272 [==============================] - 4s 15ms/step - loss: 4450.1602 - mean_squared_error: 90387608.0000 - mean_absolute_error: 4450.1602\n",
      "Epoch 7/10\n",
      "272/272 [==============================] - 4s 15ms/step - loss: 4299.1880 - mean_squared_error: 83110192.0000 - mean_absolute_error: 4299.1880\n",
      "Epoch 8/10\n",
      "272/272 [==============================] - 4s 15ms/step - loss: 4163.3701 - mean_squared_error: 83306616.0000 - mean_absolute_error: 4163.3701\n",
      "Epoch 9/10\n",
      "272/272 [==============================] - 4s 15ms/step - loss: 4051.9397 - mean_squared_error: 77471760.0000 - mean_absolute_error: 4051.9397\n",
      "Epoch 10/10\n",
      "272/272 [==============================] - 4s 15ms/step - loss: 4027.7415 - mean_squared_error: 79183824.0000 - mean_absolute_error: 4027.7415\n",
      "WARNING:tensorflow:Model was constructed with shape (None, None, 102) for input KerasTensor(type_spec=TensorSpec(shape=(None, None, 102), dtype=tf.float32, name='dense_400_input'), name='dense_400_input', description=\"created by layer 'dense_400_input'\"), but it was called on an input with incompatible shape (None, 102).\n"
     ]
    },
    {
     "name": "stderr",
     "output_type": "stream",
     "text": [
      "2022-12-16 13:51:25.435011: I tensorflow/core/grappler/optimizers/custom_graph_optimizer_registry.cc:114] Plugin optimizer for device_type GPU is enabled.\n"
     ]
    },
    {
     "name": "stdout",
     "output_type": "stream",
     "text": [
      "272/272 [==============================] - 2s 7ms/step - loss: 3372.1013 - mean_squared_error: 65282908.0000 - mean_absolute_error: 3372.1013\n",
      "47/47 [==============================] - 0s 10ms/step - loss: 3963.8633 - mean_squared_error: 35925628.0000 - mean_absolute_error: 3963.8633\n",
      "Epoch 1/10\n",
      "WARNING:tensorflow:Model was constructed with shape (None, None, 102) for input KerasTensor(type_spec=TensorSpec(shape=(None, None, 102), dtype=tf.float32, name='dense_408_input'), name='dense_408_input', description=\"created by layer 'dense_408_input'\"), but it was called on an input with incompatible shape (None, 102).\n",
      "WARNING:tensorflow:Model was constructed with shape (None, None, 102) for input KerasTensor(type_spec=TensorSpec(shape=(None, None, 102), dtype=tf.float32, name='dense_408_input'), name='dense_408_input', description=\"created by layer 'dense_408_input'\"), but it was called on an input with incompatible shape (None, 102).\n"
     ]
    },
    {
     "name": "stderr",
     "output_type": "stream",
     "text": [
      "2022-12-16 13:51:28.551840: I tensorflow/core/grappler/optimizers/custom_graph_optimizer_registry.cc:114] Plugin optimizer for device_type GPU is enabled.\n"
     ]
    },
    {
     "name": "stdout",
     "output_type": "stream",
     "text": [
      "260/260 [==============================] - 8s 21ms/step - loss: 4006.1641 - mean_squared_error: 66132616.0000 - mean_absolute_error: 4006.1641\n",
      "Epoch 2/10\n",
      "260/260 [==============================] - 4s 16ms/step - loss: 2500.8591 - mean_squared_error: 31322682.0000 - mean_absolute_error: 2500.8591\n",
      "Epoch 3/10\n",
      "260/260 [==============================] - 4s 16ms/step - loss: 2303.7578 - mean_squared_error: 27772374.0000 - mean_absolute_error: 2303.7578\n",
      "Epoch 4/10\n",
      "260/260 [==============================] - 4s 16ms/step - loss: 2122.7075 - mean_squared_error: 24431154.0000 - mean_absolute_error: 2122.7075\n",
      "Epoch 5/10\n",
      "260/260 [==============================] - 4s 16ms/step - loss: 1979.2743 - mean_squared_error: 21797328.0000 - mean_absolute_error: 1979.2743\n",
      "Epoch 6/10\n",
      "260/260 [==============================] - 4s 16ms/step - loss: 1920.2520 - mean_squared_error: 21546658.0000 - mean_absolute_error: 1920.2520\n",
      "Epoch 7/10\n",
      "260/260 [==============================] - 4s 16ms/step - loss: 1841.5386 - mean_squared_error: 20442080.0000 - mean_absolute_error: 1841.5386\n",
      "Epoch 8/10\n",
      "260/260 [==============================] - 4s 16ms/step - loss: 1820.4534 - mean_squared_error: 20349260.0000 - mean_absolute_error: 1820.4534\n",
      "Epoch 9/10\n",
      "260/260 [==============================] - 4s 16ms/step - loss: 1727.6257 - mean_squared_error: 18718518.0000 - mean_absolute_error: 1727.6257\n",
      "Epoch 10/10\n",
      "260/260 [==============================] - 4s 16ms/step - loss: 1713.5828 - mean_squared_error: 19179742.0000 - mean_absolute_error: 1713.5828\n",
      "WARNING:tensorflow:Model was constructed with shape (None, None, 102) for input KerasTensor(type_spec=TensorSpec(shape=(None, None, 102), dtype=tf.float32, name='dense_408_input'), name='dense_408_input', description=\"created by layer 'dense_408_input'\"), but it was called on an input with incompatible shape (None, 102).\n"
     ]
    },
    {
     "name": "stderr",
     "output_type": "stream",
     "text": [
      "2022-12-16 13:52:13.314891: I tensorflow/core/grappler/optimizers/custom_graph_optimizer_registry.cc:114] Plugin optimizer for device_type GPU is enabled.\n"
     ]
    },
    {
     "name": "stdout",
     "output_type": "stream",
     "text": [
      "260/260 [==============================] - 2s 7ms/step - loss: 1667.5468 - mean_squared_error: 17437052.0000 - mean_absolute_error: 1667.5468\n",
      "45/45 [==============================] - 0s 9ms/step - loss: 1865.8754 - mean_squared_error: 14224491.0000 - mean_absolute_error: 1865.8754\n",
      "Epoch 1/10\n",
      "WARNING:tensorflow:Model was constructed with shape (None, None, 102) for input KerasTensor(type_spec=TensorSpec(shape=(None, None, 102), dtype=tf.float32, name='dense_416_input'), name='dense_416_input', description=\"created by layer 'dense_416_input'\"), but it was called on an input with incompatible shape (None, 102).\n",
      "WARNING:tensorflow:Model was constructed with shape (None, None, 102) for input KerasTensor(type_spec=TensorSpec(shape=(None, None, 102), dtype=tf.float32, name='dense_416_input'), name='dense_416_input', description=\"created by layer 'dense_416_input'\"), but it was called on an input with incompatible shape (None, 102).\n"
     ]
    },
    {
     "name": "stderr",
     "output_type": "stream",
     "text": [
      "2022-12-16 13:52:16.429501: I tensorflow/core/grappler/optimizers/custom_graph_optimizer_registry.cc:114] Plugin optimizer for device_type GPU is enabled.\n"
     ]
    },
    {
     "name": "stdout",
     "output_type": "stream",
     "text": [
      "264/264 [==============================] - 8s 21ms/step - loss: 6046.5796 - mean_squared_error: 118850384.0000 - mean_absolute_error: 6046.5796\n",
      "Epoch 2/10\n",
      "264/264 [==============================] - 4s 16ms/step - loss: 3374.8796 - mean_squared_error: 40177968.0000 - mean_absolute_error: 3374.8796\n",
      "Epoch 3/10\n",
      "264/264 [==============================] - 4s 16ms/step - loss: 3145.4167 - mean_squared_error: 36041668.0000 - mean_absolute_error: 3145.4167\n",
      "Epoch 4/10\n",
      "264/264 [==============================] - 4s 16ms/step - loss: 2978.3218 - mean_squared_error: 34534756.0000 - mean_absolute_error: 2978.3218\n",
      "Epoch 5/10\n",
      "264/264 [==============================] - 4s 16ms/step - loss: 2797.6006 - mean_squared_error: 31353116.0000 - mean_absolute_error: 2797.6006\n",
      "Epoch 6/10\n",
      "264/264 [==============================] - 4s 16ms/step - loss: 2660.4099 - mean_squared_error: 29846496.0000 - mean_absolute_error: 2660.4099\n",
      "Epoch 7/10\n",
      "264/264 [==============================] - 4s 16ms/step - loss: 2571.9116 - mean_squared_error: 28391986.0000 - mean_absolute_error: 2571.9116\n",
      "Epoch 8/10\n",
      "264/264 [==============================] - 4s 16ms/step - loss: 2498.8535 - mean_squared_error: 27017210.0000 - mean_absolute_error: 2498.8535\n",
      "Epoch 9/10\n",
      "264/264 [==============================] - 4s 16ms/step - loss: 2397.3762 - mean_squared_error: 26297162.0000 - mean_absolute_error: 2397.3762\n",
      "Epoch 10/10\n",
      "264/264 [==============================] - 4s 16ms/step - loss: 2352.4080 - mean_squared_error: 25032612.0000 - mean_absolute_error: 2352.4080\n",
      "WARNING:tensorflow:Model was constructed with shape (None, None, 102) for input KerasTensor(type_spec=TensorSpec(shape=(None, None, 102), dtype=tf.float32, name='dense_416_input'), name='dense_416_input', description=\"created by layer 'dense_416_input'\"), but it was called on an input with incompatible shape (None, 102).\n"
     ]
    },
    {
     "name": "stderr",
     "output_type": "stream",
     "text": [
      "2022-12-16 13:53:01.948223: I tensorflow/core/grappler/optimizers/custom_graph_optimizer_registry.cc:114] Plugin optimizer for device_type GPU is enabled.\n"
     ]
    },
    {
     "name": "stdout",
     "output_type": "stream",
     "text": [
      "264/264 [==============================] - 2s 7ms/step - loss: 2034.1636 - mean_squared_error: 22518394.0000 - mean_absolute_error: 2034.1636\n",
      "46/46 [==============================] - 0s 9ms/step - loss: 2237.4155 - mean_squared_error: 14732416.0000 - mean_absolute_error: 2237.4155\n",
      "Epoch 1/10\n",
      "WARNING:tensorflow:Model was constructed with shape (None, None, 102) for input KerasTensor(type_spec=TensorSpec(shape=(None, None, 102), dtype=tf.float32, name='dense_424_input'), name='dense_424_input', description=\"created by layer 'dense_424_input'\"), but it was called on an input with incompatible shape (None, 102).\n",
      "WARNING:tensorflow:Model was constructed with shape (None, None, 102) for input KerasTensor(type_spec=TensorSpec(shape=(None, None, 102), dtype=tf.float32, name='dense_424_input'), name='dense_424_input', description=\"created by layer 'dense_424_input'\"), but it was called on an input with incompatible shape (None, 102).\n"
     ]
    },
    {
     "name": "stderr",
     "output_type": "stream",
     "text": [
      "2022-12-16 13:53:05.088215: I tensorflow/core/grappler/optimizers/custom_graph_optimizer_registry.cc:114] Plugin optimizer for device_type GPU is enabled.\n"
     ]
    },
    {
     "name": "stdout",
     "output_type": "stream",
     "text": [
      "236/236 [==============================] - 8s 21ms/step - loss: 4461.5151 - mean_squared_error: 102639944.0000 - mean_absolute_error: 4461.5151\n",
      "Epoch 2/10\n",
      "236/236 [==============================] - 4s 16ms/step - loss: 2349.6448 - mean_squared_error: 24522864.0000 - mean_absolute_error: 2349.6448\n",
      "Epoch 3/10\n",
      "236/236 [==============================] - 4s 16ms/step - loss: 2102.6194 - mean_squared_error: 19768832.0000 - mean_absolute_error: 2102.6194\n",
      "Epoch 4/10\n",
      "236/236 [==============================] - 4s 16ms/step - loss: 2010.7639 - mean_squared_error: 19310524.0000 - mean_absolute_error: 2010.7639\n",
      "Epoch 5/10\n",
      "236/236 [==============================] - 4s 16ms/step - loss: 1939.7869 - mean_squared_error: 18835104.0000 - mean_absolute_error: 1939.7869\n",
      "Epoch 6/10\n",
      "236/236 [==============================] - 4s 16ms/step - loss: 1872.3733 - mean_squared_error: 17789146.0000 - mean_absolute_error: 1872.3733\n",
      "Epoch 7/10\n",
      "236/236 [==============================] - 4s 16ms/step - loss: 1822.6017 - mean_squared_error: 17259626.0000 - mean_absolute_error: 1822.6017\n",
      "Epoch 8/10\n",
      "236/236 [==============================] - 4s 16ms/step - loss: 1787.6293 - mean_squared_error: 16983036.0000 - mean_absolute_error: 1787.6293\n",
      "Epoch 9/10\n",
      "236/236 [==============================] - 4s 16ms/step - loss: 1786.8308 - mean_squared_error: 16384625.0000 - mean_absolute_error: 1786.8308\n",
      "Epoch 10/10\n",
      "236/236 [==============================] - 4s 16ms/step - loss: 1703.7284 - mean_squared_error: 15984111.0000 - mean_absolute_error: 1703.7284\n",
      "WARNING:tensorflow:Model was constructed with shape (None, None, 102) for input KerasTensor(type_spec=TensorSpec(shape=(None, None, 102), dtype=tf.float32, name='dense_424_input'), name='dense_424_input', description=\"created by layer 'dense_424_input'\"), but it was called on an input with incompatible shape (None, 102).\n"
     ]
    },
    {
     "name": "stderr",
     "output_type": "stream",
     "text": [
      "2022-12-16 13:53:46.331882: I tensorflow/core/grappler/optimizers/custom_graph_optimizer_registry.cc:114] Plugin optimizer for device_type GPU is enabled.\n"
     ]
    },
    {
     "name": "stdout",
     "output_type": "stream",
     "text": [
      "236/236 [==============================] - 2s 7ms/step - loss: 2903.9680 - mean_squared_error: 25050906.0000 - mean_absolute_error: 2903.9680\n",
      "41/41 [==============================] - 0s 11ms/step - loss: 2436.6128 - mean_squared_error: 15913871.0000 - mean_absolute_error: 2436.6128\n",
      "Epoch 1/10\n",
      "WARNING:tensorflow:Model was constructed with shape (None, None, 102) for input KerasTensor(type_spec=TensorSpec(shape=(None, None, 102), dtype=tf.float32, name='dense_432_input'), name='dense_432_input', description=\"created by layer 'dense_432_input'\"), but it was called on an input with incompatible shape (None, 102).\n",
      "WARNING:tensorflow:Model was constructed with shape (None, None, 102) for input KerasTensor(type_spec=TensorSpec(shape=(None, None, 102), dtype=tf.float32, name='dense_432_input'), name='dense_432_input', description=\"created by layer 'dense_432_input'\"), but it was called on an input with incompatible shape (None, 102).\n"
     ]
    },
    {
     "name": "stderr",
     "output_type": "stream",
     "text": [
      "2022-12-16 13:53:49.333357: I tensorflow/core/grappler/optimizers/custom_graph_optimizer_registry.cc:114] Plugin optimizer for device_type GPU is enabled.\n"
     ]
    },
    {
     "name": "stdout",
     "output_type": "stream",
     "text": [
      "275/275 [==============================] - 8s 20ms/step - loss: 12394.9932 - mean_squared_error: 637222720.0000 - mean_absolute_error: 12394.9932\n",
      "Epoch 2/10\n",
      "275/275 [==============================] - 4s 16ms/step - loss: 6335.0195 - mean_squared_error: 255095648.0000 - mean_absolute_error: 6335.0195\n",
      "Epoch 3/10\n",
      "275/275 [==============================] - 4s 16ms/step - loss: 5937.7817 - mean_squared_error: 243019808.0000 - mean_absolute_error: 5937.7817\n",
      "Epoch 4/10\n",
      "275/275 [==============================] - 4s 16ms/step - loss: 5692.9526 - mean_squared_error: 234848528.0000 - mean_absolute_error: 5692.9526\n",
      "Epoch 5/10\n",
      "275/275 [==============================] - 4s 16ms/step - loss: 5526.0366 - mean_squared_error: 235251664.0000 - mean_absolute_error: 5526.0366\n",
      "Epoch 6/10\n",
      "275/275 [==============================] - 4s 16ms/step - loss: 5328.5479 - mean_squared_error: 227156848.0000 - mean_absolute_error: 5328.5479\n",
      "Epoch 7/10\n",
      "275/275 [==============================] - 4s 16ms/step - loss: 5127.4941 - mean_squared_error: 228834944.0000 - mean_absolute_error: 5127.4941\n",
      "Epoch 8/10\n",
      "275/275 [==============================] - 4s 16ms/step - loss: 5090.0620 - mean_squared_error: 226922640.0000 - mean_absolute_error: 5090.0620\n",
      "Epoch 9/10\n",
      "275/275 [==============================] - 4s 16ms/step - loss: 4935.5161 - mean_squared_error: 211436688.0000 - mean_absolute_error: 4935.5161\n",
      "Epoch 10/10\n",
      "275/275 [==============================] - 4s 16ms/step - loss: 4818.2852 - mean_squared_error: 212576416.0000 - mean_absolute_error: 4818.2852\n",
      "WARNING:tensorflow:Model was constructed with shape (None, None, 102) for input KerasTensor(type_spec=TensorSpec(shape=(None, None, 102), dtype=tf.float32, name='dense_432_input'), name='dense_432_input', description=\"created by layer 'dense_432_input'\"), but it was called on an input with incompatible shape (None, 102).\n"
     ]
    },
    {
     "name": "stderr",
     "output_type": "stream",
     "text": [
      "2022-12-16 13:54:36.885324: I tensorflow/core/grappler/optimizers/custom_graph_optimizer_registry.cc:114] Plugin optimizer for device_type GPU is enabled.\n"
     ]
    },
    {
     "name": "stdout",
     "output_type": "stream",
     "text": [
      "275/275 [==============================] - 2s 7ms/step - loss: 4398.8477 - mean_squared_error: 189573584.0000 - mean_absolute_error: 4398.8477\n",
      "47/47 [==============================] - 0s 10ms/step - loss: 4632.9067 - mean_squared_error: 64865964.0000 - mean_absolute_error: 4632.9067\n",
      "Epoch 1/10\n",
      "WARNING:tensorflow:Model was constructed with shape (None, None, 102) for input KerasTensor(type_spec=TensorSpec(shape=(None, None, 102), dtype=tf.float32, name='dense_440_input'), name='dense_440_input', description=\"created by layer 'dense_440_input'\"), but it was called on an input with incompatible shape (None, 102).\n",
      "WARNING:tensorflow:Model was constructed with shape (None, None, 102) for input KerasTensor(type_spec=TensorSpec(shape=(None, None, 102), dtype=tf.float32, name='dense_440_input'), name='dense_440_input', description=\"created by layer 'dense_440_input'\"), but it was called on an input with incompatible shape (None, 102).\n"
     ]
    },
    {
     "name": "stderr",
     "output_type": "stream",
     "text": [
      "2022-12-16 13:54:40.188469: I tensorflow/core/grappler/optimizers/custom_graph_optimizer_registry.cc:114] Plugin optimizer for device_type GPU is enabled.\n"
     ]
    },
    {
     "name": "stdout",
     "output_type": "stream",
     "text": [
      "268/268 [==============================] - 8s 21ms/step - loss: 8142.3975 - mean_squared_error: 218165136.0000 - mean_absolute_error: 8142.3975\n",
      "Epoch 2/10\n",
      "268/268 [==============================] - 4s 16ms/step - loss: 4536.4312 - mean_squared_error: 78666584.0000 - mean_absolute_error: 4536.4312\n",
      "Epoch 3/10\n",
      "268/268 [==============================] - 4s 16ms/step - loss: 4181.5840 - mean_squared_error: 72042824.0000 - mean_absolute_error: 4181.5840\n",
      "Epoch 4/10\n",
      "268/268 [==============================] - 4s 16ms/step - loss: 4034.9453 - mean_squared_error: 69103016.0000 - mean_absolute_error: 4034.9453\n",
      "Epoch 5/10\n",
      "268/268 [==============================] - 4s 16ms/step - loss: 3853.6108 - mean_squared_error: 66120852.0000 - mean_absolute_error: 3853.6108\n",
      "Epoch 6/10\n",
      "268/268 [==============================] - 4s 16ms/step - loss: 3687.7576 - mean_squared_error: 63141216.0000 - mean_absolute_error: 3687.7576\n",
      "Epoch 7/10\n",
      "268/268 [==============================] - 4s 16ms/step - loss: 3537.7766 - mean_squared_error: 61575788.0000 - mean_absolute_error: 3537.7766\n",
      "Epoch 8/10\n",
      "268/268 [==============================] - 4s 16ms/step - loss: 3510.4805 - mean_squared_error: 60892776.0000 - mean_absolute_error: 3510.4805\n",
      "Epoch 9/10\n",
      "268/268 [==============================] - 4s 16ms/step - loss: 3442.3586 - mean_squared_error: 57364496.0000 - mean_absolute_error: 3442.3586\n",
      "Epoch 10/10\n",
      "268/268 [==============================] - 4s 16ms/step - loss: 3324.2488 - mean_squared_error: 57694356.0000 - mean_absolute_error: 3324.2488\n",
      "WARNING:tensorflow:Model was constructed with shape (None, None, 102) for input KerasTensor(type_spec=TensorSpec(shape=(None, None, 102), dtype=tf.float32, name='dense_440_input'), name='dense_440_input', description=\"created by layer 'dense_440_input'\"), but it was called on an input with incompatible shape (None, 102).\n"
     ]
    },
    {
     "name": "stderr",
     "output_type": "stream",
     "text": [
      "2022-12-16 13:55:26.221684: I tensorflow/core/grappler/optimizers/custom_graph_optimizer_registry.cc:114] Plugin optimizer for device_type GPU is enabled.\n"
     ]
    },
    {
     "name": "stdout",
     "output_type": "stream",
     "text": [
      "268/268 [==============================] - 2s 7ms/step - loss: 2688.8154 - mean_squared_error: 47405476.0000 - mean_absolute_error: 2688.8154\n",
      "47/47 [==============================] - 0s 10ms/step - loss: 2395.2273 - mean_squared_error: 18980470.0000 - mean_absolute_error: 2395.2273\n",
      "Epoch 1/10\n",
      "WARNING:tensorflow:Model was constructed with shape (None, None, 102) for input KerasTensor(type_spec=TensorSpec(shape=(None, None, 102), dtype=tf.float32, name='dense_448_input'), name='dense_448_input', description=\"created by layer 'dense_448_input'\"), but it was called on an input with incompatible shape (None, 102).\n",
      "WARNING:tensorflow:Model was constructed with shape (None, None, 102) for input KerasTensor(type_spec=TensorSpec(shape=(None, None, 102), dtype=tf.float32, name='dense_448_input'), name='dense_448_input', description=\"created by layer 'dense_448_input'\"), but it was called on an input with incompatible shape (None, 102).\n"
     ]
    },
    {
     "name": "stderr",
     "output_type": "stream",
     "text": [
      "2022-12-16 13:55:29.463136: I tensorflow/core/grappler/optimizers/custom_graph_optimizer_registry.cc:114] Plugin optimizer for device_type GPU is enabled.\n"
     ]
    },
    {
     "name": "stdout",
     "output_type": "stream",
     "text": [
      "258/258 [==============================] - 8s 21ms/step - loss: 6962.6084 - mean_squared_error: 188520112.0000 - mean_absolute_error: 6962.6084\n",
      "Epoch 2/10\n",
      "258/258 [==============================] - 4s 16ms/step - loss: 3770.1616 - mean_squared_error: 81414424.0000 - mean_absolute_error: 3770.1616\n",
      "Epoch 3/10\n",
      "258/258 [==============================] - 4s 16ms/step - loss: 3470.6609 - mean_squared_error: 74781352.0000 - mean_absolute_error: 3470.6609\n",
      "Epoch 4/10\n",
      "258/258 [==============================] - 4s 16ms/step - loss: 3271.4819 - mean_squared_error: 74202144.0000 - mean_absolute_error: 3271.4819\n",
      "Epoch 5/10\n",
      "258/258 [==============================] - 4s 16ms/step - loss: 3142.5559 - mean_squared_error: 70706064.0000 - mean_absolute_error: 3142.5559\n",
      "Epoch 6/10\n",
      "258/258 [==============================] - 4s 16ms/step - loss: 3000.8157 - mean_squared_error: 68795144.0000 - mean_absolute_error: 3000.8157\n",
      "Epoch 7/10\n",
      "258/258 [==============================] - 4s 16ms/step - loss: 2925.7507 - mean_squared_error: 68760040.0000 - mean_absolute_error: 2925.7507\n",
      "Epoch 8/10\n",
      "258/258 [==============================] - 4s 16ms/step - loss: 2805.6582 - mean_squared_error: 68305736.0000 - mean_absolute_error: 2805.6582\n",
      "Epoch 9/10\n",
      "258/258 [==============================] - 4s 16ms/step - loss: 2739.9165 - mean_squared_error: 65303484.0000 - mean_absolute_error: 2739.9165\n",
      "Epoch 10/10\n",
      "258/258 [==============================] - 4s 16ms/step - loss: 2682.2073 - mean_squared_error: 63751716.0000 - mean_absolute_error: 2682.2073\n",
      "WARNING:tensorflow:Model was constructed with shape (None, None, 102) for input KerasTensor(type_spec=TensorSpec(shape=(None, None, 102), dtype=tf.float32, name='dense_448_input'), name='dense_448_input', description=\"created by layer 'dense_448_input'\"), but it was called on an input with incompatible shape (None, 102).\n"
     ]
    },
    {
     "name": "stderr",
     "output_type": "stream",
     "text": [
      "2022-12-16 13:56:13.857293: I tensorflow/core/grappler/optimizers/custom_graph_optimizer_registry.cc:114] Plugin optimizer for device_type GPU is enabled.\n"
     ]
    },
    {
     "name": "stdout",
     "output_type": "stream",
     "text": [
      "258/258 [==============================] - 2s 7ms/step - loss: 3662.2986 - mean_squared_error: 71197440.0000 - mean_absolute_error: 3662.2986\n",
      "45/45 [==============================] - 0s 10ms/step - loss: 2879.6929 - mean_squared_error: 32056298.0000 - mean_absolute_error: 2879.6929\n",
      "Epoch 1/10\n",
      "WARNING:tensorflow:Model was constructed with shape (None, None, 102) for input KerasTensor(type_spec=TensorSpec(shape=(None, None, 102), dtype=tf.float32, name='dense_456_input'), name='dense_456_input', description=\"created by layer 'dense_456_input'\"), but it was called on an input with incompatible shape (None, 103).\n",
      "Epoch 1/10\n",
      "WARNING:tensorflow:Model was constructed with shape (None, None, 102) for input KerasTensor(type_spec=TensorSpec(shape=(None, None, 102), dtype=tf.float32, name='dense_464_input'), name='dense_464_input', description=\"created by layer 'dense_464_input'\"), but it was called on an input with incompatible shape (None, 103).\n",
      "Epoch 1/10\n",
      "WARNING:tensorflow:Model was constructed with shape (None, None, 102) for input KerasTensor(type_spec=TensorSpec(shape=(None, None, 102), dtype=tf.float32, name='dense_472_input'), name='dense_472_input', description=\"created by layer 'dense_472_input'\"), but it was called on an input with incompatible shape (None, 103).\n",
      "Epoch 1/10\n",
      "WARNING:tensorflow:Model was constructed with shape (None, None, 102) for input KerasTensor(type_spec=TensorSpec(shape=(None, None, 102), dtype=tf.float32, name='dense_480_input'), name='dense_480_input', description=\"created by layer 'dense_480_input'\"), but it was called on an input with incompatible shape (None, 102).\n",
      "WARNING:tensorflow:Model was constructed with shape (None, None, 102) for input KerasTensor(type_spec=TensorSpec(shape=(None, None, 102), dtype=tf.float32, name='dense_480_input'), name='dense_480_input', description=\"created by layer 'dense_480_input'\"), but it was called on an input with incompatible shape (None, 102).\n"
     ]
    },
    {
     "name": "stderr",
     "output_type": "stream",
     "text": [
      "2022-12-16 13:56:17.512151: I tensorflow/core/grappler/optimizers/custom_graph_optimizer_registry.cc:114] Plugin optimizer for device_type GPU is enabled.\n"
     ]
    },
    {
     "name": "stdout",
     "output_type": "stream",
     "text": [
      "250/250 [==============================] - 8s 21ms/step - loss: 3836.7832 - mean_squared_error: 61996716.0000 - mean_absolute_error: 3836.7832\n",
      "Epoch 2/10\n",
      "250/250 [==============================] - 4s 16ms/step - loss: 2364.7419 - mean_squared_error: 27737760.0000 - mean_absolute_error: 2364.7419\n",
      "Epoch 3/10\n",
      "250/250 [==============================] - 4s 16ms/step - loss: 2131.3674 - mean_squared_error: 24681206.0000 - mean_absolute_error: 2131.3674\n",
      "Epoch 4/10\n",
      "250/250 [==============================] - 4s 16ms/step - loss: 1965.4468 - mean_squared_error: 21184760.0000 - mean_absolute_error: 1965.4468\n",
      "Epoch 5/10\n",
      "250/250 [==============================] - 4s 16ms/step - loss: 1897.3815 - mean_squared_error: 20960132.0000 - mean_absolute_error: 1897.3815\n",
      "Epoch 6/10\n",
      "250/250 [==============================] - 4s 16ms/step - loss: 1794.5139 - mean_squared_error: 18692550.0000 - mean_absolute_error: 1794.5139\n",
      "Epoch 7/10\n",
      "250/250 [==============================] - 4s 16ms/step - loss: 1717.2192 - mean_squared_error: 17781228.0000 - mean_absolute_error: 1717.2192\n",
      "Epoch 8/10\n",
      "250/250 [==============================] - 4s 16ms/step - loss: 1717.4791 - mean_squared_error: 17780730.0000 - mean_absolute_error: 1717.4791\n",
      "Epoch 9/10\n",
      "250/250 [==============================] - 4s 16ms/step - loss: 1638.4423 - mean_squared_error: 17159308.0000 - mean_absolute_error: 1638.4423\n",
      "Epoch 10/10\n",
      "250/250 [==============================] - 4s 16ms/step - loss: 1596.7061 - mean_squared_error: 16426972.0000 - mean_absolute_error: 1596.7061\n",
      "WARNING:tensorflow:Model was constructed with shape (None, None, 102) for input KerasTensor(type_spec=TensorSpec(shape=(None, None, 102), dtype=tf.float32, name='dense_480_input'), name='dense_480_input', description=\"created by layer 'dense_480_input'\"), but it was called on an input with incompatible shape (None, 102).\n"
     ]
    },
    {
     "name": "stderr",
     "output_type": "stream",
     "text": [
      "2022-12-16 13:57:00.998000: I tensorflow/core/grappler/optimizers/custom_graph_optimizer_registry.cc:114] Plugin optimizer for device_type GPU is enabled.\n"
     ]
    },
    {
     "name": "stdout",
     "output_type": "stream",
     "text": [
      "250/250 [==============================] - 2s 7ms/step - loss: 2542.2878 - mean_squared_error: 29173892.0000 - mean_absolute_error: 2542.2878\n",
      "45/45 [==============================] - 0s 9ms/step - loss: 2814.4961 - mean_squared_error: 31466462.0000 - mean_absolute_error: 2814.4961\n",
      "Epoch 1/10\n",
      "WARNING:tensorflow:Model was constructed with shape (None, None, 102) for input KerasTensor(type_spec=TensorSpec(shape=(None, None, 102), dtype=tf.float32, name='dense_488_input'), name='dense_488_input', description=\"created by layer 'dense_488_input'\"), but it was called on an input with incompatible shape (None, 102).\n",
      "WARNING:tensorflow:Model was constructed with shape (None, None, 102) for input KerasTensor(type_spec=TensorSpec(shape=(None, None, 102), dtype=tf.float32, name='dense_488_input'), name='dense_488_input', description=\"created by layer 'dense_488_input'\"), but it was called on an input with incompatible shape (None, 102).\n"
     ]
    },
    {
     "name": "stderr",
     "output_type": "stream",
     "text": [
      "2022-12-16 13:57:04.060356: I tensorflow/core/grappler/optimizers/custom_graph_optimizer_registry.cc:114] Plugin optimizer for device_type GPU is enabled.\n"
     ]
    },
    {
     "name": "stdout",
     "output_type": "stream",
     "text": [
      "262/262 [==============================] - 8s 21ms/step - loss: 6180.5972 - mean_squared_error: 144503056.0000 - mean_absolute_error: 6180.5972\n",
      "Epoch 2/10\n",
      "262/262 [==============================] - 4s 16ms/step - loss: 3274.4136 - mean_squared_error: 44102588.0000 - mean_absolute_error: 3274.4136\n",
      "Epoch 3/10\n",
      "262/262 [==============================] - 4s 16ms/step - loss: 3119.1226 - mean_squared_error: 43458884.0000 - mean_absolute_error: 3119.1226\n",
      "Epoch 4/10\n",
      "262/262 [==============================] - 4s 16ms/step - loss: 2940.9370 - mean_squared_error: 38750100.0000 - mean_absolute_error: 2940.9370\n",
      "Epoch 5/10\n",
      "262/262 [==============================] - 4s 16ms/step - loss: 2878.4153 - mean_squared_error: 37754124.0000 - mean_absolute_error: 2878.4153\n",
      "Epoch 6/10\n",
      "262/262 [==============================] - 4s 16ms/step - loss: 2748.7629 - mean_squared_error: 35765416.0000 - mean_absolute_error: 2748.7629\n",
      "Epoch 7/10\n",
      "262/262 [==============================] - 4s 16ms/step - loss: 2675.0227 - mean_squared_error: 35145024.0000 - mean_absolute_error: 2675.0227\n",
      "Epoch 8/10\n",
      "262/262 [==============================] - 4s 16ms/step - loss: 2599.9978 - mean_squared_error: 33135606.0000 - mean_absolute_error: 2599.9978\n",
      "Epoch 9/10\n",
      "262/262 [==============================] - 4s 16ms/step - loss: 2610.4375 - mean_squared_error: 34858980.0000 - mean_absolute_error: 2610.4375\n",
      "Epoch 10/10\n",
      "262/262 [==============================] - 4s 16ms/step - loss: 2528.6743 - mean_squared_error: 33188826.0000 - mean_absolute_error: 2528.6743\n",
      "WARNING:tensorflow:Model was constructed with shape (None, None, 102) for input KerasTensor(type_spec=TensorSpec(shape=(None, None, 102), dtype=tf.float32, name='dense_488_input'), name='dense_488_input', description=\"created by layer 'dense_488_input'\"), but it was called on an input with incompatible shape (None, 102).\n"
     ]
    },
    {
     "name": "stderr",
     "output_type": "stream",
     "text": [
      "2022-12-16 13:57:49.330242: I tensorflow/core/grappler/optimizers/custom_graph_optimizer_registry.cc:114] Plugin optimizer for device_type GPU is enabled.\n"
     ]
    },
    {
     "name": "stdout",
     "output_type": "stream",
     "text": [
      "262/262 [==============================] - 2s 7ms/step - loss: 3065.3843 - mean_squared_error: 35103720.0000 - mean_absolute_error: 3065.3843\n",
      "46/46 [==============================] - 1s 11ms/step - loss: 3108.3933 - mean_squared_error: 27025116.0000 - mean_absolute_error: 3108.3933\n",
      "Epoch 1/10\n",
      "WARNING:tensorflow:Model was constructed with shape (None, None, 102) for input KerasTensor(type_spec=TensorSpec(shape=(None, None, 102), dtype=tf.float32, name='dense_496_input'), name='dense_496_input', description=\"created by layer 'dense_496_input'\"), but it was called on an input with incompatible shape (None, 102).\n",
      "WARNING:tensorflow:Model was constructed with shape (None, None, 102) for input KerasTensor(type_spec=TensorSpec(shape=(None, None, 102), dtype=tf.float32, name='dense_496_input'), name='dense_496_input', description=\"created by layer 'dense_496_input'\"), but it was called on an input with incompatible shape (None, 102).\n"
     ]
    },
    {
     "name": "stderr",
     "output_type": "stream",
     "text": [
      "2022-12-16 13:57:52.576084: I tensorflow/core/grappler/optimizers/custom_graph_optimizer_registry.cc:114] Plugin optimizer for device_type GPU is enabled.\n"
     ]
    },
    {
     "name": "stdout",
     "output_type": "stream",
     "text": [
      "262/262 [==============================] - 8s 20ms/step - loss: 7300.9106 - mean_squared_error: 201034816.0000 - mean_absolute_error: 7300.9106\n",
      "Epoch 2/10\n",
      "262/262 [==============================] - 4s 16ms/step - loss: 4402.2339 - mean_squared_error: 95867752.0000 - mean_absolute_error: 4402.2339\n",
      "Epoch 3/10\n",
      "262/262 [==============================] - 4s 16ms/step - loss: 4181.4194 - mean_squared_error: 92551032.0000 - mean_absolute_error: 4181.4194\n",
      "Epoch 4/10\n",
      "262/262 [==============================] - 4s 16ms/step - loss: 3961.0381 - mean_squared_error: 87295872.0000 - mean_absolute_error: 3961.0381\n",
      "Epoch 5/10\n",
      "262/262 [==============================] - 4s 16ms/step - loss: 3824.4875 - mean_squared_error: 82809744.0000 - mean_absolute_error: 3824.4875\n",
      "Epoch 6/10\n",
      "262/262 [==============================] - 4s 16ms/step - loss: 3693.7793 - mean_squared_error: 80138416.0000 - mean_absolute_error: 3693.7793\n",
      "Epoch 7/10\n",
      "262/262 [==============================] - 4s 15ms/step - loss: 3557.2122 - mean_squared_error: 78150832.0000 - mean_absolute_error: 3557.2122\n",
      "Epoch 8/10\n",
      "262/262 [==============================] - 4s 15ms/step - loss: 3420.6814 - mean_squared_error: 75118288.0000 - mean_absolute_error: 3420.6814\n",
      "Epoch 9/10\n",
      "262/262 [==============================] - 4s 15ms/step - loss: 3315.3430 - mean_squared_error: 70942536.0000 - mean_absolute_error: 3315.3430\n",
      "Epoch 10/10\n",
      "262/262 [==============================] - 4s 16ms/step - loss: 3218.7173 - mean_squared_error: 71483784.0000 - mean_absolute_error: 3218.7173\n",
      "WARNING:tensorflow:Model was constructed with shape (None, None, 102) for input KerasTensor(type_spec=TensorSpec(shape=(None, None, 102), dtype=tf.float32, name='dense_496_input'), name='dense_496_input', description=\"created by layer 'dense_496_input'\"), but it was called on an input with incompatible shape (None, 102).\n"
     ]
    },
    {
     "name": "stderr",
     "output_type": "stream",
     "text": [
      "2022-12-16 13:58:37.072789: I tensorflow/core/grappler/optimizers/custom_graph_optimizer_registry.cc:114] Plugin optimizer for device_type GPU is enabled.\n"
     ]
    },
    {
     "name": "stdout",
     "output_type": "stream",
     "text": [
      "262/262 [==============================] - 2s 8ms/step - loss: 3207.8469 - mean_squared_error: 67907104.0000 - mean_absolute_error: 3207.8469\n",
      "46/46 [==============================] - 0s 10ms/step - loss: 2795.6882 - mean_squared_error: 24408316.0000 - mean_absolute_error: 2795.6882\n",
      "Epoch 1/10\n",
      "WARNING:tensorflow:Model was constructed with shape (None, None, 102) for input KerasTensor(type_spec=TensorSpec(shape=(None, None, 102), dtype=tf.float32, name='dense_504_input'), name='dense_504_input', description=\"created by layer 'dense_504_input'\"), but it was called on an input with incompatible shape (None, 102).\n",
      "WARNING:tensorflow:Model was constructed with shape (None, None, 102) for input KerasTensor(type_spec=TensorSpec(shape=(None, None, 102), dtype=tf.float32, name='dense_504_input'), name='dense_504_input', description=\"created by layer 'dense_504_input'\"), but it was called on an input with incompatible shape (None, 102).\n"
     ]
    },
    {
     "name": "stderr",
     "output_type": "stream",
     "text": [
      "2022-12-16 13:58:40.388105: I tensorflow/core/grappler/optimizers/custom_graph_optimizer_registry.cc:114] Plugin optimizer for device_type GPU is enabled.\n"
     ]
    },
    {
     "name": "stdout",
     "output_type": "stream",
     "text": [
      "270/270 [==============================] - 8s 21ms/step - loss: 9633.7734 - mean_squared_error: 358041952.0000 - mean_absolute_error: 9633.7734\n",
      "Epoch 2/10\n",
      "270/270 [==============================] - 4s 15ms/step - loss: 5157.0732 - mean_squared_error: 115055128.0000 - mean_absolute_error: 5157.0732\n",
      "Epoch 3/10\n",
      "270/270 [==============================] - 4s 15ms/step - loss: 4789.1084 - mean_squared_error: 105930024.0000 - mean_absolute_error: 4789.1084\n",
      "Epoch 4/10\n",
      "270/270 [==============================] - 4s 15ms/step - loss: 4543.0542 - mean_squared_error: 100766360.0000 - mean_absolute_error: 4543.0542\n",
      "Epoch 5/10\n",
      "270/270 [==============================] - 4s 15ms/step - loss: 4368.4238 - mean_squared_error: 97028712.0000 - mean_absolute_error: 4368.4238\n",
      "Epoch 6/10\n",
      "270/270 [==============================] - 4s 15ms/step - loss: 4167.2217 - mean_squared_error: 93487752.0000 - mean_absolute_error: 4167.2217\n",
      "Epoch 7/10\n",
      "270/270 [==============================] - 4s 15ms/step - loss: 4057.3669 - mean_squared_error: 87535896.0000 - mean_absolute_error: 4057.3669\n",
      "Epoch 8/10\n",
      "270/270 [==============================] - 4s 15ms/step - loss: 3937.9475 - mean_squared_error: 87053816.0000 - mean_absolute_error: 3937.9475\n",
      "Epoch 9/10\n",
      "270/270 [==============================] - 4s 15ms/step - loss: 3908.3828 - mean_squared_error: 84650872.0000 - mean_absolute_error: 3908.3828\n",
      "Epoch 10/10\n",
      "270/270 [==============================] - 4s 15ms/step - loss: 3778.1096 - mean_squared_error: 84072512.0000 - mean_absolute_error: 3778.1096\n",
      "WARNING:tensorflow:Model was constructed with shape (None, None, 102) for input KerasTensor(type_spec=TensorSpec(shape=(None, None, 102), dtype=tf.float32, name='dense_504_input'), name='dense_504_input', description=\"created by layer 'dense_504_input'\"), but it was called on an input with incompatible shape (None, 102).\n"
     ]
    },
    {
     "name": "stderr",
     "output_type": "stream",
     "text": [
      "2022-12-16 13:59:25.754281: I tensorflow/core/grappler/optimizers/custom_graph_optimizer_registry.cc:114] Plugin optimizer for device_type GPU is enabled.\n"
     ]
    },
    {
     "name": "stdout",
     "output_type": "stream",
     "text": [
      "270/270 [==============================] - 2s 7ms/step - loss: 3242.1782 - mean_squared_error: 77506256.0000 - mean_absolute_error: 3242.1782\n",
      "47/47 [==============================] - 1s 10ms/step - loss: 3126.0508 - mean_squared_error: 32974822.0000 - mean_absolute_error: 3126.0508\n",
      "Epoch 1/10\n",
      "WARNING:tensorflow:Model was constructed with shape (None, None, 102) for input KerasTensor(type_spec=TensorSpec(shape=(None, None, 102), dtype=tf.float32, name='dense_512_input'), name='dense_512_input', description=\"created by layer 'dense_512_input'\"), but it was called on an input with incompatible shape (None, 102).\n",
      "WARNING:tensorflow:Model was constructed with shape (None, None, 102) for input KerasTensor(type_spec=TensorSpec(shape=(None, None, 102), dtype=tf.float32, name='dense_512_input'), name='dense_512_input', description=\"created by layer 'dense_512_input'\"), but it was called on an input with incompatible shape (None, 102).\n"
     ]
    },
    {
     "name": "stderr",
     "output_type": "stream",
     "text": [
      "2022-12-16 13:59:28.857872: I tensorflow/core/grappler/optimizers/custom_graph_optimizer_registry.cc:114] Plugin optimizer for device_type GPU is enabled.\n"
     ]
    },
    {
     "name": "stdout",
     "output_type": "stream",
     "text": [
      "272/272 [==============================] - 8s 20ms/step - loss: 13483.3799 - mean_squared_error: 655349056.0000 - mean_absolute_error: 13483.3799\n",
      "Epoch 2/10\n",
      "272/272 [==============================] - 4s 16ms/step - loss: 7285.8940 - mean_squared_error: 205760016.0000 - mean_absolute_error: 7285.8940\n",
      "Epoch 3/10\n",
      "272/272 [==============================] - 4s 16ms/step - loss: 6770.8950 - mean_squared_error: 193837632.0000 - mean_absolute_error: 6770.8950\n",
      "Epoch 4/10\n",
      "272/272 [==============================] - 4s 16ms/step - loss: 6481.0742 - mean_squared_error: 188740304.0000 - mean_absolute_error: 6481.0742\n",
      "Epoch 5/10\n",
      "272/272 [==============================] - 4s 16ms/step - loss: 6215.1211 - mean_squared_error: 177168208.0000 - mean_absolute_error: 6215.1211\n",
      "Epoch 6/10\n",
      "272/272 [==============================] - 4s 16ms/step - loss: 6045.0254 - mean_squared_error: 174222048.0000 - mean_absolute_error: 6045.0254\n",
      "Epoch 7/10\n",
      "272/272 [==============================] - 4s 16ms/step - loss: 5805.1855 - mean_squared_error: 162003744.0000 - mean_absolute_error: 5805.1855\n",
      "Epoch 8/10\n",
      "272/272 [==============================] - 4s 16ms/step - loss: 5671.6826 - mean_squared_error: 157895872.0000 - mean_absolute_error: 5671.6826\n",
      "Epoch 9/10\n",
      "272/272 [==============================] - 4s 16ms/step - loss: 5593.2344 - mean_squared_error: 154187520.0000 - mean_absolute_error: 5593.2344\n",
      "Epoch 10/10\n",
      "272/272 [==============================] - 4s 16ms/step - loss: 5396.8398 - mean_squared_error: 146907168.0000 - mean_absolute_error: 5396.8398\n",
      "WARNING:tensorflow:Model was constructed with shape (None, None, 102) for input KerasTensor(type_spec=TensorSpec(shape=(None, None, 102), dtype=tf.float32, name='dense_512_input'), name='dense_512_input', description=\"created by layer 'dense_512_input'\"), but it was called on an input with incompatible shape (None, 102).\n",
      "  1/272 [..............................] - ETA: 1:02 - loss: 2646.4897 - mean_squared_error: 16350034.0000 - mean_absolute_error: 2646.4897"
     ]
    },
    {
     "name": "stderr",
     "output_type": "stream",
     "text": [
      "2022-12-16 14:00:15.597731: I tensorflow/core/grappler/optimizers/custom_graph_optimizer_registry.cc:114] Plugin optimizer for device_type GPU is enabled.\n"
     ]
    },
    {
     "name": "stdout",
     "output_type": "stream",
     "text": [
      "272/272 [==============================] - 2s 7ms/step - loss: 5520.7866 - mean_squared_error: 133903792.0000 - mean_absolute_error: 5520.7866\n",
      "47/47 [==============================] - 0s 6ms/step - loss: 4992.7783 - mean_squared_error: 53324140.0000 - mean_absolute_error: 4992.7783\n",
      "Epoch 1/10\n",
      "WARNING:tensorflow:Model was constructed with shape (None, None, 102) for input KerasTensor(type_spec=TensorSpec(shape=(None, None, 102), dtype=tf.float32, name='dense_520_input'), name='dense_520_input', description=\"created by layer 'dense_520_input'\"), but it was called on an input with incompatible shape (None, 102).\n",
      "WARNING:tensorflow:Model was constructed with shape (None, None, 102) for input KerasTensor(type_spec=TensorSpec(shape=(None, None, 102), dtype=tf.float32, name='dense_520_input'), name='dense_520_input', description=\"created by layer 'dense_520_input'\"), but it was called on an input with incompatible shape (None, 102).\n"
     ]
    },
    {
     "name": "stderr",
     "output_type": "stream",
     "text": [
      "2022-12-16 14:00:18.470497: I tensorflow/core/grappler/optimizers/custom_graph_optimizer_registry.cc:114] Plugin optimizer for device_type GPU is enabled.\n"
     ]
    },
    {
     "name": "stdout",
     "output_type": "stream",
     "text": [
      "255/255 [==============================] - 8s 20ms/step - loss: 5088.4136 - mean_squared_error: 103102696.0000 - mean_absolute_error: 5088.4136\n",
      "Epoch 2/10\n",
      "255/255 [==============================] - 4s 16ms/step - loss: 2807.9961 - mean_squared_error: 47273092.0000 - mean_absolute_error: 2807.9961\n",
      "Epoch 3/10\n",
      "255/255 [==============================] - 4s 16ms/step - loss: 2630.7109 - mean_squared_error: 45008948.0000 - mean_absolute_error: 2630.7109\n",
      "Epoch 4/10\n",
      "255/255 [==============================] - 4s 17ms/step - loss: 2529.9321 - mean_squared_error: 44141652.0000 - mean_absolute_error: 2529.9321\n",
      "Epoch 5/10\n",
      "255/255 [==============================] - 5s 19ms/step - loss: 2471.6841 - mean_squared_error: 43105212.0000 - mean_absolute_error: 2471.6841\n",
      "Epoch 6/10\n",
      "255/255 [==============================] - 4s 17ms/step - loss: 2379.7717 - mean_squared_error: 41729800.0000 - mean_absolute_error: 2379.7717\n",
      "Epoch 7/10\n",
      "255/255 [==============================] - 4s 17ms/step - loss: 2298.9092 - mean_squared_error: 42620916.0000 - mean_absolute_error: 2298.9092\n",
      "Epoch 8/10\n",
      "255/255 [==============================] - 5s 18ms/step - loss: 2234.9336 - mean_squared_error: 41184968.0000 - mean_absolute_error: 2234.9336\n",
      "Epoch 9/10\n",
      "255/255 [==============================] - 4s 16ms/step - loss: 2211.0095 - mean_squared_error: 39326352.0000 - mean_absolute_error: 2211.0095\n",
      "Epoch 10/10\n",
      "255/255 [==============================] - 4s 16ms/step - loss: 2142.5027 - mean_squared_error: 39091492.0000 - mean_absolute_error: 2142.5027\n",
      "WARNING:tensorflow:Model was constructed with shape (None, None, 102) for input KerasTensor(type_spec=TensorSpec(shape=(None, None, 102), dtype=tf.float32, name='dense_520_input'), name='dense_520_input', description=\"created by layer 'dense_520_input'\"), but it was called on an input with incompatible shape (None, 102).\n"
     ]
    },
    {
     "name": "stderr",
     "output_type": "stream",
     "text": [
      "2022-12-16 14:01:04.437884: I tensorflow/core/grappler/optimizers/custom_graph_optimizer_registry.cc:114] Plugin optimizer for device_type GPU is enabled.\n"
     ]
    },
    {
     "name": "stdout",
     "output_type": "stream",
     "text": [
      "255/255 [==============================] - 2s 7ms/step - loss: 1865.9619 - mean_squared_error: 35185908.0000 - mean_absolute_error: 1865.9619\n",
      "44/44 [==============================] - 0s 6ms/step - loss: 2101.2764 - mean_squared_error: 16101707.0000 - mean_absolute_error: 2101.2764\n",
      "Epoch 1/10\n",
      "WARNING:tensorflow:Model was constructed with shape (None, None, 102) for input KerasTensor(type_spec=TensorSpec(shape=(None, None, 102), dtype=tf.float32, name='dense_528_input'), name='dense_528_input', description=\"created by layer 'dense_528_input'\"), but it was called on an input with incompatible shape (None, 102).\n",
      "WARNING:tensorflow:Model was constructed with shape (None, None, 102) for input KerasTensor(type_spec=TensorSpec(shape=(None, None, 102), dtype=tf.float32, name='dense_528_input'), name='dense_528_input', description=\"created by layer 'dense_528_input'\"), but it was called on an input with incompatible shape (None, 102).\n"
     ]
    },
    {
     "name": "stderr",
     "output_type": "stream",
     "text": [
      "2022-12-16 14:01:07.357507: I tensorflow/core/grappler/optimizers/custom_graph_optimizer_registry.cc:114] Plugin optimizer for device_type GPU is enabled.\n"
     ]
    },
    {
     "name": "stdout",
     "output_type": "stream",
     "text": [
      "258/258 [==============================] - 7s 19ms/step - loss: 7168.5801 - mean_squared_error: 194860128.0000 - mean_absolute_error: 7168.5801\n",
      "Epoch 2/10\n",
      "258/258 [==============================] - 4s 16ms/step - loss: 3962.4668 - mean_squared_error: 90616248.0000 - mean_absolute_error: 3962.4668\n",
      "Epoch 3/10\n",
      "258/258 [==============================] - 4s 16ms/step - loss: 3804.2129 - mean_squared_error: 86855976.0000 - mean_absolute_error: 3804.2129\n",
      "Epoch 4/10\n",
      "258/258 [==============================] - 4s 16ms/step - loss: 3684.7959 - mean_squared_error: 85096000.0000 - mean_absolute_error: 3684.7959\n",
      "Epoch 5/10\n",
      "258/258 [==============================] - 4s 16ms/step - loss: 3506.3723 - mean_squared_error: 82005560.0000 - mean_absolute_error: 3506.3723\n",
      "Epoch 6/10\n",
      "258/258 [==============================] - 4s 16ms/step - loss: 3403.3350 - mean_squared_error: 78392528.0000 - mean_absolute_error: 3403.3350\n",
      "Epoch 7/10\n",
      "258/258 [==============================] - 4s 16ms/step - loss: 3309.4392 - mean_squared_error: 79705680.0000 - mean_absolute_error: 3309.4392\n",
      "Epoch 8/10\n",
      "258/258 [==============================] - 4s 16ms/step - loss: 3207.5337 - mean_squared_error: 77487496.0000 - mean_absolute_error: 3207.5337\n",
      "Epoch 9/10\n",
      "258/258 [==============================] - 4s 16ms/step - loss: 3158.8596 - mean_squared_error: 76799448.0000 - mean_absolute_error: 3158.8596\n",
      "Epoch 10/10\n",
      "258/258 [==============================] - 4s 16ms/step - loss: 3073.6365 - mean_squared_error: 72790168.0000 - mean_absolute_error: 3073.6365\n",
      "WARNING:tensorflow:Model was constructed with shape (None, None, 102) for input KerasTensor(type_spec=TensorSpec(shape=(None, None, 102), dtype=tf.float32, name='dense_528_input'), name='dense_528_input', description=\"created by layer 'dense_528_input'\"), but it was called on an input with incompatible shape (None, 102).\n"
     ]
    },
    {
     "name": "stderr",
     "output_type": "stream",
     "text": [
      "2022-12-16 14:01:51.248195: I tensorflow/core/grappler/optimizers/custom_graph_optimizer_registry.cc:114] Plugin optimizer for device_type GPU is enabled.\n"
     ]
    },
    {
     "name": "stdout",
     "output_type": "stream",
     "text": [
      "258/258 [==============================] - 2s 7ms/step - loss: 3401.4497 - mean_squared_error: 76193936.0000 - mean_absolute_error: 3401.4497\n",
      "45/45 [==============================] - 0s 10ms/step - loss: 4377.4956 - mean_squared_error: 54886168.0000 - mean_absolute_error: 4377.4956\n",
      "Epoch 1/10\n",
      "WARNING:tensorflow:Model was constructed with shape (None, None, 102) for input KerasTensor(type_spec=TensorSpec(shape=(None, None, 102), dtype=tf.float32, name='dense_536_input'), name='dense_536_input', description=\"created by layer 'dense_536_input'\"), but it was called on an input with incompatible shape (None, 102).\n",
      "WARNING:tensorflow:Model was constructed with shape (None, None, 102) for input KerasTensor(type_spec=TensorSpec(shape=(None, None, 102), dtype=tf.float32, name='dense_536_input'), name='dense_536_input', description=\"created by layer 'dense_536_input'\"), but it was called on an input with incompatible shape (None, 102).\n"
     ]
    },
    {
     "name": "stderr",
     "output_type": "stream",
     "text": [
      "2022-12-16 14:01:54.713670: I tensorflow/core/grappler/optimizers/custom_graph_optimizer_registry.cc:114] Plugin optimizer for device_type GPU is enabled.\n"
     ]
    },
    {
     "name": "stdout",
     "output_type": "stream",
     "text": [
      "268/268 [==============================] - 8s 19ms/step - loss: 8784.9404 - mean_squared_error: 256978960.0000 - mean_absolute_error: 8784.9404\n",
      "Epoch 2/10\n",
      "268/268 [==============================] - 4s 16ms/step - loss: 5495.9507 - mean_squared_error: 139483840.0000 - mean_absolute_error: 5495.9507\n",
      "Epoch 3/10\n",
      "268/268 [==============================] - 4s 16ms/step - loss: 5303.6895 - mean_squared_error: 134314096.0000 - mean_absolute_error: 5303.6895\n",
      "Epoch 4/10\n",
      "268/268 [==============================] - 4s 16ms/step - loss: 5069.2446 - mean_squared_error: 129000920.0000 - mean_absolute_error: 5069.2446\n",
      "Epoch 5/10\n",
      "268/268 [==============================] - 4s 16ms/step - loss: 4892.2451 - mean_squared_error: 126646592.0000 - mean_absolute_error: 4892.2451\n",
      "Epoch 6/10\n",
      "268/268 [==============================] - 4s 16ms/step - loss: 4617.1914 - mean_squared_error: 116389184.0000 - mean_absolute_error: 4617.1914\n",
      "Epoch 7/10\n",
      "268/268 [==============================] - 4s 16ms/step - loss: 4489.9307 - mean_squared_error: 117208288.0000 - mean_absolute_error: 4489.9307\n",
      "Epoch 8/10\n",
      "268/268 [==============================] - 4s 16ms/step - loss: 4324.2305 - mean_squared_error: 111315928.0000 - mean_absolute_error: 4324.2305\n",
      "Epoch 9/10\n",
      "268/268 [==============================] - 4s 16ms/step - loss: 4210.7266 - mean_squared_error: 108739384.0000 - mean_absolute_error: 4210.7266\n",
      "Epoch 10/10\n",
      "268/268 [==============================] - 4s 16ms/step - loss: 4162.1763 - mean_squared_error: 105714784.0000 - mean_absolute_error: 4162.1763\n",
      "WARNING:tensorflow:Model was constructed with shape (None, None, 102) for input KerasTensor(type_spec=TensorSpec(shape=(None, None, 102), dtype=tf.float32, name='dense_536_input'), name='dense_536_input', description=\"created by layer 'dense_536_input'\"), but it was called on an input with incompatible shape (None, 102).\n"
     ]
    },
    {
     "name": "stderr",
     "output_type": "stream",
     "text": [
      "2022-12-16 14:02:39.850735: I tensorflow/core/grappler/optimizers/custom_graph_optimizer_registry.cc:114] Plugin optimizer for device_type GPU is enabled.\n"
     ]
    },
    {
     "name": "stdout",
     "output_type": "stream",
     "text": [
      "268/268 [==============================] - 2s 7ms/step - loss: 4643.0776 - mean_squared_error: 102503928.0000 - mean_absolute_error: 4643.0776\n",
      "46/46 [==============================] - 0s 10ms/step - loss: 5029.2104 - mean_squared_error: 59881964.0000 - mean_absolute_error: 5029.2104\n",
      "Epoch 1/10\n",
      "WARNING:tensorflow:Model was constructed with shape (None, None, 102) for input KerasTensor(type_spec=TensorSpec(shape=(None, None, 102), dtype=tf.float32, name='dense_544_input'), name='dense_544_input', description=\"created by layer 'dense_544_input'\"), but it was called on an input with incompatible shape (None, 102).\n",
      "WARNING:tensorflow:Model was constructed with shape (None, None, 102) for input KerasTensor(type_spec=TensorSpec(shape=(None, None, 102), dtype=tf.float32, name='dense_544_input'), name='dense_544_input', description=\"created by layer 'dense_544_input'\"), but it was called on an input with incompatible shape (None, 102).\n"
     ]
    },
    {
     "name": "stderr",
     "output_type": "stream",
     "text": [
      "2022-12-16 14:02:43.101978: I tensorflow/core/grappler/optimizers/custom_graph_optimizer_registry.cc:114] Plugin optimizer for device_type GPU is enabled.\n"
     ]
    },
    {
     "name": "stdout",
     "output_type": "stream",
     "text": [
      "273/273 [==============================] - 8s 20ms/step - loss: 8630.0557 - mean_squared_error: 278282816.0000 - mean_absolute_error: 8630.0557\n",
      "Epoch 2/10\n",
      "273/273 [==============================] - 4s 16ms/step - loss: 4471.7197 - mean_squared_error: 74183624.0000 - mean_absolute_error: 4471.7197\n",
      "Epoch 3/10\n",
      "273/273 [==============================] - 4s 16ms/step - loss: 4270.7896 - mean_squared_error: 71698224.0000 - mean_absolute_error: 4270.7896\n",
      "Epoch 4/10\n",
      "273/273 [==============================] - 4s 16ms/step - loss: 3961.6748 - mean_squared_error: 65632440.0000 - mean_absolute_error: 3961.6748\n",
      "Epoch 5/10\n",
      "273/273 [==============================] - 4s 16ms/step - loss: 3828.5078 - mean_squared_error: 63808968.0000 - mean_absolute_error: 3828.5078\n",
      "Epoch 6/10\n",
      "273/273 [==============================] - 4s 16ms/step - loss: 3661.6418 - mean_squared_error: 58644692.0000 - mean_absolute_error: 3661.6418\n",
      "Epoch 7/10\n",
      "273/273 [==============================] - 4s 16ms/step - loss: 3526.1797 - mean_squared_error: 57641300.0000 - mean_absolute_error: 3526.1797\n",
      "Epoch 8/10\n",
      "273/273 [==============================] - 4s 16ms/step - loss: 3448.6636 - mean_squared_error: 53816220.0000 - mean_absolute_error: 3448.6636\n",
      "Epoch 9/10\n",
      "273/273 [==============================] - 4s 16ms/step - loss: 3318.8337 - mean_squared_error: 49963988.0000 - mean_absolute_error: 3318.8337\n",
      "Epoch 10/10\n",
      "273/273 [==============================] - 4s 16ms/step - loss: 3258.2808 - mean_squared_error: 51131364.0000 - mean_absolute_error: 3258.2808\n",
      "WARNING:tensorflow:Model was constructed with shape (None, None, 102) for input KerasTensor(type_spec=TensorSpec(shape=(None, None, 102), dtype=tf.float32, name='dense_544_input'), name='dense_544_input', description=\"created by layer 'dense_544_input'\"), but it was called on an input with incompatible shape (None, 102).\n"
     ]
    },
    {
     "name": "stderr",
     "output_type": "stream",
     "text": [
      "2022-12-16 14:03:29.450168: I tensorflow/core/grappler/optimizers/custom_graph_optimizer_registry.cc:114] Plugin optimizer for device_type GPU is enabled.\n"
     ]
    },
    {
     "name": "stdout",
     "output_type": "stream",
     "text": [
      "273/273 [==============================] - 2s 7ms/step - loss: 3540.6667 - mean_squared_error: 55463556.0000 - mean_absolute_error: 3540.6667\n",
      "47/47 [==============================] - 0s 10ms/step - loss: 3561.8201 - mean_squared_error: 34973756.0000 - mean_absolute_error: 3561.8201\n",
      "Epoch 1/10\n",
      "WARNING:tensorflow:Model was constructed with shape (None, None, 102) for input KerasTensor(type_spec=TensorSpec(shape=(None, None, 102), dtype=tf.float32, name='dense_552_input'), name='dense_552_input', description=\"created by layer 'dense_552_input'\"), but it was called on an input with incompatible shape (None, 102).\n",
      "WARNING:tensorflow:Model was constructed with shape (None, None, 102) for input KerasTensor(type_spec=TensorSpec(shape=(None, None, 102), dtype=tf.float32, name='dense_552_input'), name='dense_552_input', description=\"created by layer 'dense_552_input'\"), but it was called on an input with incompatible shape (None, 102).\n"
     ]
    },
    {
     "name": "stderr",
     "output_type": "stream",
     "text": [
      "2022-12-16 14:03:32.665833: I tensorflow/core/grappler/optimizers/custom_graph_optimizer_registry.cc:114] Plugin optimizer for device_type GPU is enabled.\n"
     ]
    },
    {
     "name": "stdout",
     "output_type": "stream",
     "text": [
      "261/261 [==============================] - 6s 20ms/step - loss: 4959.7715 - mean_squared_error: 92166024.0000 - mean_absolute_error: 4959.7715\n",
      "Epoch 2/10\n",
      "261/261 [==============================] - 4s 16ms/step - loss: 2848.8936 - mean_squared_error: 37710152.0000 - mean_absolute_error: 2848.8936\n",
      "Epoch 3/10\n",
      "261/261 [==============================] - 4s 16ms/step - loss: 2631.3845 - mean_squared_error: 35143532.0000 - mean_absolute_error: 2631.3845\n",
      "Epoch 4/10\n",
      "261/261 [==============================] - 4s 16ms/step - loss: 2494.0486 - mean_squared_error: 33375574.0000 - mean_absolute_error: 2494.0486\n",
      "Epoch 5/10\n",
      "261/261 [==============================] - 4s 16ms/step - loss: 2380.7605 - mean_squared_error: 32036418.0000 - mean_absolute_error: 2380.7605\n",
      "Epoch 6/10\n",
      "261/261 [==============================] - 4s 16ms/step - loss: 2307.0212 - mean_squared_error: 31422958.0000 - mean_absolute_error: 2307.0212\n",
      "Epoch 7/10\n",
      "261/261 [==============================] - 4s 16ms/step - loss: 2245.2104 - mean_squared_error: 30566498.0000 - mean_absolute_error: 2245.2104\n",
      "Epoch 8/10\n",
      "261/261 [==============================] - 4s 16ms/step - loss: 2161.4741 - mean_squared_error: 29016666.0000 - mean_absolute_error: 2161.4741\n",
      "Epoch 9/10\n",
      "261/261 [==============================] - 4s 16ms/step - loss: 2133.8118 - mean_squared_error: 29246958.0000 - mean_absolute_error: 2133.8118\n",
      "Epoch 10/10\n",
      "261/261 [==============================] - 4s 16ms/step - loss: 2080.4941 - mean_squared_error: 27075992.0000 - mean_absolute_error: 2080.4941\n",
      "WARNING:tensorflow:Model was constructed with shape (None, None, 102) for input KerasTensor(type_spec=TensorSpec(shape=(None, None, 102), dtype=tf.float32, name='dense_552_input'), name='dense_552_input', description=\"created by layer 'dense_552_input'\"), but it was called on an input with incompatible shape (None, 102).\n"
     ]
    },
    {
     "name": "stderr",
     "output_type": "stream",
     "text": [
      "2022-12-16 14:04:15.889585: I tensorflow/core/grappler/optimizers/custom_graph_optimizer_registry.cc:114] Plugin optimizer for device_type GPU is enabled.\n"
     ]
    },
    {
     "name": "stdout",
     "output_type": "stream",
     "text": [
      "261/261 [==============================] - 2s 7ms/step - loss: 1912.0098 - mean_squared_error: 25769266.0000 - mean_absolute_error: 1912.0098\n",
      "45/45 [==============================] - 0s 7ms/step - loss: 2133.6646 - mean_squared_error: 13991154.0000 - mean_absolute_error: 2133.6646\n",
      "Epoch 1/10\n",
      "WARNING:tensorflow:Model was constructed with shape (None, None, 102) for input KerasTensor(type_spec=TensorSpec(shape=(None, None, 102), dtype=tf.float32, name='dense_560_input'), name='dense_560_input', description=\"created by layer 'dense_560_input'\"), but it was called on an input with incompatible shape (None, 102).\n",
      "WARNING:tensorflow:Model was constructed with shape (None, None, 102) for input KerasTensor(type_spec=TensorSpec(shape=(None, None, 102), dtype=tf.float32, name='dense_560_input'), name='dense_560_input', description=\"created by layer 'dense_560_input'\"), but it was called on an input with incompatible shape (None, 102).\n"
     ]
    },
    {
     "name": "stderr",
     "output_type": "stream",
     "text": [
      "2022-12-16 14:04:18.831877: I tensorflow/core/grappler/optimizers/custom_graph_optimizer_registry.cc:114] Plugin optimizer for device_type GPU is enabled.\n"
     ]
    },
    {
     "name": "stdout",
     "output_type": "stream",
     "text": [
      "263/263 [==============================] - 8s 19ms/step - loss: 7309.4990 - mean_squared_error: 248591360.0000 - mean_absolute_error: 7309.4990\n",
      "Epoch 2/10\n",
      "263/263 [==============================] - 4s 16ms/step - loss: 3220.3684 - mean_squared_error: 40873572.0000 - mean_absolute_error: 3220.3684\n",
      "Epoch 3/10\n",
      "263/263 [==============================] - 4s 16ms/step - loss: 3038.6970 - mean_squared_error: 39207244.0000 - mean_absolute_error: 3038.6970\n",
      "Epoch 4/10\n",
      "263/263 [==============================] - 4s 16ms/step - loss: 2890.1721 - mean_squared_error: 36933388.0000 - mean_absolute_error: 2890.1721\n",
      "Epoch 5/10\n",
      "263/263 [==============================] - 4s 16ms/step - loss: 2798.6440 - mean_squared_error: 35867964.0000 - mean_absolute_error: 2798.6440\n",
      "Epoch 6/10\n",
      "263/263 [==============================] - 4s 16ms/step - loss: 2673.9973 - mean_squared_error: 32405048.0000 - mean_absolute_error: 2673.9973\n",
      "Epoch 7/10\n",
      "263/263 [==============================] - 4s 16ms/step - loss: 2613.0530 - mean_squared_error: 32409818.0000 - mean_absolute_error: 2613.0530\n",
      "Epoch 8/10\n",
      "263/263 [==============================] - 4s 16ms/step - loss: 2551.7087 - mean_squared_error: 31021890.0000 - mean_absolute_error: 2551.7087\n",
      "Epoch 9/10\n",
      "263/263 [==============================] - 4s 16ms/step - loss: 2512.7317 - mean_squared_error: 29886362.0000 - mean_absolute_error: 2512.7317\n",
      "Epoch 10/10\n",
      "263/263 [==============================] - 4s 16ms/step - loss: 2451.2617 - mean_squared_error: 29345874.0000 - mean_absolute_error: 2451.2617\n",
      "WARNING:tensorflow:Model was constructed with shape (None, None, 102) for input KerasTensor(type_spec=TensorSpec(shape=(None, None, 102), dtype=tf.float32, name='dense_560_input'), name='dense_560_input', description=\"created by layer 'dense_560_input'\"), but it was called on an input with incompatible shape (None, 102).\n"
     ]
    },
    {
     "name": "stderr",
     "output_type": "stream",
     "text": [
      "2022-12-16 14:05:03.509303: I tensorflow/core/grappler/optimizers/custom_graph_optimizer_registry.cc:114] Plugin optimizer for device_type GPU is enabled.\n"
     ]
    },
    {
     "name": "stdout",
     "output_type": "stream",
     "text": [
      "263/263 [==============================] - 2s 7ms/step - loss: 3244.6753 - mean_squared_error: 47550824.0000 - mean_absolute_error: 3244.6753\n",
      "46/46 [==============================] - 0s 7ms/step - loss: 2930.7749 - mean_squared_error: 38165024.0000 - mean_absolute_error: 2930.7749\n",
      "Epoch 1/10\n",
      "WARNING:tensorflow:Model was constructed with shape (None, None, 102) for input KerasTensor(type_spec=TensorSpec(shape=(None, None, 102), dtype=tf.float32, name='dense_568_input'), name='dense_568_input', description=\"created by layer 'dense_568_input'\"), but it was called on an input with incompatible shape (None, 102).\n",
      "WARNING:tensorflow:Model was constructed with shape (None, None, 102) for input KerasTensor(type_spec=TensorSpec(shape=(None, None, 102), dtype=tf.float32, name='dense_568_input'), name='dense_568_input', description=\"created by layer 'dense_568_input'\"), but it was called on an input with incompatible shape (None, 102).\n"
     ]
    },
    {
     "name": "stderr",
     "output_type": "stream",
     "text": [
      "2022-12-16 14:05:06.421072: I tensorflow/core/grappler/optimizers/custom_graph_optimizer_registry.cc:114] Plugin optimizer for device_type GPU is enabled.\n"
     ]
    },
    {
     "name": "stdout",
     "output_type": "stream",
     "text": [
      "272/272 [==============================] - 8s 21ms/step - loss: 11374.4580 - mean_squared_error: 496037440.0000 - mean_absolute_error: 11374.4580\n",
      "Epoch 2/10\n",
      "272/272 [==============================] - 4s 16ms/step - loss: 6111.4653 - mean_squared_error: 153193408.0000 - mean_absolute_error: 6111.4653\n",
      "Epoch 3/10\n",
      "272/272 [==============================] - 4s 16ms/step - loss: 5664.3057 - mean_squared_error: 138446528.0000 - mean_absolute_error: 5664.3057\n",
      "Epoch 4/10\n",
      "272/272 [==============================] - 4s 16ms/step - loss: 5248.1021 - mean_squared_error: 130919160.0000 - mean_absolute_error: 5248.1021\n",
      "Epoch 5/10\n",
      "272/272 [==============================] - 4s 15ms/step - loss: 5205.2612 - mean_squared_error: 128320424.0000 - mean_absolute_error: 5205.2612\n",
      "Epoch 6/10\n",
      "272/272 [==============================] - 4s 16ms/step - loss: 4900.0244 - mean_squared_error: 120392896.0000 - mean_absolute_error: 4900.0244\n",
      "Epoch 7/10\n",
      "272/272 [==============================] - 4s 16ms/step - loss: 4739.8760 - mean_squared_error: 117128136.0000 - mean_absolute_error: 4739.8760\n",
      "Epoch 8/10\n",
      "272/272 [==============================] - 4s 16ms/step - loss: 4582.2920 - mean_squared_error: 115615896.0000 - mean_absolute_error: 4582.2920\n",
      "Epoch 9/10\n",
      "272/272 [==============================] - 4s 16ms/step - loss: 4499.6812 - mean_squared_error: 111991816.0000 - mean_absolute_error: 4499.6812\n",
      "Epoch 10/10\n",
      "272/272 [==============================] - 4s 16ms/step - loss: 4373.3574 - mean_squared_error: 111752872.0000 - mean_absolute_error: 4373.3574\n",
      "WARNING:tensorflow:Model was constructed with shape (None, None, 102) for input KerasTensor(type_spec=TensorSpec(shape=(None, None, 102), dtype=tf.float32, name='dense_568_input'), name='dense_568_input', description=\"created by layer 'dense_568_input'\"), but it was called on an input with incompatible shape (None, 102).\n"
     ]
    },
    {
     "name": "stderr",
     "output_type": "stream",
     "text": [
      "2022-12-16 14:05:52.826454: I tensorflow/core/grappler/optimizers/custom_graph_optimizer_registry.cc:114] Plugin optimizer for device_type GPU is enabled.\n"
     ]
    },
    {
     "name": "stdout",
     "output_type": "stream",
     "text": [
      "272/272 [==============================] - 2s 7ms/step - loss: 3934.8933 - mean_squared_error: 92828560.0000 - mean_absolute_error: 3934.8933\n",
      "47/47 [==============================] - 0s 10ms/step - loss: 4549.8311 - mean_squared_error: 53196412.0000 - mean_absolute_error: 4549.8311\n",
      "Epoch 1/10\n",
      "WARNING:tensorflow:Model was constructed with shape (None, None, 102) for input KerasTensor(type_spec=TensorSpec(shape=(None, None, 102), dtype=tf.float32, name='dense_576_input'), name='dense_576_input', description=\"created by layer 'dense_576_input'\"), but it was called on an input with incompatible shape (None, 103).\n",
      "Epoch 1/10\n",
      "WARNING:tensorflow:Model was constructed with shape (None, None, 102) for input KerasTensor(type_spec=TensorSpec(shape=(None, None, 102), dtype=tf.float32, name='dense_584_input'), name='dense_584_input', description=\"created by layer 'dense_584_input'\"), but it was called on an input with incompatible shape (None, 103).\n",
      "Epoch 1/10\n",
      "WARNING:tensorflow:Model was constructed with shape (None, None, 102) for input KerasTensor(type_spec=TensorSpec(shape=(None, None, 102), dtype=tf.float32, name='dense_592_input'), name='dense_592_input', description=\"created by layer 'dense_592_input'\"), but it was called on an input with incompatible shape (None, 102).\n",
      "WARNING:tensorflow:Model was constructed with shape (None, None, 102) for input KerasTensor(type_spec=TensorSpec(shape=(None, None, 102), dtype=tf.float32, name='dense_592_input'), name='dense_592_input', description=\"created by layer 'dense_592_input'\"), but it was called on an input with incompatible shape (None, 102).\n"
     ]
    },
    {
     "name": "stderr",
     "output_type": "stream",
     "text": [
      "2022-12-16 14:05:56.539625: I tensorflow/core/grappler/optimizers/custom_graph_optimizer_registry.cc:114] Plugin optimizer for device_type GPU is enabled.\n"
     ]
    },
    {
     "name": "stdout",
     "output_type": "stream",
     "text": [
      "191/191 [==============================] - 7s 23ms/step - loss: 4592.8208 - mean_squared_error: 105094848.0000 - mean_absolute_error: 4592.8208\n",
      "Epoch 2/10\n",
      "191/191 [==============================] - 3s 16ms/step - loss: 1918.5282 - mean_squared_error: 15067426.0000 - mean_absolute_error: 1918.5282\n",
      "Epoch 3/10\n",
      "191/191 [==============================] - 3s 16ms/step - loss: 1658.1763 - mean_squared_error: 12052933.0000 - mean_absolute_error: 1658.1763\n",
      "Epoch 4/10\n",
      "191/191 [==============================] - 3s 16ms/step - loss: 1489.4757 - mean_squared_error: 10279098.0000 - mean_absolute_error: 1489.4757\n",
      "Epoch 5/10\n",
      "191/191 [==============================] - 3s 15ms/step - loss: 1395.5465 - mean_squared_error: 9373536.0000 - mean_absolute_error: 1395.5465\n",
      "Epoch 6/10\n",
      "191/191 [==============================] - 3s 15ms/step - loss: 1304.1476 - mean_squared_error: 7731233.0000 - mean_absolute_error: 1304.1476\n",
      "Epoch 7/10\n",
      "191/191 [==============================] - 3s 16ms/step - loss: 1254.0612 - mean_squared_error: 7471497.5000 - mean_absolute_error: 1254.0612\n",
      "Epoch 8/10\n",
      "191/191 [==============================] - 3s 16ms/step - loss: 1176.1129 - mean_squared_error: 7157379.0000 - mean_absolute_error: 1176.1129\n",
      "Epoch 9/10\n",
      "191/191 [==============================] - 3s 15ms/step - loss: 1190.8188 - mean_squared_error: 7249829.0000 - mean_absolute_error: 1190.8188\n",
      "Epoch 10/10\n",
      "191/191 [==============================] - 3s 16ms/step - loss: 1129.3429 - mean_squared_error: 6388012.0000 - mean_absolute_error: 1129.3429\n",
      "WARNING:tensorflow:Model was constructed with shape (None, None, 102) for input KerasTensor(type_spec=TensorSpec(shape=(None, None, 102), dtype=tf.float32, name='dense_592_input'), name='dense_592_input', description=\"created by layer 'dense_592_input'\"), but it was called on an input with incompatible shape (None, 102).\n"
     ]
    },
    {
     "name": "stderr",
     "output_type": "stream",
     "text": [
      "2022-12-16 14:06:30.210711: I tensorflow/core/grappler/optimizers/custom_graph_optimizer_registry.cc:114] Plugin optimizer for device_type GPU is enabled.\n"
     ]
    },
    {
     "name": "stdout",
     "output_type": "stream",
     "text": [
      "191/191 [==============================] - 2s 8ms/step - loss: 977.4649 - mean_squared_error: 5439271.5000 - mean_absolute_error: 977.4649\n",
      "33/33 [==============================] - 0s 11ms/step - loss: 908.6469 - mean_squared_error: 3991860.0000 - mean_absolute_error: 908.6469\n",
      "Epoch 1/10\n",
      "WARNING:tensorflow:Model was constructed with shape (None, None, 102) for input KerasTensor(type_spec=TensorSpec(shape=(None, None, 102), dtype=tf.float32, name='dense_600_input'), name='dense_600_input', description=\"created by layer 'dense_600_input'\"), but it was called on an input with incompatible shape (None, 102).\n",
      "WARNING:tensorflow:Model was constructed with shape (None, None, 102) for input KerasTensor(type_spec=TensorSpec(shape=(None, None, 102), dtype=tf.float32, name='dense_600_input'), name='dense_600_input', description=\"created by layer 'dense_600_input'\"), but it was called on an input with incompatible shape (None, 102).\n"
     ]
    },
    {
     "name": "stderr",
     "output_type": "stream",
     "text": [
      "2022-12-16 14:06:32.809718: I tensorflow/core/grappler/optimizers/custom_graph_optimizer_registry.cc:114] Plugin optimizer for device_type GPU is enabled.\n"
     ]
    },
    {
     "name": "stdout",
     "output_type": "stream",
     "text": [
      "270/270 [==============================] - 8s 20ms/step - loss: 9077.2002 - mean_squared_error: 347753024.0000 - mean_absolute_error: 9077.2002\n",
      "Epoch 2/10\n",
      "270/270 [==============================] - 4s 16ms/step - loss: 4533.3823 - mean_squared_error: 80258696.0000 - mean_absolute_error: 4533.3823\n",
      "Epoch 3/10\n",
      "270/270 [==============================] - 4s 16ms/step - loss: 4031.0876 - mean_squared_error: 69194416.0000 - mean_absolute_error: 4031.0876\n",
      "Epoch 4/10\n",
      "270/270 [==============================] - 4s 16ms/step - loss: 3746.1816 - mean_squared_error: 63374664.0000 - mean_absolute_error: 3746.1816\n",
      "Epoch 5/10\n",
      "270/270 [==============================] - 4s 16ms/step - loss: 3496.3162 - mean_squared_error: 58985300.0000 - mean_absolute_error: 3496.3162\n",
      "Epoch 6/10\n",
      "270/270 [==============================] - 4s 15ms/step - loss: 3422.0466 - mean_squared_error: 57210976.0000 - mean_absolute_error: 3422.0466\n",
      "Epoch 7/10\n",
      "270/270 [==============================] - 4s 16ms/step - loss: 3251.5559 - mean_squared_error: 51626060.0000 - mean_absolute_error: 3251.5559\n",
      "Epoch 8/10\n",
      "270/270 [==============================] - 4s 15ms/step - loss: 3162.1973 - mean_squared_error: 52495172.0000 - mean_absolute_error: 3162.1973\n",
      "Epoch 9/10\n",
      "270/270 [==============================] - 4s 15ms/step - loss: 3029.2439 - mean_squared_error: 48583552.0000 - mean_absolute_error: 3029.2439\n",
      "Epoch 10/10\n",
      "270/270 [==============================] - 4s 15ms/step - loss: 2920.0107 - mean_squared_error: 46803584.0000 - mean_absolute_error: 2920.0107\n",
      "WARNING:tensorflow:Model was constructed with shape (None, None, 102) for input KerasTensor(type_spec=TensorSpec(shape=(None, None, 102), dtype=tf.float32, name='dense_600_input'), name='dense_600_input', description=\"created by layer 'dense_600_input'\"), but it was called on an input with incompatible shape (None, 102).\n"
     ]
    },
    {
     "name": "stderr",
     "output_type": "stream",
     "text": [
      "2022-12-16 14:07:18.616010: I tensorflow/core/grappler/optimizers/custom_graph_optimizer_registry.cc:114] Plugin optimizer for device_type GPU is enabled.\n"
     ]
    },
    {
     "name": "stdout",
     "output_type": "stream",
     "text": [
      "270/270 [==============================] - 2s 6ms/step - loss: 2193.7397 - mean_squared_error: 35505432.0000 - mean_absolute_error: 2193.7397\n",
      "46/46 [==============================] - 1s 13ms/step - loss: 1994.9960 - mean_squared_error: 13433325.0000 - mean_absolute_error: 1994.9960\n",
      "Epoch 1/10\n",
      "WARNING:tensorflow:Model was constructed with shape (None, None, 102) for input KerasTensor(type_spec=TensorSpec(shape=(None, None, 102), dtype=tf.float32, name='dense_608_input'), name='dense_608_input', description=\"created by layer 'dense_608_input'\"), but it was called on an input with incompatible shape (None, 102).\n",
      "WARNING:tensorflow:Model was constructed with shape (None, None, 102) for input KerasTensor(type_spec=TensorSpec(shape=(None, None, 102), dtype=tf.float32, name='dense_608_input'), name='dense_608_input', description=\"created by layer 'dense_608_input'\"), but it was called on an input with incompatible shape (None, 102).\n"
     ]
    },
    {
     "name": "stderr",
     "output_type": "stream",
     "text": [
      "2022-12-16 14:07:21.776323: I tensorflow/core/grappler/optimizers/custom_graph_optimizer_registry.cc:114] Plugin optimizer for device_type GPU is enabled.\n"
     ]
    },
    {
     "name": "stdout",
     "output_type": "stream",
     "text": [
      "272/272 [==============================] - 10s 21ms/step - loss: 7409.8569 - mean_squared_error: 219316736.0000 - mean_absolute_error: 7409.8569\n",
      "Epoch 2/10\n",
      "272/272 [==============================] - 4s 16ms/step - loss: 3732.4390 - mean_squared_error: 59638724.0000 - mean_absolute_error: 3732.4390\n",
      "Epoch 3/10\n",
      "272/272 [==============================] - 4s 16ms/step - loss: 3421.5220 - mean_squared_error: 53612332.0000 - mean_absolute_error: 3421.5220\n",
      "Epoch 4/10\n",
      "272/272 [==============================] - 4s 16ms/step - loss: 3213.9749 - mean_squared_error: 48534636.0000 - mean_absolute_error: 3213.9749\n",
      "Epoch 5/10\n",
      "272/272 [==============================] - 4s 16ms/step - loss: 3061.7112 - mean_squared_error: 47037288.0000 - mean_absolute_error: 3061.7112\n",
      "Epoch 6/10\n",
      "272/272 [==============================] - 4s 16ms/step - loss: 2961.7012 - mean_squared_error: 46015876.0000 - mean_absolute_error: 2961.7012\n",
      "Epoch 7/10\n",
      "272/272 [==============================] - 4s 16ms/step - loss: 2852.7061 - mean_squared_error: 44284268.0000 - mean_absolute_error: 2852.7061\n",
      "Epoch 8/10\n",
      "272/272 [==============================] - 4s 16ms/step - loss: 2770.4993 - mean_squared_error: 43035136.0000 - mean_absolute_error: 2770.4993\n",
      "Epoch 9/10\n",
      "272/272 [==============================] - 4s 16ms/step - loss: 2656.9214 - mean_squared_error: 40368116.0000 - mean_absolute_error: 2656.9214\n",
      "Epoch 10/10\n",
      "272/272 [==============================] - 4s 16ms/step - loss: 2644.0410 - mean_squared_error: 40227000.0000 - mean_absolute_error: 2644.0410\n",
      "WARNING:tensorflow:Model was constructed with shape (None, None, 102) for input KerasTensor(type_spec=TensorSpec(shape=(None, None, 102), dtype=tf.float32, name='dense_608_input'), name='dense_608_input', description=\"created by layer 'dense_608_input'\"), but it was called on an input with incompatible shape (None, 102).\n"
     ]
    },
    {
     "name": "stderr",
     "output_type": "stream",
     "text": [
      "2022-12-16 14:08:09.716836: I tensorflow/core/grappler/optimizers/custom_graph_optimizer_registry.cc:114] Plugin optimizer for device_type GPU is enabled.\n"
     ]
    },
    {
     "name": "stdout",
     "output_type": "stream",
     "text": [
      "272/272 [==============================] - 2s 7ms/step - loss: 2266.5544 - mean_squared_error: 32513610.0000 - mean_absolute_error: 2266.5544\n",
      "47/47 [==============================] - 1s 13ms/step - loss: 2348.7244 - mean_squared_error: 17582576.0000 - mean_absolute_error: 2348.7244\n",
      "Epoch 1/10\n",
      "WARNING:tensorflow:Model was constructed with shape (None, None, 102) for input KerasTensor(type_spec=TensorSpec(shape=(None, None, 102), dtype=tf.float32, name='dense_616_input'), name='dense_616_input', description=\"created by layer 'dense_616_input'\"), but it was called on an input with incompatible shape (None, 102).\n",
      "WARNING:tensorflow:Model was constructed with shape (None, None, 102) for input KerasTensor(type_spec=TensorSpec(shape=(None, None, 102), dtype=tf.float32, name='dense_616_input'), name='dense_616_input', description=\"created by layer 'dense_616_input'\"), but it was called on an input with incompatible shape (None, 102).\n"
     ]
    },
    {
     "name": "stderr",
     "output_type": "stream",
     "text": [
      "2022-12-16 14:08:13.191419: I tensorflow/core/grappler/optimizers/custom_graph_optimizer_registry.cc:114] Plugin optimizer for device_type GPU is enabled.\n"
     ]
    },
    {
     "name": "stdout",
     "output_type": "stream",
     "text": [
      "172/172 [==============================] - 7s 25ms/step - loss: 3125.9380 - mean_squared_error: 43986420.0000 - mean_absolute_error: 3125.9380\n",
      "Epoch 2/10\n",
      "172/172 [==============================] - 3s 16ms/step - loss: 1434.5450 - mean_squared_error: 8535049.0000 - mean_absolute_error: 1434.5450\n",
      "Epoch 3/10\n",
      "172/172 [==============================] - 3s 16ms/step - loss: 1267.7968 - mean_squared_error: 7439141.5000 - mean_absolute_error: 1267.7968\n",
      "Epoch 4/10\n",
      "172/172 [==============================] - 3s 16ms/step - loss: 1164.1077 - mean_squared_error: 6505530.0000 - mean_absolute_error: 1164.1077\n",
      "Epoch 5/10\n",
      "172/172 [==============================] - 3s 15ms/step - loss: 1131.3430 - mean_squared_error: 6144934.0000 - mean_absolute_error: 1131.3430\n",
      "Epoch 6/10\n",
      "172/172 [==============================] - 3s 16ms/step - loss: 1055.0476 - mean_squared_error: 5521377.0000 - mean_absolute_error: 1055.0476\n",
      "Epoch 7/10\n",
      "172/172 [==============================] - 3s 16ms/step - loss: 986.6716 - mean_squared_error: 4908328.0000 - mean_absolute_error: 986.6716\n",
      "Epoch 8/10\n",
      "172/172 [==============================] - 3s 16ms/step - loss: 957.9070 - mean_squared_error: 4754370.5000 - mean_absolute_error: 957.9070\n",
      "Epoch 9/10\n",
      "172/172 [==============================] - 3s 16ms/step - loss: 965.0095 - mean_squared_error: 4738963.0000 - mean_absolute_error: 965.0095\n",
      "Epoch 10/10\n",
      "172/172 [==============================] - 3s 16ms/step - loss: 934.0685 - mean_squared_error: 4540933.0000 - mean_absolute_error: 934.0685\n",
      "WARNING:tensorflow:Model was constructed with shape (None, None, 102) for input KerasTensor(type_spec=TensorSpec(shape=(None, None, 102), dtype=tf.float32, name='dense_616_input'), name='dense_616_input', description=\"created by layer 'dense_616_input'\"), but it was called on an input with incompatible shape (None, 102).\n"
     ]
    },
    {
     "name": "stderr",
     "output_type": "stream",
     "text": [
      "2022-12-16 14:08:44.361101: I tensorflow/core/grappler/optimizers/custom_graph_optimizer_registry.cc:114] Plugin optimizer for device_type GPU is enabled.\n"
     ]
    },
    {
     "name": "stdout",
     "output_type": "stream",
     "text": [
      "172/172 [==============================] - 2s 7ms/step - loss: 666.5977 - mean_squared_error: 2455520.0000 - mean_absolute_error: 666.5977\n",
      "31/31 [==============================] - 0s 13ms/step - loss: 725.6741 - mean_squared_error: 2429811.7500 - mean_absolute_error: 725.6741\n",
      "Epoch 1/10\n",
      "WARNING:tensorflow:Model was constructed with shape (None, None, 102) for input KerasTensor(type_spec=TensorSpec(shape=(None, None, 102), dtype=tf.float32, name='dense_624_input'), name='dense_624_input', description=\"created by layer 'dense_624_input'\"), but it was called on an input with incompatible shape (None, 102).\n",
      "WARNING:tensorflow:Model was constructed with shape (None, None, 102) for input KerasTensor(type_spec=TensorSpec(shape=(None, None, 102), dtype=tf.float32, name='dense_624_input'), name='dense_624_input', description=\"created by layer 'dense_624_input'\"), but it was called on an input with incompatible shape (None, 102).\n"
     ]
    },
    {
     "name": "stderr",
     "output_type": "stream",
     "text": [
      "2022-12-16 14:08:46.860875: I tensorflow/core/grappler/optimizers/custom_graph_optimizer_registry.cc:114] Plugin optimizer for device_type GPU is enabled.\n"
     ]
    },
    {
     "name": "stdout",
     "output_type": "stream",
     "text": [
      "273/273 [==============================] - 7s 21ms/step - loss: 6449.2646 - mean_squared_error: 139056880.0000 - mean_absolute_error: 6449.2646\n",
      "Epoch 2/10\n",
      "273/273 [==============================] - 4s 16ms/step - loss: 3307.7070 - mean_squared_error: 38554216.0000 - mean_absolute_error: 3307.7070\n",
      "Epoch 3/10\n",
      "273/273 [==============================] - 4s 16ms/step - loss: 3035.8181 - mean_squared_error: 34937388.0000 - mean_absolute_error: 3035.8181\n",
      "Epoch 4/10\n",
      "273/273 [==============================] - 4s 15ms/step - loss: 2809.2620 - mean_squared_error: 31432794.0000 - mean_absolute_error: 2809.2620\n",
      "Epoch 5/10\n",
      "273/273 [==============================] - 4s 16ms/step - loss: 2722.4736 - mean_squared_error: 31332358.0000 - mean_absolute_error: 2722.4736\n",
      "Epoch 6/10\n",
      "273/273 [==============================] - 4s 16ms/step - loss: 2566.8228 - mean_squared_error: 28926684.0000 - mean_absolute_error: 2566.8228\n",
      "Epoch 7/10\n",
      "273/273 [==============================] - 4s 16ms/step - loss: 2516.1311 - mean_squared_error: 27021374.0000 - mean_absolute_error: 2516.1311\n",
      "Epoch 8/10\n",
      "273/273 [==============================] - 4s 16ms/step - loss: 2405.5918 - mean_squared_error: 26203020.0000 - mean_absolute_error: 2405.5918\n",
      "Epoch 9/10\n",
      "273/273 [==============================] - 4s 16ms/step - loss: 2300.8525 - mean_squared_error: 24471068.0000 - mean_absolute_error: 2300.8525\n",
      "Epoch 10/10\n",
      "273/273 [==============================] - 4s 16ms/step - loss: 2243.7190 - mean_squared_error: 22831976.0000 - mean_absolute_error: 2243.7190\n",
      "WARNING:tensorflow:Model was constructed with shape (None, None, 102) for input KerasTensor(type_spec=TensorSpec(shape=(None, None, 102), dtype=tf.float32, name='dense_624_input'), name='dense_624_input', description=\"created by layer 'dense_624_input'\"), but it was called on an input with incompatible shape (None, 102).\n"
     ]
    },
    {
     "name": "stderr",
     "output_type": "stream",
     "text": [
      "2022-12-16 14:09:32.317065: I tensorflow/core/grappler/optimizers/custom_graph_optimizer_registry.cc:114] Plugin optimizer for device_type GPU is enabled.\n"
     ]
    },
    {
     "name": "stdout",
     "output_type": "stream",
     "text": [
      "273/273 [==============================] - 2s 7ms/step - loss: 2414.5010 - mean_squared_error: 26780046.0000 - mean_absolute_error: 2414.5010\n",
      "47/47 [==============================] - 0s 7ms/step - loss: 1791.1841 - mean_squared_error: 11160110.0000 - mean_absolute_error: 1791.1841\n",
      "Epoch 1/10\n",
      "WARNING:tensorflow:Model was constructed with shape (None, None, 102) for input KerasTensor(type_spec=TensorSpec(shape=(None, None, 102), dtype=tf.float32, name='dense_632_input'), name='dense_632_input', description=\"created by layer 'dense_632_input'\"), but it was called on an input with incompatible shape (None, 102).\n",
      "WARNING:tensorflow:Model was constructed with shape (None, None, 102) for input KerasTensor(type_spec=TensorSpec(shape=(None, None, 102), dtype=tf.float32, name='dense_632_input'), name='dense_632_input', description=\"created by layer 'dense_632_input'\"), but it was called on an input with incompatible shape (None, 102).\n"
     ]
    },
    {
     "name": "stderr",
     "output_type": "stream",
     "text": [
      "2022-12-16 14:09:35.468951: I tensorflow/core/grappler/optimizers/custom_graph_optimizer_registry.cc:114] Plugin optimizer for device_type GPU is enabled.\n"
     ]
    },
    {
     "name": "stdout",
     "output_type": "stream",
     "text": [
      "251/251 [==============================] - 9s 20ms/step - loss: 6672.3706 - mean_squared_error: 242229136.0000 - mean_absolute_error: 6672.3706\n",
      "Epoch 2/10\n",
      "251/251 [==============================] - 4s 16ms/step - loss: 4072.6099 - mean_squared_error: 146197664.0000 - mean_absolute_error: 4072.6099\n",
      "Epoch 3/10\n",
      "251/251 [==============================] - 4s 16ms/step - loss: 3758.1926 - mean_squared_error: 142719552.0000 - mean_absolute_error: 3758.1926\n",
      "Epoch 4/10\n",
      "251/251 [==============================] - 4s 16ms/step - loss: 3628.7256 - mean_squared_error: 145110368.0000 - mean_absolute_error: 3628.7256\n",
      "Epoch 5/10\n",
      "251/251 [==============================] - 4s 16ms/step - loss: 3437.2419 - mean_squared_error: 137326912.0000 - mean_absolute_error: 3437.2419\n",
      "Epoch 6/10\n",
      "251/251 [==============================] - 4s 16ms/step - loss: 3263.8398 - mean_squared_error: 139016640.0000 - mean_absolute_error: 3263.8398\n",
      "Epoch 7/10\n",
      "251/251 [==============================] - 4s 16ms/step - loss: 3178.0308 - mean_squared_error: 132081736.0000 - mean_absolute_error: 3178.0308\n",
      "Epoch 8/10\n",
      "251/251 [==============================] - 4s 16ms/step - loss: 3074.8416 - mean_squared_error: 129912928.0000 - mean_absolute_error: 3074.8416\n",
      "Epoch 9/10\n",
      "251/251 [==============================] - 4s 16ms/step - loss: 2976.2898 - mean_squared_error: 121470904.0000 - mean_absolute_error: 2976.2898\n",
      "Epoch 10/10\n",
      "251/251 [==============================] - 4s 16ms/step - loss: 2971.1099 - mean_squared_error: 128719736.0000 - mean_absolute_error: 2971.1099\n",
      "WARNING:tensorflow:Model was constructed with shape (None, None, 102) for input KerasTensor(type_spec=TensorSpec(shape=(None, None, 102), dtype=tf.float32, name='dense_632_input'), name='dense_632_input', description=\"created by layer 'dense_632_input'\"), but it was called on an input with incompatible shape (None, 102).\n"
     ]
    },
    {
     "name": "stderr",
     "output_type": "stream",
     "text": [
      "2022-12-16 14:10:19.847541: I tensorflow/core/grappler/optimizers/custom_graph_optimizer_registry.cc:114] Plugin optimizer for device_type GPU is enabled.\n"
     ]
    },
    {
     "name": "stdout",
     "output_type": "stream",
     "text": [
      "251/251 [==============================] - 2s 7ms/step - loss: 2633.0969 - mean_squared_error: 119206984.0000 - mean_absolute_error: 2633.0969\n",
      "44/44 [==============================] - 0s 10ms/step - loss: 2676.8464 - mean_squared_error: 27505534.0000 - mean_absolute_error: 2676.8464\n",
      "Epoch 1/10\n",
      "WARNING:tensorflow:Model was constructed with shape (None, None, 102) for input KerasTensor(type_spec=TensorSpec(shape=(None, None, 102), dtype=tf.float32, name='dense_640_input'), name='dense_640_input', description=\"created by layer 'dense_640_input'\"), but it was called on an input with incompatible shape (None, 102).\n",
      "WARNING:tensorflow:Model was constructed with shape (None, None, 102) for input KerasTensor(type_spec=TensorSpec(shape=(None, None, 102), dtype=tf.float32, name='dense_640_input'), name='dense_640_input', description=\"created by layer 'dense_640_input'\"), but it was called on an input with incompatible shape (None, 102).\n"
     ]
    },
    {
     "name": "stderr",
     "output_type": "stream",
     "text": [
      "2022-12-16 14:10:22.890268: I tensorflow/core/grappler/optimizers/custom_graph_optimizer_registry.cc:114] Plugin optimizer for device_type GPU is enabled.\n"
     ]
    },
    {
     "name": "stdout",
     "output_type": "stream",
     "text": [
      "166/166 [==============================] - 7s 23ms/step - loss: 5010.3979 - mean_squared_error: 104066984.0000 - mean_absolute_error: 5010.3979\n",
      "Epoch 2/10\n",
      "166/166 [==============================] - 3s 16ms/step - loss: 2193.1855 - mean_squared_error: 18458450.0000 - mean_absolute_error: 2193.1855\n",
      "Epoch 3/10\n",
      "166/166 [==============================] - 3s 16ms/step - loss: 1859.2980 - mean_squared_error: 13807945.0000 - mean_absolute_error: 1859.2980\n",
      "Epoch 4/10\n",
      "166/166 [==============================] - 3s 17ms/step - loss: 1659.6166 - mean_squared_error: 11675674.0000 - mean_absolute_error: 1659.6166\n",
      "Epoch 5/10\n",
      "166/166 [==============================] - 3s 16ms/step - loss: 1583.6646 - mean_squared_error: 10858982.0000 - mean_absolute_error: 1583.6646\n",
      "Epoch 6/10\n",
      "166/166 [==============================] - 3s 16ms/step - loss: 1489.8479 - mean_squared_error: 9578829.0000 - mean_absolute_error: 1489.8479\n",
      "Epoch 7/10\n",
      "166/166 [==============================] - 3s 18ms/step - loss: 1392.6785 - mean_squared_error: 8733304.0000 - mean_absolute_error: 1392.6785\n",
      "Epoch 8/10\n",
      "166/166 [==============================] - 3s 16ms/step - loss: 1404.6678 - mean_squared_error: 8597328.0000 - mean_absolute_error: 1404.6678\n",
      "Epoch 9/10\n",
      "166/166 [==============================] - 3s 16ms/step - loss: 1328.4868 - mean_squared_error: 7895958.5000 - mean_absolute_error: 1328.4868\n",
      "Epoch 10/10\n",
      "166/166 [==============================] - 3s 17ms/step - loss: 1292.6285 - mean_squared_error: 7574151.0000 - mean_absolute_error: 1292.6285\n",
      "WARNING:tensorflow:Model was constructed with shape (None, None, 102) for input KerasTensor(type_spec=TensorSpec(shape=(None, None, 102), dtype=tf.float32, name='dense_640_input'), name='dense_640_input', description=\"created by layer 'dense_640_input'\"), but it was called on an input with incompatible shape (None, 102).\n"
     ]
    },
    {
     "name": "stderr",
     "output_type": "stream",
     "text": [
      "2022-12-16 14:10:54.023953: I tensorflow/core/grappler/optimizers/custom_graph_optimizer_registry.cc:114] Plugin optimizer for device_type GPU is enabled.\n"
     ]
    },
    {
     "name": "stdout",
     "output_type": "stream",
     "text": [
      "166/166 [==============================] - 2s 11ms/step - loss: 1048.0565 - mean_squared_error: 4191239.5000 - mean_absolute_error: 1048.0565\n",
      "29/29 [==============================] - 1s 20ms/step - loss: 851.6713 - mean_squared_error: 2402732.2500 - mean_absolute_error: 851.6713\n",
      "Epoch 1/10\n",
      "WARNING:tensorflow:Model was constructed with shape (None, None, 102) for input KerasTensor(type_spec=TensorSpec(shape=(None, None, 102), dtype=tf.float32, name='dense_648_input'), name='dense_648_input', description=\"created by layer 'dense_648_input'\"), but it was called on an input with incompatible shape (None, 102).\n",
      "WARNING:tensorflow:Model was constructed with shape (None, None, 102) for input KerasTensor(type_spec=TensorSpec(shape=(None, None, 102), dtype=tf.float32, name='dense_648_input'), name='dense_648_input', description=\"created by layer 'dense_648_input'\"), but it was called on an input with incompatible shape (None, 102).\n"
     ]
    },
    {
     "name": "stderr",
     "output_type": "stream",
     "text": [
      "2022-12-16 14:10:57.442061: I tensorflow/core/grappler/optimizers/custom_graph_optimizer_registry.cc:114] Plugin optimizer for device_type GPU is enabled.\n"
     ]
    },
    {
     "name": "stdout",
     "output_type": "stream",
     "text": [
      "191/191 [==============================] - 7s 25ms/step - loss: 5714.3027 - mean_squared_error: 148910320.0000 - mean_absolute_error: 5714.3027\n",
      "Epoch 2/10\n",
      "191/191 [==============================] - 3s 16ms/step - loss: 2293.8584 - mean_squared_error: 21657126.0000 - mean_absolute_error: 2293.8584\n",
      "Epoch 3/10\n",
      "191/191 [==============================] - 3s 16ms/step - loss: 1981.9814 - mean_squared_error: 17374200.0000 - mean_absolute_error: 1981.9814\n",
      "Epoch 4/10\n",
      "191/191 [==============================] - 3s 16ms/step - loss: 1795.3577 - mean_squared_error: 14488146.0000 - mean_absolute_error: 1795.3577\n",
      "Epoch 5/10\n",
      "191/191 [==============================] - 3s 16ms/step - loss: 1657.7197 - mean_squared_error: 12839216.0000 - mean_absolute_error: 1657.7197\n",
      "Epoch 6/10\n",
      "191/191 [==============================] - 3s 15ms/step - loss: 1598.4573 - mean_squared_error: 12169416.0000 - mean_absolute_error: 1598.4573\n",
      "Epoch 7/10\n",
      "191/191 [==============================] - 3s 16ms/step - loss: 1510.0326 - mean_squared_error: 10844084.0000 - mean_absolute_error: 1510.0326\n",
      "Epoch 8/10\n",
      "191/191 [==============================] - 3s 15ms/step - loss: 1440.6027 - mean_squared_error: 9963569.0000 - mean_absolute_error: 1440.6027\n",
      "Epoch 9/10\n",
      "191/191 [==============================] - 3s 17ms/step - loss: 1434.7429 - mean_squared_error: 10653670.0000 - mean_absolute_error: 1434.7429\n",
      "Epoch 10/10\n",
      "191/191 [==============================] - 3s 16ms/step - loss: 1338.1216 - mean_squared_error: 8828456.0000 - mean_absolute_error: 1338.1216\n",
      "WARNING:tensorflow:Model was constructed with shape (None, None, 102) for input KerasTensor(type_spec=TensorSpec(shape=(None, None, 102), dtype=tf.float32, name='dense_648_input'), name='dense_648_input', description=\"created by layer 'dense_648_input'\"), but it was called on an input with incompatible shape (None, 102).\n"
     ]
    },
    {
     "name": "stderr",
     "output_type": "stream",
     "text": [
      "2022-12-16 14:11:31.055637: I tensorflow/core/grappler/optimizers/custom_graph_optimizer_registry.cc:114] Plugin optimizer for device_type GPU is enabled.\n"
     ]
    },
    {
     "name": "stdout",
     "output_type": "stream",
     "text": [
      "191/191 [==============================] - 2s 8ms/step - loss: 942.1799 - mean_squared_error: 4345075.5000 - mean_absolute_error: 942.1799\n",
      "35/35 [==============================] - 0s 12ms/step - loss: 735.9327 - mean_squared_error: 2660271.5000 - mean_absolute_error: 735.9327\n",
      "Epoch 1/10\n",
      "WARNING:tensorflow:Model was constructed with shape (None, None, 102) for input KerasTensor(type_spec=TensorSpec(shape=(None, None, 102), dtype=tf.float32, name='dense_656_input'), name='dense_656_input', description=\"created by layer 'dense_656_input'\"), but it was called on an input with incompatible shape (None, 102).\n",
      "WARNING:tensorflow:Model was constructed with shape (None, None, 102) for input KerasTensor(type_spec=TensorSpec(shape=(None, None, 102), dtype=tf.float32, name='dense_656_input'), name='dense_656_input', description=\"created by layer 'dense_656_input'\"), but it was called on an input with incompatible shape (None, 102).\n"
     ]
    },
    {
     "name": "stderr",
     "output_type": "stream",
     "text": [
      "2022-12-16 14:11:33.969848: I tensorflow/core/grappler/optimizers/custom_graph_optimizer_registry.cc:114] Plugin optimizer for device_type GPU is enabled.\n"
     ]
    },
    {
     "name": "stdout",
     "output_type": "stream",
     "text": [
      "195/195 [==============================] - 8s 22ms/step - loss: 3879.9868 - mean_squared_error: 76467064.0000 - mean_absolute_error: 3879.9868\n",
      "Epoch 2/10\n",
      "195/195 [==============================] - 3s 16ms/step - loss: 1614.8160 - mean_squared_error: 13128690.0000 - mean_absolute_error: 1614.8160\n",
      "Epoch 3/10\n",
      "195/195 [==============================] - 3s 16ms/step - loss: 1447.6130 - mean_squared_error: 12230466.0000 - mean_absolute_error: 1447.6130\n",
      "Epoch 4/10\n",
      "195/195 [==============================] - 3s 17ms/step - loss: 1293.7350 - mean_squared_error: 10088465.0000 - mean_absolute_error: 1293.7350\n",
      "Epoch 5/10\n",
      "195/195 [==============================] - 3s 16ms/step - loss: 1221.9406 - mean_squared_error: 9272717.0000 - mean_absolute_error: 1221.9406\n",
      "Epoch 6/10\n",
      "195/195 [==============================] - 3s 16ms/step - loss: 1161.4407 - mean_squared_error: 8490212.0000 - mean_absolute_error: 1161.4407\n",
      "Epoch 7/10\n",
      "195/195 [==============================] - 3s 16ms/step - loss: 1098.4041 - mean_squared_error: 7561471.5000 - mean_absolute_error: 1098.4041\n",
      "Epoch 8/10\n",
      "195/195 [==============================] - 3s 16ms/step - loss: 1061.3413 - mean_squared_error: 6968440.0000 - mean_absolute_error: 1061.3413\n",
      "Epoch 9/10\n",
      "195/195 [==============================] - 3s 16ms/step - loss: 1018.6500 - mean_squared_error: 6430422.5000 - mean_absolute_error: 1018.6500\n",
      "Epoch 10/10\n",
      "195/195 [==============================] - 3s 17ms/step - loss: 1016.6799 - mean_squared_error: 6192563.5000 - mean_absolute_error: 1016.6799\n",
      "WARNING:tensorflow:Model was constructed with shape (None, None, 102) for input KerasTensor(type_spec=TensorSpec(shape=(None, None, 102), dtype=tf.float32, name='dense_656_input'), name='dense_656_input', description=\"created by layer 'dense_656_input'\"), but it was called on an input with incompatible shape (None, 102).\n"
     ]
    },
    {
     "name": "stderr",
     "output_type": "stream",
     "text": [
      "2022-12-16 14:12:10.373868: I tensorflow/core/grappler/optimizers/custom_graph_optimizer_registry.cc:114] Plugin optimizer for device_type GPU is enabled.\n"
     ]
    },
    {
     "name": "stdout",
     "output_type": "stream",
     "text": [
      "195/195 [==============================] - 2s 8ms/step - loss: 828.2349 - mean_squared_error: 4582929.0000 - mean_absolute_error: 828.2349\n",
      "36/36 [==============================] - 1s 16ms/step - loss: 1415.1194 - mean_squared_error: 11952507.0000 - mean_absolute_error: 1415.1194\n",
      "Epoch 1/10\n",
      "WARNING:tensorflow:Model was constructed with shape (None, None, 102) for input KerasTensor(type_spec=TensorSpec(shape=(None, None, 102), dtype=tf.float32, name='dense_664_input'), name='dense_664_input', description=\"created by layer 'dense_664_input'\"), but it was called on an input with incompatible shape (None, 102).\n",
      "WARNING:tensorflow:Model was constructed with shape (None, None, 102) for input KerasTensor(type_spec=TensorSpec(shape=(None, None, 102), dtype=tf.float32, name='dense_664_input'), name='dense_664_input', description=\"created by layer 'dense_664_input'\"), but it was called on an input with incompatible shape (None, 102).\n"
     ]
    },
    {
     "name": "stderr",
     "output_type": "stream",
     "text": [
      "2022-12-16 14:12:13.411173: I tensorflow/core/grappler/optimizers/custom_graph_optimizer_registry.cc:114] Plugin optimizer for device_type GPU is enabled.\n"
     ]
    },
    {
     "name": "stdout",
     "output_type": "stream",
     "text": [
      "263/263 [==============================] - 8s 20ms/step - loss: 9592.8242 - mean_squared_error: 353645376.0000 - mean_absolute_error: 9592.8242\n",
      "Epoch 2/10\n",
      "263/263 [==============================] - 5s 17ms/step - loss: 4752.2305 - mean_squared_error: 110504320.0000 - mean_absolute_error: 4752.2305\n",
      "Epoch 3/10\n",
      "263/263 [==============================] - 4s 16ms/step - loss: 4397.6274 - mean_squared_error: 103767968.0000 - mean_absolute_error: 4397.6274\n",
      "Epoch 4/10\n",
      "263/263 [==============================] - 5s 17ms/step - loss: 4269.6157 - mean_squared_error: 99668360.0000 - mean_absolute_error: 4269.6157\n",
      "Epoch 5/10\n",
      "263/263 [==============================] - 4s 17ms/step - loss: 4072.1921 - mean_squared_error: 96193264.0000 - mean_absolute_error: 4072.1921\n",
      "Epoch 6/10\n",
      "263/263 [==============================] - 4s 16ms/step - loss: 4011.3945 - mean_squared_error: 96604184.0000 - mean_absolute_error: 4011.3945\n",
      "Epoch 7/10\n",
      "263/263 [==============================] - 4s 16ms/step - loss: 3843.3860 - mean_squared_error: 90618616.0000 - mean_absolute_error: 3843.3860\n",
      "Epoch 8/10\n",
      "263/263 [==============================] - 4s 16ms/step - loss: 3764.9624 - mean_squared_error: 91613360.0000 - mean_absolute_error: 3764.9624\n",
      "Epoch 9/10\n",
      "263/263 [==============================] - 4s 16ms/step - loss: 3673.9089 - mean_squared_error: 88679976.0000 - mean_absolute_error: 3673.9089\n",
      "Epoch 10/10\n",
      "263/263 [==============================] - 4s 16ms/step - loss: 3642.1687 - mean_squared_error: 89349200.0000 - mean_absolute_error: 3642.1687\n",
      "WARNING:tensorflow:Model was constructed with shape (None, None, 102) for input KerasTensor(type_spec=TensorSpec(shape=(None, None, 102), dtype=tf.float32, name='dense_664_input'), name='dense_664_input', description=\"created by layer 'dense_664_input'\"), but it was called on an input with incompatible shape (None, 102).\n"
     ]
    },
    {
     "name": "stderr",
     "output_type": "stream",
     "text": [
      "2022-12-16 14:13:00.344286: I tensorflow/core/grappler/optimizers/custom_graph_optimizer_registry.cc:114] Plugin optimizer for device_type GPU is enabled.\n"
     ]
    },
    {
     "name": "stdout",
     "output_type": "stream",
     "text": [
      "263/263 [==============================] - 2s 7ms/step - loss: 3843.2742 - mean_squared_error: 87920640.0000 - mean_absolute_error: 3843.2742\n",
      "46/46 [==============================] - 1s 12ms/step - loss: 9213.2705 - mean_squared_error: 166686288.0000 - mean_absolute_error: 9213.2705\n",
      "Epoch 1/10\n",
      "WARNING:tensorflow:Model was constructed with shape (None, None, 102) for input KerasTensor(type_spec=TensorSpec(shape=(None, None, 102), dtype=tf.float32, name='dense_672_input'), name='dense_672_input', description=\"created by layer 'dense_672_input'\"), but it was called on an input with incompatible shape (None, 102).\n",
      "WARNING:tensorflow:Model was constructed with shape (None, None, 102) for input KerasTensor(type_spec=TensorSpec(shape=(None, None, 102), dtype=tf.float32, name='dense_672_input'), name='dense_672_input', description=\"created by layer 'dense_672_input'\"), but it was called on an input with incompatible shape (None, 102).\n"
     ]
    },
    {
     "name": "stderr",
     "output_type": "stream",
     "text": [
      "2022-12-16 14:13:03.539690: I tensorflow/core/grappler/optimizers/custom_graph_optimizer_registry.cc:114] Plugin optimizer for device_type GPU is enabled.\n"
     ]
    },
    {
     "name": "stdout",
     "output_type": "stream",
     "text": [
      "267/267 [==============================] - 8s 22ms/step - loss: 6121.5532 - mean_squared_error: 148500224.0000 - mean_absolute_error: 6121.5532\n",
      "Epoch 2/10\n",
      "267/267 [==============================] - 4s 16ms/step - loss: 3373.7468 - mean_squared_error: 41622812.0000 - mean_absolute_error: 3373.7468\n",
      "Epoch 3/10\n",
      "267/267 [==============================] - 4s 16ms/step - loss: 3130.7195 - mean_squared_error: 37343780.0000 - mean_absolute_error: 3130.7195\n",
      "Epoch 4/10\n",
      "267/267 [==============================] - 4s 16ms/step - loss: 2926.0925 - mean_squared_error: 34613668.0000 - mean_absolute_error: 2926.0925\n",
      "Epoch 5/10\n",
      "267/267 [==============================] - 4s 16ms/step - loss: 2798.6506 - mean_squared_error: 31973738.0000 - mean_absolute_error: 2798.6506\n",
      "Epoch 6/10\n",
      "267/267 [==============================] - 4s 16ms/step - loss: 2724.8816 - mean_squared_error: 30855916.0000 - mean_absolute_error: 2724.8816\n",
      "Epoch 7/10\n",
      "267/267 [==============================] - 4s 16ms/step - loss: 2604.2180 - mean_squared_error: 29851628.0000 - mean_absolute_error: 2604.2180\n",
      "Epoch 8/10\n",
      "267/267 [==============================] - 4s 16ms/step - loss: 2551.1272 - mean_squared_error: 28118252.0000 - mean_absolute_error: 2551.1272\n",
      "Epoch 9/10\n",
      "267/267 [==============================] - 4s 16ms/step - loss: 2440.9104 - mean_squared_error: 25933612.0000 - mean_absolute_error: 2440.9104\n",
      "Epoch 10/10\n",
      "267/267 [==============================] - 4s 17ms/step - loss: 2424.0571 - mean_squared_error: 26315440.0000 - mean_absolute_error: 2424.0571\n",
      "WARNING:tensorflow:Model was constructed with shape (None, None, 102) for input KerasTensor(type_spec=TensorSpec(shape=(None, None, 102), dtype=tf.float32, name='dense_672_input'), name='dense_672_input', description=\"created by layer 'dense_672_input'\"), but it was called on an input with incompatible shape (None, 102).\n"
     ]
    },
    {
     "name": "stderr",
     "output_type": "stream",
     "text": [
      "2022-12-16 14:13:49.298431: I tensorflow/core/grappler/optimizers/custom_graph_optimizer_registry.cc:114] Plugin optimizer for device_type GPU is enabled.\n"
     ]
    },
    {
     "name": "stdout",
     "output_type": "stream",
     "text": [
      "267/267 [==============================] - 2s 7ms/step - loss: 2857.8459 - mean_squared_error: 33233626.0000 - mean_absolute_error: 2857.8459\n",
      "47/47 [==============================] - 1s 15ms/step - loss: 3586.0779 - mean_squared_error: 41805560.0000 - mean_absolute_error: 3586.0779\n",
      "Epoch 1/10\n",
      "WARNING:tensorflow:Model was constructed with shape (None, None, 102) for input KerasTensor(type_spec=TensorSpec(shape=(None, None, 102), dtype=tf.float32, name='dense_680_input'), name='dense_680_input', description=\"created by layer 'dense_680_input'\"), but it was called on an input with incompatible shape (None, 102).\n",
      "WARNING:tensorflow:Model was constructed with shape (None, None, 102) for input KerasTensor(type_spec=TensorSpec(shape=(None, None, 102), dtype=tf.float32, name='dense_680_input'), name='dense_680_input', description=\"created by layer 'dense_680_input'\"), but it was called on an input with incompatible shape (None, 102).\n"
     ]
    },
    {
     "name": "stderr",
     "output_type": "stream",
     "text": [
      "2022-12-16 14:13:52.748604: I tensorflow/core/grappler/optimizers/custom_graph_optimizer_registry.cc:114] Plugin optimizer for device_type GPU is enabled.\n"
     ]
    },
    {
     "name": "stdout",
     "output_type": "stream",
     "text": [
      "268/268 [==============================] - 9s 23ms/step - loss: 8282.3428 - mean_squared_error: 271527232.0000 - mean_absolute_error: 8282.3428\n",
      "Epoch 2/10\n",
      "268/268 [==============================] - 4s 16ms/step - loss: 4516.4849 - mean_squared_error: 90056200.0000 - mean_absolute_error: 4516.4849\n",
      "Epoch 3/10\n",
      "268/268 [==============================] - 4s 16ms/step - loss: 4131.5049 - mean_squared_error: 80614208.0000 - mean_absolute_error: 4131.5049\n",
      "Epoch 4/10\n",
      "268/268 [==============================] - 4s 16ms/step - loss: 3996.2310 - mean_squared_error: 78696704.0000 - mean_absolute_error: 3996.2310\n",
      "Epoch 5/10\n",
      "268/268 [==============================] - 4s 16ms/step - loss: 3745.3086 - mean_squared_error: 74409336.0000 - mean_absolute_error: 3745.3086\n",
      "Epoch 6/10\n",
      "268/268 [==============================] - 4s 16ms/step - loss: 3515.6572 - mean_squared_error: 69050120.0000 - mean_absolute_error: 3515.6572\n",
      "Epoch 7/10\n",
      "268/268 [==============================] - 4s 16ms/step - loss: 3351.8228 - mean_squared_error: 66394604.0000 - mean_absolute_error: 3351.8228\n",
      "Epoch 8/10\n",
      "268/268 [==============================] - 4s 16ms/step - loss: 3249.3838 - mean_squared_error: 63008656.0000 - mean_absolute_error: 3249.3838\n",
      "Epoch 9/10\n",
      "268/268 [==============================] - 4s 16ms/step - loss: 3144.6711 - mean_squared_error: 62141964.0000 - mean_absolute_error: 3144.6711\n",
      "Epoch 10/10\n",
      "268/268 [==============================] - 4s 16ms/step - loss: 2997.6667 - mean_squared_error: 56766832.0000 - mean_absolute_error: 2997.6667\n",
      "WARNING:tensorflow:Model was constructed with shape (None, None, 102) for input KerasTensor(type_spec=TensorSpec(shape=(None, None, 102), dtype=tf.float32, name='dense_680_input'), name='dense_680_input', description=\"created by layer 'dense_680_input'\"), but it was called on an input with incompatible shape (None, 102).\n"
     ]
    },
    {
     "name": "stderr",
     "output_type": "stream",
     "text": [
      "2022-12-16 14:14:39.847506: I tensorflow/core/grappler/optimizers/custom_graph_optimizer_registry.cc:114] Plugin optimizer for device_type GPU is enabled.\n"
     ]
    },
    {
     "name": "stdout",
     "output_type": "stream",
     "text": [
      "268/268 [==============================] - 2s 7ms/step - loss: 2361.0186 - mean_squared_error: 46955112.0000 - mean_absolute_error: 2361.0186\n",
      "47/47 [==============================] - 1s 13ms/step - loss: 3408.2402 - mean_squared_error: 43223360.0000 - mean_absolute_error: 3408.2402\n",
      "Epoch 1/10\n",
      "WARNING:tensorflow:Model was constructed with shape (None, None, 102) for input KerasTensor(type_spec=TensorSpec(shape=(None, None, 102), dtype=tf.float32, name='dense_688_input'), name='dense_688_input', description=\"created by layer 'dense_688_input'\"), but it was called on an input with incompatible shape (None, 102).\n",
      "WARNING:tensorflow:Model was constructed with shape (None, None, 102) for input KerasTensor(type_spec=TensorSpec(shape=(None, None, 102), dtype=tf.float32, name='dense_688_input'), name='dense_688_input', description=\"created by layer 'dense_688_input'\"), but it was called on an input with incompatible shape (None, 102).\n"
     ]
    },
    {
     "name": "stderr",
     "output_type": "stream",
     "text": [
      "2022-12-16 14:14:43.073459: I tensorflow/core/grappler/optimizers/custom_graph_optimizer_registry.cc:114] Plugin optimizer for device_type GPU is enabled.\n"
     ]
    },
    {
     "name": "stdout",
     "output_type": "stream",
     "text": [
      "183/183 [==============================] - 9s 26ms/step - loss: 11596.5664 - mean_squared_error: 468980928.0000 - mean_absolute_error: 11596.5664\n",
      "Epoch 2/10\n",
      "183/183 [==============================] - 3s 16ms/step - loss: 11596.3818 - mean_squared_error: 468976832.0000 - mean_absolute_error: 11596.3818\n",
      "Epoch 3/10\n",
      "183/183 [==============================] - 3s 16ms/step - loss: 11596.2012 - mean_squared_error: 468972352.0000 - mean_absolute_error: 11596.2012\n",
      "Epoch 4/10\n",
      "183/183 [==============================] - 3s 16ms/step - loss: 11596.0146 - mean_squared_error: 468968160.0000 - mean_absolute_error: 11596.0146\n",
      "Epoch 5/10\n",
      "183/183 [==============================] - 3s 16ms/step - loss: 11595.8320 - mean_squared_error: 468963936.0000 - mean_absolute_error: 11595.8320\n",
      "Epoch 6/10\n",
      "183/183 [==============================] - 3s 16ms/step - loss: 11595.6504 - mean_squared_error: 468959872.0000 - mean_absolute_error: 11595.6504\n",
      "Epoch 7/10\n",
      "183/183 [==============================] - 3s 16ms/step - loss: 11595.4688 - mean_squared_error: 468955424.0000 - mean_absolute_error: 11595.4688\n",
      "Epoch 8/10\n",
      "183/183 [==============================] - 3s 16ms/step - loss: 11595.2881 - mean_squared_error: 468951200.0000 - mean_absolute_error: 11595.2881\n",
      "Epoch 9/10\n",
      "183/183 [==============================] - 3s 16ms/step - loss: 11595.1074 - mean_squared_error: 468946976.0000 - mean_absolute_error: 11595.1074\n",
      "Epoch 10/10\n",
      "183/183 [==============================] - 3s 16ms/step - loss: 11594.9248 - mean_squared_error: 468942816.0000 - mean_absolute_error: 11594.9248\n",
      "WARNING:tensorflow:Model was constructed with shape (None, None, 102) for input KerasTensor(type_spec=TensorSpec(shape=(None, None, 102), dtype=tf.float32, name='dense_688_input'), name='dense_688_input', description=\"created by layer 'dense_688_input'\"), but it was called on an input with incompatible shape (None, 102).\n"
     ]
    },
    {
     "name": "stderr",
     "output_type": "stream",
     "text": [
      "2022-12-16 14:15:18.140687: I tensorflow/core/grappler/optimizers/custom_graph_optimizer_registry.cc:114] Plugin optimizer for device_type GPU is enabled.\n"
     ]
    },
    {
     "name": "stdout",
     "output_type": "stream",
     "text": [
      "183/183 [==============================] - 2s 8ms/step - loss: 11594.8311 - mean_squared_error: 468940480.0000 - mean_absolute_error: 11594.8311\n",
      "34/34 [==============================] - 0s 13ms/step - loss: 11098.4824 - mean_squared_error: 458501088.0000 - mean_absolute_error: 11098.4824\n",
      "Epoch 1/10\n",
      "WARNING:tensorflow:Model was constructed with shape (None, None, 102) for input KerasTensor(type_spec=TensorSpec(shape=(None, None, 102), dtype=tf.float32, name='dense_696_input'), name='dense_696_input', description=\"created by layer 'dense_696_input'\"), but it was called on an input with incompatible shape (None, 102).\n",
      "WARNING:tensorflow:Model was constructed with shape (None, None, 102) for input KerasTensor(type_spec=TensorSpec(shape=(None, None, 102), dtype=tf.float32, name='dense_696_input'), name='dense_696_input', description=\"created by layer 'dense_696_input'\"), but it was called on an input with incompatible shape (None, 102).\n"
     ]
    },
    {
     "name": "stderr",
     "output_type": "stream",
     "text": [
      "2022-12-16 14:15:21.059400: I tensorflow/core/grappler/optimizers/custom_graph_optimizer_registry.cc:114] Plugin optimizer for device_type GPU is enabled.\n"
     ]
    },
    {
     "name": "stdout",
     "output_type": "stream",
     "text": [
      "180/180 [==============================] - 8s 26ms/step - loss: 7088.5015 - mean_squared_error: 221457408.0000 - mean_absolute_error: 7088.5015\n",
      "Epoch 2/10\n",
      "180/180 [==============================] - 3s 16ms/step - loss: 2868.3071 - mean_squared_error: 33213912.0000 - mean_absolute_error: 2868.3071\n",
      "Epoch 3/10\n",
      "180/180 [==============================] - 3s 16ms/step - loss: 2631.6023 - mean_squared_error: 30318764.0000 - mean_absolute_error: 2631.6023\n",
      "Epoch 4/10\n",
      "180/180 [==============================] - 3s 17ms/step - loss: 2363.1616 - mean_squared_error: 24231838.0000 - mean_absolute_error: 2363.1616\n",
      "Epoch 5/10\n",
      "180/180 [==============================] - 3s 16ms/step - loss: 2222.6748 - mean_squared_error: 23072426.0000 - mean_absolute_error: 2222.6748\n",
      "Epoch 6/10\n",
      "180/180 [==============================] - 3s 16ms/step - loss: 2135.4797 - mean_squared_error: 21071680.0000 - mean_absolute_error: 2135.4797\n",
      "Epoch 7/10\n",
      "180/180 [==============================] - 3s 16ms/step - loss: 2037.9918 - mean_squared_error: 20595220.0000 - mean_absolute_error: 2037.9918\n",
      "Epoch 8/10\n",
      "180/180 [==============================] - 3s 16ms/step - loss: 2065.6775 - mean_squared_error: 20400398.0000 - mean_absolute_error: 2065.6775\n",
      "Epoch 9/10\n",
      "180/180 [==============================] - 3s 16ms/step - loss: 1980.7244 - mean_squared_error: 18714094.0000 - mean_absolute_error: 1980.7244\n",
      "Epoch 10/10\n",
      "180/180 [==============================] - 3s 16ms/step - loss: 1865.4767 - mean_squared_error: 17193892.0000 - mean_absolute_error: 1865.4767\n",
      "WARNING:tensorflow:Model was constructed with shape (None, None, 102) for input KerasTensor(type_spec=TensorSpec(shape=(None, None, 102), dtype=tf.float32, name='dense_696_input'), name='dense_696_input', description=\"created by layer 'dense_696_input'\"), but it was called on an input with incompatible shape (None, 102).\n"
     ]
    },
    {
     "name": "stderr",
     "output_type": "stream",
     "text": [
      "2022-12-16 14:15:54.416640: I tensorflow/core/grappler/optimizers/custom_graph_optimizer_registry.cc:114] Plugin optimizer for device_type GPU is enabled.\n"
     ]
    },
    {
     "name": "stdout",
     "output_type": "stream",
     "text": [
      "180/180 [==============================] - 2s 8ms/step - loss: 6371.2246 - mean_squared_error: 160473888.0000 - mean_absolute_error: 6371.2246\n",
      "32/32 [==============================] - 0s 15ms/step - loss: 4643.2051 - mean_squared_error: 96037312.0000 - mean_absolute_error: 4643.2051\n",
      "Epoch 1/10\n",
      "WARNING:tensorflow:Model was constructed with shape (None, None, 102) for input KerasTensor(type_spec=TensorSpec(shape=(None, None, 102), dtype=tf.float32, name='dense_704_input'), name='dense_704_input', description=\"created by layer 'dense_704_input'\"), but it was called on an input with incompatible shape (None, 102).\n",
      "WARNING:tensorflow:Model was constructed with shape (None, None, 102) for input KerasTensor(type_spec=TensorSpec(shape=(None, None, 102), dtype=tf.float32, name='dense_704_input'), name='dense_704_input', description=\"created by layer 'dense_704_input'\"), but it was called on an input with incompatible shape (None, 102).\n"
     ]
    },
    {
     "name": "stderr",
     "output_type": "stream",
     "text": [
      "2022-12-16 14:15:57.545765: I tensorflow/core/grappler/optimizers/custom_graph_optimizer_registry.cc:114] Plugin optimizer for device_type GPU is enabled.\n"
     ]
    },
    {
     "name": "stdout",
     "output_type": "stream",
     "text": [
      "189/189 [==============================] - 10s 26ms/step - loss: 3245.2319 - mean_squared_error: 53108560.0000 - mean_absolute_error: 3245.2319\n",
      "Epoch 2/10\n",
      "189/189 [==============================] - 3s 16ms/step - loss: 1487.3712 - mean_squared_error: 10474443.0000 - mean_absolute_error: 1487.3712\n",
      "Epoch 3/10\n",
      "189/189 [==============================] - 3s 16ms/step - loss: 1216.4269 - mean_squared_error: 7339515.0000 - mean_absolute_error: 1216.4269\n",
      "Epoch 4/10\n",
      "189/189 [==============================] - 3s 16ms/step - loss: 1110.1365 - mean_squared_error: 6723162.0000 - mean_absolute_error: 1110.1365\n",
      "Epoch 5/10\n",
      "189/189 [==============================] - 3s 16ms/step - loss: 1000.3855 - mean_squared_error: 5462344.5000 - mean_absolute_error: 1000.3855\n",
      "Epoch 6/10\n",
      "189/189 [==============================] - 3s 16ms/step - loss: 947.4528 - mean_squared_error: 4910193.0000 - mean_absolute_error: 947.4528\n",
      "Epoch 7/10\n",
      "189/189 [==============================] - 3s 16ms/step - loss: 925.9686 - mean_squared_error: 4534680.5000 - mean_absolute_error: 925.9686\n",
      "Epoch 8/10\n",
      "189/189 [==============================] - 3s 16ms/step - loss: 891.4542 - mean_squared_error: 4478351.5000 - mean_absolute_error: 891.4542\n",
      "Epoch 9/10\n",
      "189/189 [==============================] - 3s 16ms/step - loss: 825.9795 - mean_squared_error: 3855802.7500 - mean_absolute_error: 825.9795\n",
      "Epoch 10/10\n",
      "189/189 [==============================] - 3s 16ms/step - loss: 818.5935 - mean_squared_error: 3778793.5000 - mean_absolute_error: 818.5935\n",
      "WARNING:tensorflow:Model was constructed with shape (None, None, 102) for input KerasTensor(type_spec=TensorSpec(shape=(None, None, 102), dtype=tf.float32, name='dense_704_input'), name='dense_704_input', description=\"created by layer 'dense_704_input'\"), but it was called on an input with incompatible shape (None, 102).\n"
     ]
    },
    {
     "name": "stderr",
     "output_type": "stream",
     "text": [
      "2022-12-16 14:16:34.061056: I tensorflow/core/grappler/optimizers/custom_graph_optimizer_registry.cc:114] Plugin optimizer for device_type GPU is enabled.\n"
     ]
    },
    {
     "name": "stdout",
     "output_type": "stream",
     "text": [
      "189/189 [==============================] - 2s 8ms/step - loss: 916.4697 - mean_squared_error: 5531502.5000 - mean_absolute_error: 916.4697\n",
      "35/35 [==============================] - 0s 14ms/step - loss: 1543.4348 - mean_squared_error: 13868037.0000 - mean_absolute_error: 1543.4348\n",
      "Epoch 1/10\n",
      "WARNING:tensorflow:Model was constructed with shape (None, None, 102) for input KerasTensor(type_spec=TensorSpec(shape=(None, None, 102), dtype=tf.float32, name='dense_712_input'), name='dense_712_input', description=\"created by layer 'dense_712_input'\"), but it was called on an input with incompatible shape (None, 102).\n",
      "WARNING:tensorflow:Model was constructed with shape (None, None, 102) for input KerasTensor(type_spec=TensorSpec(shape=(None, None, 102), dtype=tf.float32, name='dense_712_input'), name='dense_712_input', description=\"created by layer 'dense_712_input'\"), but it was called on an input with incompatible shape (None, 102).\n"
     ]
    },
    {
     "name": "stderr",
     "output_type": "stream",
     "text": [
      "2022-12-16 14:16:37.144992: I tensorflow/core/grappler/optimizers/custom_graph_optimizer_registry.cc:114] Plugin optimizer for device_type GPU is enabled.\n"
     ]
    },
    {
     "name": "stdout",
     "output_type": "stream",
     "text": [
      "257/257 [==============================] - 10s 23ms/step - loss: 5529.1401 - mean_squared_error: 115459704.0000 - mean_absolute_error: 5529.1401\n",
      "Epoch 2/10\n",
      "257/257 [==============================] - 4s 16ms/step - loss: 3061.5610 - mean_squared_error: 48583732.0000 - mean_absolute_error: 3061.5610\n",
      "Epoch 3/10\n",
      "257/257 [==============================] - 4s 16ms/step - loss: 2860.8606 - mean_squared_error: 47957008.0000 - mean_absolute_error: 2860.8606\n",
      "Epoch 4/10\n",
      "257/257 [==============================] - 4s 16ms/step - loss: 2812.8972 - mean_squared_error: 46853648.0000 - mean_absolute_error: 2812.8972\n",
      "Epoch 5/10\n",
      "257/257 [==============================] - 4s 16ms/step - loss: 2692.7295 - mean_squared_error: 44853120.0000 - mean_absolute_error: 2692.7295\n",
      "Epoch 6/10\n",
      "257/257 [==============================] - 4s 16ms/step - loss: 2565.6985 - mean_squared_error: 43075752.0000 - mean_absolute_error: 2565.6985\n",
      "Epoch 7/10\n",
      "257/257 [==============================] - 4s 16ms/step - loss: 2477.2900 - mean_squared_error: 41205904.0000 - mean_absolute_error: 2477.2900\n",
      "Epoch 8/10\n",
      "257/257 [==============================] - 4s 16ms/step - loss: 2428.9932 - mean_squared_error: 40358688.0000 - mean_absolute_error: 2428.9932\n",
      "Epoch 9/10\n",
      "257/257 [==============================] - 4s 16ms/step - loss: 2368.3008 - mean_squared_error: 40062236.0000 - mean_absolute_error: 2368.3008\n",
      "Epoch 10/10\n",
      "257/257 [==============================] - 4s 16ms/step - loss: 2332.3147 - mean_squared_error: 39367592.0000 - mean_absolute_error: 2332.3147\n",
      "WARNING:tensorflow:Model was constructed with shape (None, None, 102) for input KerasTensor(type_spec=TensorSpec(shape=(None, None, 102), dtype=tf.float32, name='dense_712_input'), name='dense_712_input', description=\"created by layer 'dense_712_input'\"), but it was called on an input with incompatible shape (None, 102).\n"
     ]
    },
    {
     "name": "stderr",
     "output_type": "stream",
     "text": [
      "2022-12-16 14:17:24.097970: I tensorflow/core/grappler/optimizers/custom_graph_optimizer_registry.cc:114] Plugin optimizer for device_type GPU is enabled.\n"
     ]
    },
    {
     "name": "stdout",
     "output_type": "stream",
     "text": [
      "257/257 [==============================] - 3s 8ms/step - loss: 2430.1631 - mean_squared_error: 36264588.0000 - mean_absolute_error: 2430.1631\n",
      "44/44 [==============================] - 0s 8ms/step - loss: 1828.0426 - mean_squared_error: 9763991.0000 - mean_absolute_error: 1828.0426\n"
     ]
    }
   ],
   "source": [
    "for i in range(0, 45):\n",
    "    # path = os.path.join(\"./data/store_level_data/\", \"store_\" + str(i))\n",
    "    X_train, y_train, X_test, y_test = load_data(str(i+1), data_dir=\"./data/store_level_data/\")\n",
    "    model = Model().model\n",
    "    try:\n",
    "        history = model.fit(\n",
    "                            X_train,\n",
    "                            y_train,\n",
    "                            epochs=10\n",
    "                        )\n",
    "        loss, train_mean_squared_error, train_mean_absolute_error = model.evaluate(\n",
    "                X_train, y_train\n",
    "            )\n",
    "        loss, test_mean_squared_error, test_mean_absolute_error = model.evaluate(\n",
    "                X_test, y_test\n",
    "            )\n",
    "\n",
    "        df_sub = pd.DataFrame({\"Store\":[str(i+1)],\n",
    "                            \"train_mse\": [train_mean_squared_error],\n",
    "                            \"train_mae\":[train_mean_absolute_error],\n",
    "                            \"test_mse\": [test_mean_squared_error],\n",
    "                            \"test_mae\":[test_mean_absolute_error],\n",
    "                            \"training_history\": history }\n",
    "                            )\n",
    "        df = pd.concat([df, df_sub])\n",
    "    except:\n",
    "        failed.append(str(i+1))"
   ]
  },
  {
   "cell_type": "code",
   "execution_count": 24,
   "metadata": {},
   "outputs": [
    {
     "data": {
      "text/plain": [
       "['13', '14', '15', '28', '29']"
      ]
     },
     "execution_count": 24,
     "metadata": {},
     "output_type": "execute_result"
    }
   ],
   "source": [
    "failed"
   ]
  },
  {
   "cell_type": "code",
   "execution_count": 25,
   "metadata": {},
   "outputs": [
    {
     "data": {
      "text/html": [
       "<div>\n",
       "<style scoped>\n",
       "    .dataframe tbody tr th:only-of-type {\n",
       "        vertical-align: middle;\n",
       "    }\n",
       "\n",
       "    .dataframe tbody tr th {\n",
       "        vertical-align: top;\n",
       "    }\n",
       "\n",
       "    .dataframe thead th {\n",
       "        text-align: right;\n",
       "    }\n",
       "</style>\n",
       "<table border=\"1\" class=\"dataframe\">\n",
       "  <thead>\n",
       "    <tr style=\"text-align: right;\">\n",
       "      <th></th>\n",
       "      <th>Store</th>\n",
       "      <th>train_mse</th>\n",
       "      <th>train_mae</th>\n",
       "      <th>test_mse</th>\n",
       "      <th>test_mae</th>\n",
       "      <th>training_history</th>\n",
       "    </tr>\n",
       "  </thead>\n",
       "  <tbody>\n",
       "    <tr>\n",
       "      <th>0</th>\n",
       "      <td>1</td>\n",
       "      <td>108972864.0</td>\n",
       "      <td>6024.046875</td>\n",
       "      <td>9.580446e+07</td>\n",
       "      <td>5664.477539</td>\n",
       "      <td>&lt;keras.callbacks.History object at 0x286c13850&gt;</td>\n",
       "    </tr>\n",
       "    <tr>\n",
       "      <th>0</th>\n",
       "      <td>2</td>\n",
       "      <td>107172384.0</td>\n",
       "      <td>4534.133789</td>\n",
       "      <td>7.186731e+07</td>\n",
       "      <td>5143.756348</td>\n",
       "      <td>&lt;keras.callbacks.History object at 0x29e280fd0&gt;</td>\n",
       "    </tr>\n",
       "    <tr>\n",
       "      <th>0</th>\n",
       "      <td>3</td>\n",
       "      <td>10306934.0</td>\n",
       "      <td>1220.932983</td>\n",
       "      <td>5.546604e+06</td>\n",
       "      <td>1404.395020</td>\n",
       "      <td>&lt;keras.callbacks.History object at 0x51dfcd040&gt;</td>\n",
       "    </tr>\n",
       "    <tr>\n",
       "      <th>0</th>\n",
       "      <td>4</td>\n",
       "      <td>144830544.0</td>\n",
       "      <td>6367.072266</td>\n",
       "      <td>6.545094e+07</td>\n",
       "      <td>5043.641602</td>\n",
       "      <td>&lt;keras.callbacks.History object at 0x468aac6d0&gt;</td>\n",
       "    </tr>\n",
       "    <tr>\n",
       "      <th>0</th>\n",
       "      <td>5</td>\n",
       "      <td>6284281.5</td>\n",
       "      <td>1173.170898</td>\n",
       "      <td>4.878297e+06</td>\n",
       "      <td>1335.342163</td>\n",
       "      <td>&lt;keras.callbacks.History object at 0x54b2dfbb0&gt;</td>\n",
       "    </tr>\n",
       "    <tr>\n",
       "      <th>0</th>\n",
       "      <td>6</td>\n",
       "      <td>65282908.0</td>\n",
       "      <td>3372.101318</td>\n",
       "      <td>3.592563e+07</td>\n",
       "      <td>3963.863281</td>\n",
       "      <td>&lt;keras.callbacks.History object at 0x3d2f47d30&gt;</td>\n",
       "    </tr>\n",
       "    <tr>\n",
       "      <th>0</th>\n",
       "      <td>7</td>\n",
       "      <td>17437052.0</td>\n",
       "      <td>1667.546753</td>\n",
       "      <td>1.422449e+07</td>\n",
       "      <td>1865.875366</td>\n",
       "      <td>&lt;keras.callbacks.History object at 0x576432790&gt;</td>\n",
       "    </tr>\n",
       "    <tr>\n",
       "      <th>0</th>\n",
       "      <td>8</td>\n",
       "      <td>22518394.0</td>\n",
       "      <td>2034.163574</td>\n",
       "      <td>1.473242e+07</td>\n",
       "      <td>2237.415527</td>\n",
       "      <td>&lt;keras.callbacks.History object at 0x531399610&gt;</td>\n",
       "    </tr>\n",
       "    <tr>\n",
       "      <th>0</th>\n",
       "      <td>9</td>\n",
       "      <td>25050906.0</td>\n",
       "      <td>2903.968018</td>\n",
       "      <td>1.591387e+07</td>\n",
       "      <td>2436.612793</td>\n",
       "      <td>&lt;keras.callbacks.History object at 0x58c7dfb80&gt;</td>\n",
       "    </tr>\n",
       "    <tr>\n",
       "      <th>0</th>\n",
       "      <td>10</td>\n",
       "      <td>189573584.0</td>\n",
       "      <td>4398.847656</td>\n",
       "      <td>6.486596e+07</td>\n",
       "      <td>4632.906738</td>\n",
       "      <td>&lt;keras.callbacks.History object at 0x54b0b71c0&gt;</td>\n",
       "    </tr>\n",
       "    <tr>\n",
       "      <th>0</th>\n",
       "      <td>11</td>\n",
       "      <td>47405476.0</td>\n",
       "      <td>2688.815430</td>\n",
       "      <td>1.898047e+07</td>\n",
       "      <td>2395.227295</td>\n",
       "      <td>&lt;keras.callbacks.History object at 0x5a7fb5b20&gt;</td>\n",
       "    </tr>\n",
       "    <tr>\n",
       "      <th>0</th>\n",
       "      <td>12</td>\n",
       "      <td>71197440.0</td>\n",
       "      <td>3662.298584</td>\n",
       "      <td>3.205630e+07</td>\n",
       "      <td>2879.692871</td>\n",
       "      <td>&lt;keras.callbacks.History object at 0x5b07cdc70&gt;</td>\n",
       "    </tr>\n",
       "    <tr>\n",
       "      <th>0</th>\n",
       "      <td>16</td>\n",
       "      <td>29173892.0</td>\n",
       "      <td>2542.287842</td>\n",
       "      <td>3.146646e+07</td>\n",
       "      <td>2814.496094</td>\n",
       "      <td>&lt;keras.callbacks.History object at 0x58efca880&gt;</td>\n",
       "    </tr>\n",
       "    <tr>\n",
       "      <th>0</th>\n",
       "      <td>17</td>\n",
       "      <td>35103720.0</td>\n",
       "      <td>3065.384277</td>\n",
       "      <td>2.702512e+07</td>\n",
       "      <td>3108.393311</td>\n",
       "      <td>&lt;keras.callbacks.History object at 0x5ae1085b0&gt;</td>\n",
       "    </tr>\n",
       "    <tr>\n",
       "      <th>0</th>\n",
       "      <td>18</td>\n",
       "      <td>67907104.0</td>\n",
       "      <td>3207.846924</td>\n",
       "      <td>2.440832e+07</td>\n",
       "      <td>2795.688232</td>\n",
       "      <td>&lt;keras.callbacks.History object at 0x292140550&gt;</td>\n",
       "    </tr>\n",
       "    <tr>\n",
       "      <th>0</th>\n",
       "      <td>19</td>\n",
       "      <td>77506256.0</td>\n",
       "      <td>3242.178223</td>\n",
       "      <td>3.297482e+07</td>\n",
       "      <td>3126.050781</td>\n",
       "      <td>&lt;keras.callbacks.History object at 0x5b981e5b0&gt;</td>\n",
       "    </tr>\n",
       "    <tr>\n",
       "      <th>0</th>\n",
       "      <td>20</td>\n",
       "      <td>133903792.0</td>\n",
       "      <td>5520.786621</td>\n",
       "      <td>5.332414e+07</td>\n",
       "      <td>4992.778320</td>\n",
       "      <td>&lt;keras.callbacks.History object at 0x5c4f82070&gt;</td>\n",
       "    </tr>\n",
       "    <tr>\n",
       "      <th>0</th>\n",
       "      <td>21</td>\n",
       "      <td>35185908.0</td>\n",
       "      <td>1865.961914</td>\n",
       "      <td>1.610171e+07</td>\n",
       "      <td>2101.276367</td>\n",
       "      <td>&lt;keras.callbacks.History object at 0x5ce2c1a30&gt;</td>\n",
       "    </tr>\n",
       "    <tr>\n",
       "      <th>0</th>\n",
       "      <td>22</td>\n",
       "      <td>76193936.0</td>\n",
       "      <td>3401.449707</td>\n",
       "      <td>5.488617e+07</td>\n",
       "      <td>4377.495605</td>\n",
       "      <td>&lt;keras.callbacks.History object at 0x5ce3bcca0&gt;</td>\n",
       "    </tr>\n",
       "    <tr>\n",
       "      <th>0</th>\n",
       "      <td>23</td>\n",
       "      <td>102503928.0</td>\n",
       "      <td>4643.077637</td>\n",
       "      <td>5.988196e+07</td>\n",
       "      <td>5029.210449</td>\n",
       "      <td>&lt;keras.callbacks.History object at 0x631cc7ca0&gt;</td>\n",
       "    </tr>\n",
       "    <tr>\n",
       "      <th>0</th>\n",
       "      <td>24</td>\n",
       "      <td>55463556.0</td>\n",
       "      <td>3540.666748</td>\n",
       "      <td>3.497376e+07</td>\n",
       "      <td>3561.820068</td>\n",
       "      <td>&lt;keras.callbacks.History object at 0x295eb0f40&gt;</td>\n",
       "    </tr>\n",
       "    <tr>\n",
       "      <th>0</th>\n",
       "      <td>25</td>\n",
       "      <td>25769266.0</td>\n",
       "      <td>1912.009766</td>\n",
       "      <td>1.399115e+07</td>\n",
       "      <td>2133.664551</td>\n",
       "      <td>&lt;keras.callbacks.History object at 0x5fa9386d0&gt;</td>\n",
       "    </tr>\n",
       "    <tr>\n",
       "      <th>0</th>\n",
       "      <td>26</td>\n",
       "      <td>47550824.0</td>\n",
       "      <td>3244.675293</td>\n",
       "      <td>3.816502e+07</td>\n",
       "      <td>2930.774902</td>\n",
       "      <td>&lt;keras.callbacks.History object at 0x657b94d60&gt;</td>\n",
       "    </tr>\n",
       "    <tr>\n",
       "      <th>0</th>\n",
       "      <td>27</td>\n",
       "      <td>92828560.0</td>\n",
       "      <td>3934.893311</td>\n",
       "      <td>5.319641e+07</td>\n",
       "      <td>4549.831055</td>\n",
       "      <td>&lt;keras.callbacks.History object at 0x60b91d700&gt;</td>\n",
       "    </tr>\n",
       "    <tr>\n",
       "      <th>0</th>\n",
       "      <td>30</td>\n",
       "      <td>5439271.5</td>\n",
       "      <td>977.464905</td>\n",
       "      <td>3.991860e+06</td>\n",
       "      <td>908.646912</td>\n",
       "      <td>&lt;keras.callbacks.History object at 0x6202f0a00&gt;</td>\n",
       "    </tr>\n",
       "    <tr>\n",
       "      <th>0</th>\n",
       "      <td>31</td>\n",
       "      <td>35505432.0</td>\n",
       "      <td>2193.739746</td>\n",
       "      <td>1.343332e+07</td>\n",
       "      <td>1994.995972</td>\n",
       "      <td>&lt;keras.callbacks.History object at 0x63fc220a0&gt;</td>\n",
       "    </tr>\n",
       "    <tr>\n",
       "      <th>0</th>\n",
       "      <td>32</td>\n",
       "      <td>32513610.0</td>\n",
       "      <td>2266.554443</td>\n",
       "      <td>1.758258e+07</td>\n",
       "      <td>2348.724365</td>\n",
       "      <td>&lt;keras.callbacks.History object at 0x64c122d30&gt;</td>\n",
       "    </tr>\n",
       "    <tr>\n",
       "      <th>0</th>\n",
       "      <td>33</td>\n",
       "      <td>2455520.0</td>\n",
       "      <td>666.597656</td>\n",
       "      <td>2.429812e+06</td>\n",
       "      <td>725.674072</td>\n",
       "      <td>&lt;keras.callbacks.History object at 0x665030e20&gt;</td>\n",
       "    </tr>\n",
       "    <tr>\n",
       "      <th>0</th>\n",
       "      <td>34</td>\n",
       "      <td>26780046.0</td>\n",
       "      <td>2414.500977</td>\n",
       "      <td>1.116011e+07</td>\n",
       "      <td>1791.184082</td>\n",
       "      <td>&lt;keras.callbacks.History object at 0x6be739190&gt;</td>\n",
       "    </tr>\n",
       "    <tr>\n",
       "      <th>0</th>\n",
       "      <td>35</td>\n",
       "      <td>119206984.0</td>\n",
       "      <td>2633.096924</td>\n",
       "      <td>2.750553e+07</td>\n",
       "      <td>2676.846436</td>\n",
       "      <td>&lt;keras.callbacks.History object at 0x68f759820&gt;</td>\n",
       "    </tr>\n",
       "    <tr>\n",
       "      <th>0</th>\n",
       "      <td>36</td>\n",
       "      <td>4191239.5</td>\n",
       "      <td>1048.056519</td>\n",
       "      <td>2.402732e+06</td>\n",
       "      <td>851.671265</td>\n",
       "      <td>&lt;keras.callbacks.History object at 0x6a0f52d30&gt;</td>\n",
       "    </tr>\n",
       "    <tr>\n",
       "      <th>0</th>\n",
       "      <td>37</td>\n",
       "      <td>4345075.5</td>\n",
       "      <td>942.179932</td>\n",
       "      <td>2.660272e+06</td>\n",
       "      <td>735.932739</td>\n",
       "      <td>&lt;keras.callbacks.History object at 0x6a0f601f0&gt;</td>\n",
       "    </tr>\n",
       "    <tr>\n",
       "      <th>0</th>\n",
       "      <td>38</td>\n",
       "      <td>4582929.0</td>\n",
       "      <td>828.234863</td>\n",
       "      <td>1.195251e+07</td>\n",
       "      <td>1415.119385</td>\n",
       "      <td>&lt;keras.callbacks.History object at 0x6a52d5310&gt;</td>\n",
       "    </tr>\n",
       "    <tr>\n",
       "      <th>0</th>\n",
       "      <td>39</td>\n",
       "      <td>87920640.0</td>\n",
       "      <td>3843.274170</td>\n",
       "      <td>1.666863e+08</td>\n",
       "      <td>9213.270508</td>\n",
       "      <td>&lt;keras.callbacks.History object at 0x6a531bdc0&gt;</td>\n",
       "    </tr>\n",
       "    <tr>\n",
       "      <th>0</th>\n",
       "      <td>40</td>\n",
       "      <td>33233626.0</td>\n",
       "      <td>2857.845947</td>\n",
       "      <td>4.180556e+07</td>\n",
       "      <td>3586.077881</td>\n",
       "      <td>&lt;keras.callbacks.History object at 0x716bcbf10&gt;</td>\n",
       "    </tr>\n",
       "    <tr>\n",
       "      <th>0</th>\n",
       "      <td>41</td>\n",
       "      <td>46955112.0</td>\n",
       "      <td>2361.018555</td>\n",
       "      <td>4.322336e+07</td>\n",
       "      <td>3408.240234</td>\n",
       "      <td>&lt;keras.callbacks.History object at 0x6be6a2af0&gt;</td>\n",
       "    </tr>\n",
       "    <tr>\n",
       "      <th>0</th>\n",
       "      <td>42</td>\n",
       "      <td>468940480.0</td>\n",
       "      <td>11594.831055</td>\n",
       "      <td>4.585011e+08</td>\n",
       "      <td>11098.482422</td>\n",
       "      <td>&lt;keras.callbacks.History object at 0x6cc21e1c0&gt;</td>\n",
       "    </tr>\n",
       "    <tr>\n",
       "      <th>0</th>\n",
       "      <td>43</td>\n",
       "      <td>160473888.0</td>\n",
       "      <td>6371.224609</td>\n",
       "      <td>9.603731e+07</td>\n",
       "      <td>4643.205078</td>\n",
       "      <td>&lt;keras.callbacks.History object at 0x6cc2276a0&gt;</td>\n",
       "    </tr>\n",
       "    <tr>\n",
       "      <th>0</th>\n",
       "      <td>44</td>\n",
       "      <td>5531502.5</td>\n",
       "      <td>916.469727</td>\n",
       "      <td>1.386804e+07</td>\n",
       "      <td>1543.434814</td>\n",
       "      <td>&lt;keras.callbacks.History object at 0x6f9c335e0&gt;</td>\n",
       "    </tr>\n",
       "    <tr>\n",
       "      <th>0</th>\n",
       "      <td>45</td>\n",
       "      <td>36264588.0</td>\n",
       "      <td>2430.163086</td>\n",
       "      <td>9.763991e+06</td>\n",
       "      <td>1828.042603</td>\n",
       "      <td>&lt;keras.callbacks.History object at 0x6f9c3cac0&gt;</td>\n",
       "    </tr>\n",
       "  </tbody>\n",
       "</table>\n",
       "</div>"
      ],
      "text/plain": [
       "  Store    train_mse     train_mae      test_mse      test_mae  \\\n",
       "0     1  108972864.0   6024.046875  9.580446e+07   5664.477539   \n",
       "0     2  107172384.0   4534.133789  7.186731e+07   5143.756348   \n",
       "0     3   10306934.0   1220.932983  5.546604e+06   1404.395020   \n",
       "0     4  144830544.0   6367.072266  6.545094e+07   5043.641602   \n",
       "0     5    6284281.5   1173.170898  4.878297e+06   1335.342163   \n",
       "0     6   65282908.0   3372.101318  3.592563e+07   3963.863281   \n",
       "0     7   17437052.0   1667.546753  1.422449e+07   1865.875366   \n",
       "0     8   22518394.0   2034.163574  1.473242e+07   2237.415527   \n",
       "0     9   25050906.0   2903.968018  1.591387e+07   2436.612793   \n",
       "0    10  189573584.0   4398.847656  6.486596e+07   4632.906738   \n",
       "0    11   47405476.0   2688.815430  1.898047e+07   2395.227295   \n",
       "0    12   71197440.0   3662.298584  3.205630e+07   2879.692871   \n",
       "0    16   29173892.0   2542.287842  3.146646e+07   2814.496094   \n",
       "0    17   35103720.0   3065.384277  2.702512e+07   3108.393311   \n",
       "0    18   67907104.0   3207.846924  2.440832e+07   2795.688232   \n",
       "0    19   77506256.0   3242.178223  3.297482e+07   3126.050781   \n",
       "0    20  133903792.0   5520.786621  5.332414e+07   4992.778320   \n",
       "0    21   35185908.0   1865.961914  1.610171e+07   2101.276367   \n",
       "0    22   76193936.0   3401.449707  5.488617e+07   4377.495605   \n",
       "0    23  102503928.0   4643.077637  5.988196e+07   5029.210449   \n",
       "0    24   55463556.0   3540.666748  3.497376e+07   3561.820068   \n",
       "0    25   25769266.0   1912.009766  1.399115e+07   2133.664551   \n",
       "0    26   47550824.0   3244.675293  3.816502e+07   2930.774902   \n",
       "0    27   92828560.0   3934.893311  5.319641e+07   4549.831055   \n",
       "0    30    5439271.5    977.464905  3.991860e+06    908.646912   \n",
       "0    31   35505432.0   2193.739746  1.343332e+07   1994.995972   \n",
       "0    32   32513610.0   2266.554443  1.758258e+07   2348.724365   \n",
       "0    33    2455520.0    666.597656  2.429812e+06    725.674072   \n",
       "0    34   26780046.0   2414.500977  1.116011e+07   1791.184082   \n",
       "0    35  119206984.0   2633.096924  2.750553e+07   2676.846436   \n",
       "0    36    4191239.5   1048.056519  2.402732e+06    851.671265   \n",
       "0    37    4345075.5    942.179932  2.660272e+06    735.932739   \n",
       "0    38    4582929.0    828.234863  1.195251e+07   1415.119385   \n",
       "0    39   87920640.0   3843.274170  1.666863e+08   9213.270508   \n",
       "0    40   33233626.0   2857.845947  4.180556e+07   3586.077881   \n",
       "0    41   46955112.0   2361.018555  4.322336e+07   3408.240234   \n",
       "0    42  468940480.0  11594.831055  4.585011e+08  11098.482422   \n",
       "0    43  160473888.0   6371.224609  9.603731e+07   4643.205078   \n",
       "0    44    5531502.5    916.469727  1.386804e+07   1543.434814   \n",
       "0    45   36264588.0   2430.163086  9.763991e+06   1828.042603   \n",
       "\n",
       "                                  training_history  \n",
       "0  <keras.callbacks.History object at 0x286c13850>  \n",
       "0  <keras.callbacks.History object at 0x29e280fd0>  \n",
       "0  <keras.callbacks.History object at 0x51dfcd040>  \n",
       "0  <keras.callbacks.History object at 0x468aac6d0>  \n",
       "0  <keras.callbacks.History object at 0x54b2dfbb0>  \n",
       "0  <keras.callbacks.History object at 0x3d2f47d30>  \n",
       "0  <keras.callbacks.History object at 0x576432790>  \n",
       "0  <keras.callbacks.History object at 0x531399610>  \n",
       "0  <keras.callbacks.History object at 0x58c7dfb80>  \n",
       "0  <keras.callbacks.History object at 0x54b0b71c0>  \n",
       "0  <keras.callbacks.History object at 0x5a7fb5b20>  \n",
       "0  <keras.callbacks.History object at 0x5b07cdc70>  \n",
       "0  <keras.callbacks.History object at 0x58efca880>  \n",
       "0  <keras.callbacks.History object at 0x5ae1085b0>  \n",
       "0  <keras.callbacks.History object at 0x292140550>  \n",
       "0  <keras.callbacks.History object at 0x5b981e5b0>  \n",
       "0  <keras.callbacks.History object at 0x5c4f82070>  \n",
       "0  <keras.callbacks.History object at 0x5ce2c1a30>  \n",
       "0  <keras.callbacks.History object at 0x5ce3bcca0>  \n",
       "0  <keras.callbacks.History object at 0x631cc7ca0>  \n",
       "0  <keras.callbacks.History object at 0x295eb0f40>  \n",
       "0  <keras.callbacks.History object at 0x5fa9386d0>  \n",
       "0  <keras.callbacks.History object at 0x657b94d60>  \n",
       "0  <keras.callbacks.History object at 0x60b91d700>  \n",
       "0  <keras.callbacks.History object at 0x6202f0a00>  \n",
       "0  <keras.callbacks.History object at 0x63fc220a0>  \n",
       "0  <keras.callbacks.History object at 0x64c122d30>  \n",
       "0  <keras.callbacks.History object at 0x665030e20>  \n",
       "0  <keras.callbacks.History object at 0x6be739190>  \n",
       "0  <keras.callbacks.History object at 0x68f759820>  \n",
       "0  <keras.callbacks.History object at 0x6a0f52d30>  \n",
       "0  <keras.callbacks.History object at 0x6a0f601f0>  \n",
       "0  <keras.callbacks.History object at 0x6a52d5310>  \n",
       "0  <keras.callbacks.History object at 0x6a531bdc0>  \n",
       "0  <keras.callbacks.History object at 0x716bcbf10>  \n",
       "0  <keras.callbacks.History object at 0x6be6a2af0>  \n",
       "0  <keras.callbacks.History object at 0x6cc21e1c0>  \n",
       "0  <keras.callbacks.History object at 0x6cc2276a0>  \n",
       "0  <keras.callbacks.History object at 0x6f9c335e0>  \n",
       "0  <keras.callbacks.History object at 0x6f9c3cac0>  "
      ]
     },
     "execution_count": 25,
     "metadata": {},
     "output_type": "execute_result"
    }
   ],
   "source": [
    "df"
   ]
  },
  {
   "cell_type": "code",
   "execution_count": 31,
   "metadata": {},
   "outputs": [
    {
     "data": {
      "text/plain": [
       "<AxesSubplot: >"
      ]
     },
     "execution_count": 31,
     "metadata": {},
     "output_type": "execute_result"
    },
    {
     "data": {
      "image/png": "[encoded data removed]",
      "text/plain": [
       "<Figure size 640x480 with 1 Axes>"
      ]
     },
     "metadata": {},
     "output_type": "display_data"
    }
   ],
   "source": [
    "sns.lineplot(df[df['Store'] == \"42\"]['training_history'].iloc[0].history['loss'])"
   ]
  },
  {
   "cell_type": "code",
   "execution_count": 32,
   "metadata": {},
   "outputs": [
    {
     "data": {
      "text/plain": [
       "<AxesSubplot: >"
      ]
     },
     "execution_count": 32,
     "metadata": {},
     "output_type": "execute_result"
    },
    {
     "data": {
      "image/png": "[encoded data removed]",
      "text/plain": [
       "<Figure size 640x480 with 1 Axes>"
      ]
     },
     "metadata": {},
     "output_type": "display_data"
    }
   ],
   "source": [
    "sns.lineplot(df[df['Store'] == \"44\"]['training_history'].iloc[0].history['loss'])"
   ]
  },
  {
   "cell_type": "code",
   "execution_count": 18,
   "metadata": {},
   "outputs": [
    {
     "data": {
      "text/plain": [
       "{'loss': [12564.2109375],\n",
       " 'mean_squared_error': [590624256.0],\n",
       " 'mean_absolute_error': [12564.2109375]}"
      ]
     },
     "execution_count": 18,
     "metadata": {},
     "output_type": "execute_result"
    }
   ],
   "source": [
    "df[df['Store'] == \"2\"]['training_history'].iloc[0].history"
   ]
  },
  {
   "cell_type": "code",
   "execution_count": null,
   "metadata": {},
   "outputs": [],
   "source": []
  }
 ],
 "metadata": {
  "kernelspec": {
   "display_name": "Python 3.9.13 ('assignment-5-tensor')",
   "language": "python",
   "name": "python3"
  },
  "language_info": {
   "codemirror_mode": {
    "name": "ipython",
    "version": 3
   },
   "file_extension": ".py",
   "mimetype": "text/x-python",
   "name": "python",
   "nbconvert_exporter": "python",
   "pygments_lexer": "ipython3",
   "version": "3.9.13"
  },
  "orig_nbformat": 4,
  "vscode": {
   "interpreter": {
    "hash": "5f7b906d99b2ec91f843337fb9b0616c07f4c02a7a501f2516fb446e3b496cbd"
   }
  }
 },
 "nbformat": 4,
 "nbformat_minor": 2
}
