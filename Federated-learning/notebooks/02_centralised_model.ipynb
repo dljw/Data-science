{
 "cells": [
  {
   "cell_type": "code",
   "execution_count": 29,
   "metadata": {},
   "outputs": [],
   "source": [
    "import tensorflow as tf\n",
    "import pandas as pd \n",
    "import numpy as np \n",
    "\n",
    "from sklearn.compose import ColumnTransformer\n",
    "from sklearn.pipeline import Pipeline\n",
    "from sklearn.preprocessing import StandardScaler, OneHotEncoder, LabelEncoder\n",
    "\n",
    "import seaborn as sns"
   ]
  },
  {
   "cell_type": "code",
   "execution_count": 30,
   "metadata": {},
   "outputs": [
    {
     "name": "stderr",
     "output_type": "stream",
     "text": [
      "/var/folders/1q/26x3nv656dg2gv4xzbytws5m0000gn/T/ipykernel_1337/4191437680.py:5: FutureWarning: Value based partial slicing on non-monotonic DatetimeIndexes with non-existing keys is deprecated and will raise a KeyError in a future Version.\n",
      "  test = df.loc['2012-06-02':].reset_index()\n"
     ]
    }
   ],
   "source": [
    "df = pd.read_csv(\"/Users/darrenlee/Desktop/portfolio/Data-science/Federated-learning/data/raw/clean_data.csv\")\n",
    "df['Date'] = pd.to_datetime(df['Date'])\n",
    "df.set_index(\"Date\", inplace=True)\n",
    "train = df.loc['2012-06-01':].reset_index()\n",
    "test = df.loc['2012-06-02':].reset_index()"
   ]
  },
  {
   "cell_type": "code",
   "execution_count": 31,
   "metadata": {},
   "outputs": [
    {
     "data": {
      "text/plain": [
       "((64863, 23), (61933, 23))"
      ]
     },
     "execution_count": 31,
     "metadata": {},
     "output_type": "execute_result"
    }
   ],
   "source": [
    "train.shape, test.shape"
   ]
  },
  {
   "cell_type": "code",
   "execution_count": 32,
   "metadata": {},
   "outputs": [],
   "source": [
    "COLUMNS = ['Temperature',\n",
    " 'Size',\n",
    " 'Fuel_Price',\n",
    " 'MarkDown1',\n",
    " 'MarkDown2',\n",
    " 'MarkDown3',\n",
    " 'MarkDown4',\n",
    " 'MarkDown5',\n",
    " 'CPI',\n",
    " 'Dept_1',\n",
    " 'Dept_2',\n",
    " 'Dept_3',\n",
    " 'Dept_4',\n",
    " 'Dept_5',\n",
    " 'Dept_6',\n",
    " 'Dept_7',\n",
    " 'Dept_8',\n",
    " 'Dept_9',\n",
    " 'Dept_10',\n",
    " 'Dept_11',\n",
    " 'Dept_12',\n",
    " 'Dept_13',\n",
    " 'Dept_14',\n",
    " 'Dept_16',\n",
    " 'Dept_17',\n",
    " 'Dept_18',\n",
    " 'Dept_19',\n",
    " 'Dept_20',\n",
    " 'Dept_21',\n",
    " 'Dept_22',\n",
    " 'Dept_23',\n",
    " 'Dept_24',\n",
    " 'Dept_25',\n",
    " 'Dept_26',\n",
    " 'Dept_27',\n",
    " 'Dept_28',\n",
    " 'Dept_29',\n",
    " 'Dept_30',\n",
    " 'Dept_31',\n",
    " 'Dept_32',\n",
    " 'Dept_33',\n",
    " 'Dept_34',\n",
    " 'Dept_35',\n",
    " 'Dept_36',\n",
    " 'Dept_37',\n",
    " 'Dept_38',\n",
    " 'Dept_39',\n",
    " 'Dept_40',\n",
    " 'Dept_41',\n",
    " 'Dept_42',\n",
    " 'Dept_44',\n",
    " 'Dept_45',\n",
    " 'Dept_46',\n",
    " 'Dept_47',\n",
    " 'Dept_48',\n",
    " 'Dept_49',\n",
    " 'Dept_50',\n",
    " 'Dept_51',\n",
    " 'Dept_52',\n",
    " 'Dept_54',\n",
    " 'Dept_55',\n",
    " 'Dept_56',\n",
    " 'Dept_58',\n",
    " 'Dept_59',\n",
    " 'Dept_60',\n",
    " 'Dept_65',\n",
    " 'Dept_67',\n",
    " 'Dept_71',\n",
    " 'Dept_72',\n",
    " 'Dept_74',\n",
    " 'Dept_77',\n",
    " 'Dept_78',\n",
    " 'Dept_79',\n",
    " 'Dept_80',\n",
    " 'Dept_81',\n",
    " 'Dept_82',\n",
    " 'Dept_83',\n",
    " 'Dept_85',\n",
    " 'Dept_87',\n",
    " 'Dept_90',\n",
    " 'Dept_91',\n",
    " 'Dept_92',\n",
    " 'Dept_93',\n",
    " 'Dept_94',\n",
    " 'Dept_95',\n",
    " 'Dept_96',\n",
    " 'Dept_97',\n",
    " 'Dept_98',\n",
    " 'Dept_99',\n",
    " 'IsHoliday_False',\n",
    " 'IsHoliday_True',\n",
    " 'Super_Bowl_True',\n",
    " 'Super_Bowl_False',\n",
    " 'Type_A',\n",
    " 'Type_B',\n",
    " 'Type_C',\n",
    " 'Labor_Day_False',\n",
    " 'Labor_Day_True',\n",
    " 'Thanksgiving_True',\n",
    " 'Thanksgiving_False',\n",
    " 'Christmas_True',\n",
    " 'Christmas_False'\n",
    " ]"
   ]
  },
  {
   "cell_type": "code",
   "execution_count": 33,
   "metadata": {},
   "outputs": [],
   "source": [
    "X_train = train.drop(['Weekly_Sales'], axis=1)\n",
    "y_train = train['Weekly_Sales']\n",
    "\n",
    "X_test = test.drop(['Weekly_Sales'], axis=1)\n",
    "y_test = test['Weekly_Sales']"
   ]
  },
  {
   "cell_type": "code",
   "execution_count": 34,
   "metadata": {},
   "outputs": [],
   "source": [
    "CATEGORICAL_FEATURE_KEYS = [\n",
    "    'Dept',\n",
    "    'IsHoliday',\n",
    "    \"Super_Bowl\",\n",
    "    \"Type\",\n",
    "    \"Labor_Day\",\n",
    "    \"Thanksgiving\",\n",
    "    \"Christmas\"\n",
    "]\n",
    "\n",
    "NUMERIC_FEATURE_KEYS = [\n",
    "    \"Temperature\",\n",
    "    \"Size\",\n",
    "    \"Fuel_Price\",\n",
    "    \"MarkDown1\",\n",
    "    \"MarkDown2\",\n",
    "    \"MarkDown3\",\n",
    "    \"MarkDown4\",\n",
    "    \"MarkDown5\",\n",
    "    \"CPI\",\n",
    "]"
   ]
  },
  {
   "cell_type": "code",
   "execution_count": 35,
   "metadata": {},
   "outputs": [],
   "source": [
    "ct = ColumnTransformer(\n",
    "    [(\"Numeric\", StandardScaler(), NUMERIC_FEATURE_KEYS),\n",
    "     (\"Categorical\", OneHotEncoder(handle_unknown='infrequent_if_exist'), CATEGORICAL_FEATURE_KEYS)\n",
    "    ])"
   ]
  },
  {
   "cell_type": "code",
   "execution_count": 36,
   "metadata": {},
   "outputs": [],
   "source": [
    "pipeline = Pipeline(steps=[('preprocessor', ct)])\n",
    "X_train_trans = pipeline.fit_transform(X_train)\n",
    "X_test_trans = pipeline.transform(X_test)\n",
    "trans_col = pipeline.named_steps['preprocessor'].transformers_[1][1].get_feature_names_out(CATEGORICAL_FEATURE_KEYS)"
   ]
  },
  {
   "cell_type": "code",
   "execution_count": 37,
   "metadata": {},
   "outputs": [
    {
     "data": {
      "text/plain": [
       "<64863x99 sparse matrix of type '<class 'numpy.float64'>'\n",
       "\twith 1037808 stored elements in Compressed Sparse Row format>"
      ]
     },
     "execution_count": 37,
     "metadata": {},
     "output_type": "execute_result"
    }
   ],
   "source": [
    "X_train_trans"
   ]
  },
  {
   "cell_type": "code",
   "execution_count": 38,
   "metadata": {},
   "outputs": [
    {
     "data": {
      "text/plain": [
       "((64863, 99), (61933, 99))"
      ]
     },
     "execution_count": 38,
     "metadata": {},
     "output_type": "execute_result"
    }
   ],
   "source": [
    "X_train_nn = X_train_trans.toarray()\n",
    "X_train_nn = pd.DataFrame(X_train_nn, columns = NUMERIC_FEATURE_KEYS + trans_col.tolist())\n",
    "\n",
    "X_test_nn = X_test_trans.toarray()\n",
    "X_test_nn = pd.DataFrame(X_test_nn, columns = NUMERIC_FEATURE_KEYS + trans_col.tolist())\n",
    "X_train_nn.shape, X_test_nn.shape"
   ]
  },
  {
   "cell_type": "code",
   "execution_count": 39,
   "metadata": {},
   "outputs": [
    {
     "data": {
      "text/plain": [
       "((64863, 102), (61933, 102))"
      ]
     },
     "execution_count": 39,
     "metadata": {},
     "output_type": "execute_result"
    }
   ],
   "source": [
    "for column in COLUMNS:\n",
    "    if column not in X_train_nn.columns:\n",
    "        X_train_nn[column] = 0\n",
    "    if column not in X_test_nn.columns:\n",
    "        X_test_nn[column] = 0\n",
    "X_train_nn.shape, X_test_nn.shape"
   ]
  },
  {
   "cell_type": "code",
   "execution_count": 40,
   "metadata": {},
   "outputs": [
    {
     "data": {
      "text/plain": [
       "Index(['Temperature', 'Size', 'Fuel_Price', 'MarkDown1', 'MarkDown2',\n",
       "       'MarkDown3', 'MarkDown4', 'MarkDown5', 'CPI', 'Dept_1',\n",
       "       ...\n",
       "       'Type_A', 'Type_B', 'Type_C', 'Labor_Day_False', 'Labor_Day_True',\n",
       "       'Thanksgiving_False', 'Christmas_False', 'Super_Bowl_True',\n",
       "       'Thanksgiving_True', 'Christmas_True'],\n",
       "      dtype='object', length=102)"
      ]
     },
     "execution_count": 40,
     "metadata": {},
     "output_type": "execute_result"
    }
   ],
   "source": [
    "X_train_nn.columns"
   ]
  },
  {
   "cell_type": "code",
   "execution_count": 41,
   "metadata": {},
   "outputs": [],
   "source": [
    "# X_train_nn = X_train_nn.toarray()\n",
    "X_train_nn = tf.convert_to_tensor(X_train_nn)\n",
    "y_train_nn = tf.convert_to_tensor(y_train)\n",
    "\n",
    "# X_test_nn = X_test_nn.toarray()\n",
    "X_test_nn = tf.convert_to_tensor(X_test_nn)\n",
    "y_test_nn = tf.convert_to_tensor(y_test)"
   ]
  },
  {
   "cell_type": "markdown",
   "metadata": {},
   "source": []
  },
  {
   "cell_type": "code",
   "execution_count": 42,
   "metadata": {},
   "outputs": [],
   "source": [
    "model = tf.keras.Sequential([\n",
    "    tf.keras.layers.Dense(100, input_shape=(None,102)),\n",
    "    tf.keras.layers.Dense(1000, activation='relu'),\n",
    "    tf.keras.layers.Dense(2000, activation='relu'),\n",
    "    tf.keras.layers.Dense(1000, activation='relu'),\n",
    "    tf.keras.layers.Dense(500, activation='relu'),\n",
    "    tf.keras.layers.Dense(250, activation='relu'),\n",
    "    tf.keras.layers.Dense(10, activation='relu'),\n",
    "    tf.keras.layers.Dense(1, activation='linear'),\n",
    "])\n",
    "\n",
    "model.compile(\n",
    "    optimizer=tf.keras.optimizers.RMSprop(),\n",
    "    # loss=tf.keras.losses.MeanSquaredError(),\n",
    "    loss=tf.keras.losses.MeanAbsoluteError(),\n",
    "    metrics=[\n",
    "        tf.keras.metrics.mean_squared_error,\n",
    "        tf.keras.metrics.mean_absolute_error,\n",
    "    ],\n",
    ")"
   ]
  },
  {
   "cell_type": "code",
   "execution_count": 43,
   "metadata": {},
   "outputs": [
    {
     "name": "stdout",
     "output_type": "stream",
     "text": [
      "Epoch 1/10\n",
      "WARNING:tensorflow:Model was constructed with shape (None, None, 102) for input KerasTensor(type_spec=TensorSpec(shape=(None, None, 102), dtype=tf.float32, name='dense_16_input'), name='dense_16_input', description=\"created by layer 'dense_16_input'\"), but it was called on an input with incompatible shape (None, 102).\n",
      "WARNING:tensorflow:Model was constructed with shape (None, None, 102) for input KerasTensor(type_spec=TensorSpec(shape=(None, None, 102), dtype=tf.float32, name='dense_16_input'), name='dense_16_input', description=\"created by layer 'dense_16_input'\"), but it was called on an input with incompatible shape (None, 102).\n"
     ]
    },
    {
     "name": "stderr",
     "output_type": "stream",
     "text": [
      "2022-12-16 14:36:31.797598: I tensorflow/core/grappler/optimizers/custom_graph_optimizer_registry.cc:114] Plugin optimizer for device_type GPU is enabled.\n"
     ]
    },
    {
     "name": "stdout",
     "output_type": "stream",
     "text": [
      "2027/2027 [==============================] - 33s 16ms/step - loss: 5920.4590 - mean_squared_error: 130291688.0000 - mean_absolute_error: 5920.4590\n",
      "Epoch 2/10\n",
      "2027/2027 [==============================] - 32s 16ms/step - loss: 4477.1597 - mean_squared_error: 75350632.0000 - mean_absolute_error: 4477.1597\n",
      "Epoch 3/10\n",
      "2027/2027 [==============================] - 32s 16ms/step - loss: 4140.0732 - mean_squared_error: 65826192.0000 - mean_absolute_error: 4140.0732\n",
      "Epoch 4/10\n",
      "2027/2027 [==============================] - 32s 16ms/step - loss: 3921.1724 - mean_squared_error: 59967740.0000 - mean_absolute_error: 3921.1724\n",
      "Epoch 5/10\n",
      "2027/2027 [==============================] - 32s 16ms/step - loss: 3783.8665 - mean_squared_error: 56023036.0000 - mean_absolute_error: 3783.8665\n",
      "Epoch 6/10\n",
      "2027/2027 [==============================] - 27s 13ms/step - loss: 3660.9854 - mean_squared_error: 53456128.0000 - mean_absolute_error: 3660.9854\n",
      "Epoch 7/10\n",
      "2027/2027 [==============================] - 26s 13ms/step - loss: 3541.4753 - mean_squared_error: 49914472.0000 - mean_absolute_error: 3541.4753\n",
      "Epoch 8/10\n",
      "2027/2027 [==============================] - 26s 13ms/step - loss: 3454.9270 - mean_squared_error: 48741900.0000 - mean_absolute_error: 3454.9270\n",
      "Epoch 9/10\n",
      "2027/2027 [==============================] - 26s 13ms/step - loss: 3362.2417 - mean_squared_error: 45641016.0000 - mean_absolute_error: 3362.2417\n",
      "Epoch 10/10\n",
      "2027/2027 [==============================] - 26s 13ms/step - loss: 3261.0500 - mean_squared_error: 43900764.0000 - mean_absolute_error: 3261.0500\n"
     ]
    }
   ],
   "source": [
    "history = model.fit(\n",
    "    X_train_nn, y_train_nn, epochs=10\n",
    ")"
   ]
  },
  {
   "cell_type": "code",
   "execution_count": 44,
   "metadata": {},
   "outputs": [
    {
     "data": {
      "text/plain": [
       "<AxesSubplot: >"
      ]
     },
     "execution_count": 44,
     "metadata": {},
     "output_type": "execute_result"
    },
    {
     "data": {
      "image/png": "[encoded data removed]",
      "text/plain": [
       "<Figure size 640x480 with 1 Axes>"
      ]
     },
     "metadata": {},
     "output_type": "display_data"
    }
   ],
   "source": [
    "sns.lineplot(history.history['loss'])"
   ]
  },
  {
   "cell_type": "code",
   "execution_count": 45,
   "metadata": {},
   "outputs": [
    {
     "name": "stdout",
     "output_type": "stream",
     "text": [
      "WARNING:tensorflow:Model was constructed with shape (None, None, 102) for input KerasTensor(type_spec=TensorSpec(shape=(None, None, 102), dtype=tf.float32, name='dense_16_input'), name='dense_16_input', description=\"created by layer 'dense_16_input'\"), but it was called on an input with incompatible shape (None, 102).\n",
      "  19/1936 [..............................] - ETA: 11s - loss: 4729.3643 - mean_squared_error: 102525240.0000 - mean_absolute_error: 4729.3643"
     ]
    },
    {
     "name": "stderr",
     "output_type": "stream",
     "text": [
      "2022-12-16 14:41:43.829149: I tensorflow/core/grappler/optimizers/custom_graph_optimizer_registry.cc:114] Plugin optimizer for device_type GPU is enabled.\n"
     ]
    },
    {
     "name": "stdout",
     "output_type": "stream",
     "text": [
      "1936/1936 [==============================] - 11s 6ms/step - loss: 3017.1824 - mean_squared_error: 41313216.0000 - mean_absolute_error: 3017.1824\n"
     ]
    },
    {
     "data": {
      "text/plain": [
       "[3017.182373046875, 41313216.0, 3017.182373046875]"
      ]
     },
     "execution_count": 45,
     "metadata": {},
     "output_type": "execute_result"
    }
   ],
   "source": [
    "model.evaluate(X_test_nn, y_test_nn)"
   ]
  },
  {
   "cell_type": "markdown",
   "metadata": {},
   "source": [
    "# Store level accuracy"
   ]
  },
  {
   "cell_type": "code",
   "execution_count": 46,
   "metadata": {},
   "outputs": [
    {
     "name": "stdout",
     "output_type": "stream",
     "text": [
      "/Users/darrenlee/Desktop/portfolio/Data-science/Federated-learning\n",
      "README.md  conda.yml  \u001b[1m\u001b[36mdata\u001b[m\u001b[m/      \u001b[1m\u001b[36mnotebooks\u001b[m\u001b[m/ \u001b[1m\u001b[36msrc\u001b[m\u001b[m/       \u001b[1m\u001b[36msrc1\u001b[m\u001b[m/\n"
     ]
    }
   ],
   "source": [
    "%cd ..\n",
    "%ls"
   ]
  },
  {
   "cell_type": "code",
   "execution_count": 49,
   "metadata": {},
   "outputs": [],
   "source": [
    "from src1.data import load_data\n",
    "from src1.model import Model\n",
    "import os\n",
    "import pandas as pd\n",
    "\n",
    "import matplotlib.pyplot as plt\n",
    "import seaborn as sns"
   ]
  },
  {
   "cell_type": "code",
   "execution_count": 50,
   "metadata": {},
   "outputs": [],
   "source": [
    "df = pd.DataFrame()\n",
    "failed = []"
   ]
  },
  {
   "cell_type": "code",
   "execution_count": 51,
   "metadata": {},
   "outputs": [
    {
     "name": "stdout",
     "output_type": "stream",
     "text": [
      "273/273 [==============================] - 2s 6ms/step - loss: 20386.6133 - mean_squared_error: 1095716608.0000 - mean_absolute_error: 20386.6133\n",
      "47/47 [==============================] - 0s 6ms/step - loss: 20893.3926 - mean_squared_error: 1234809856.0000 - mean_absolute_error: 20893.3926\n",
      "273/273 [==============================] - 2s 6ms/step - loss: 18464.5820 - mean_squared_error: 990721408.0000 - mean_absolute_error: 18464.5820\n",
      "47/47 [==============================] - 0s 6ms/step - loss: 16820.8320 - mean_squared_error: 860243264.0000 - mean_absolute_error: 16820.8320\n",
      "241/241 [==============================] - 1s 6ms/step - loss: 95968.4844 - mean_squared_error: 11133682688.0000 - mean_absolute_error: 95968.4844\n",
      "42/42 [==============================] - 0s 6ms/step - loss: 60566.6875 - mean_squared_error: 4702812160.0000 - mean_absolute_error: 60566.6875\n",
      "274/274 [==============================] - 2s 6ms/step - loss: 19731.2109 - mean_squared_error: 1091746176.0000 - mean_absolute_error: 19731.2109\n",
      "48/48 [==============================] - 0s 6ms/step - loss: 18232.5547 - mean_squared_error: 958742464.0000 - mean_absolute_error: 18232.5547\n",
      "241/241 [==============================] - 1s 6ms/step - loss: 93358.4609 - mean_squared_error: 10606135296.0000 - mean_absolute_error: 93358.4609\n",
      "41/41 [==============================] - 0s 6ms/step - loss: 61553.2539 - mean_squared_error: 4856648704.0000 - mean_absolute_error: 61553.2539\n",
      "272/272 [==============================] - 2s 6ms/step - loss: 20653.2969 - mean_squared_error: 923328256.0000 - mean_absolute_error: 20653.2969\n",
      "47/47 [==============================] - 0s 6ms/step - loss: 20706.8848 - mean_squared_error: 942923520.0000 - mean_absolute_error: 20706.8848\n",
      "260/260 [==============================] - 1s 6ms/step - loss: 19644.3945 - mean_squared_error: 982001216.0000 - mean_absolute_error: 19644.3945\n",
      "45/45 [==============================] - 0s 6ms/step - loss: 19693.1992 - mean_squared_error: 847060032.0000 - mean_absolute_error: 19693.1992\n",
      "264/264 [==============================] - 1s 6ms/step - loss: 16271.8447 - mean_squared_error: 647929408.0000 - mean_absolute_error: 16271.8447\n",
      "46/46 [==============================] - 0s 6ms/step - loss: 14327.0996 - mean_squared_error: 512336928.0000 - mean_absolute_error: 14327.0996\n",
      "236/236 [==============================] - 1s 6ms/step - loss: 92896.6875 - mean_squared_error: 10895913984.0000 - mean_absolute_error: 92896.6875\n",
      "41/41 [==============================] - 0s 6ms/step - loss: 73159.0000 - mean_squared_error: 6514278912.0000 - mean_absolute_error: 73159.0000\n",
      "275/275 [==============================] - 2s 5ms/step - loss: 25769.6836 - mean_squared_error: 1672868096.0000 - mean_absolute_error: 25769.6836\n",
      "47/47 [==============================] - 0s 6ms/step - loss: 22703.7969 - mean_squared_error: 1128804992.0000 - mean_absolute_error: 22703.7969\n",
      "268/268 [==============================] - 2s 6ms/step - loss: 16281.3818 - mean_squared_error: 689360512.0000 - mean_absolute_error: 16281.3818\n",
      "47/47 [==============================] - 0s 6ms/step - loss: 15069.9883 - mean_squared_error: 530234432.0000 - mean_absolute_error: 15069.9883\n",
      "258/258 [==============================] - 1s 5ms/step - loss: 16551.1289 - mean_squared_error: 679227328.0000 - mean_absolute_error: 16551.1289\n",
      "45/45 [==============================] - 0s 6ms/step - loss: 15182.6172 - mean_squared_error: 659980096.0000 - mean_absolute_error: 15182.6172\n",
      "250/250 [==============================] - 1s 6ms/step - loss: 19974.6328 - mean_squared_error: 1220439424.0000 - mean_absolute_error: 19974.6328\n",
      "45/45 [==============================] - 0s 6ms/step - loss: 16910.6816 - mean_squared_error: 725127040.0000 - mean_absolute_error: 16910.6816\n",
      "262/262 [==============================] - 1s 6ms/step - loss: 18077.2949 - mean_squared_error: 856696640.0000 - mean_absolute_error: 18077.2949\n",
      "46/46 [==============================] - 0s 6ms/step - loss: 20158.3320 - mean_squared_error: 964800640.0000 - mean_absolute_error: 20158.3320\n",
      "262/262 [==============================] - 1s 6ms/step - loss: 17164.5957 - mean_squared_error: 845069312.0000 - mean_absolute_error: 17164.5957\n",
      "46/46 [==============================] - 0s 6ms/step - loss: 15210.4902 - mean_squared_error: 626869248.0000 - mean_absolute_error: 15210.4902\n",
      "270/270 [==============================] - 2s 6ms/step - loss: 17294.2910 - mean_squared_error: 805606912.0000 - mean_absolute_error: 17294.2910\n",
      "47/47 [==============================] - 0s 6ms/step - loss: 15731.5205 - mean_squared_error: 611533056.0000 - mean_absolute_error: 15731.5205\n",
      "272/272 [==============================] - 2s 6ms/step - loss: 22353.7656 - mean_squared_error: 1329040128.0000 - mean_absolute_error: 22353.7656\n",
      "47/47 [==============================] - 0s 6ms/step - loss: 22003.5098 - mean_squared_error: 1202319360.0000 - mean_absolute_error: 22003.5098\n",
      "255/255 [==============================] - 1s 6ms/step - loss: 17569.6836 - mean_squared_error: 881277312.0000 - mean_absolute_error: 17569.6836\n",
      "44/44 [==============================] - 0s 6ms/step - loss: 15766.5498 - mean_squared_error: 679335168.0000 - mean_absolute_error: 15766.5498\n",
      "258/258 [==============================] - 2s 6ms/step - loss: 17321.4668 - mean_squared_error: 762060032.0000 - mean_absolute_error: 17321.4668\n",
      "45/45 [==============================] - 0s 6ms/step - loss: 15364.0693 - mean_squared_error: 608316928.0000 - mean_absolute_error: 15364.0693\n",
      "268/268 [==============================] - 2s 6ms/step - loss: 18814.3340 - mean_squared_error: 898907584.0000 - mean_absolute_error: 18814.3340\n",
      "46/46 [==============================] - 0s 6ms/step - loss: 16507.7363 - mean_squared_error: 687993472.0000 - mean_absolute_error: 16507.7363\n",
      "273/273 [==============================] - 2s 6ms/step - loss: 17691.2891 - mean_squared_error: 802370880.0000 - mean_absolute_error: 17691.2891\n",
      "47/47 [==============================] - 0s 6ms/step - loss: 18112.7734 - mean_squared_error: 872701440.0000 - mean_absolute_error: 18112.7734\n",
      "261/261 [==============================] - 1s 6ms/step - loss: 18690.1758 - mean_squared_error: 966441856.0000 - mean_absolute_error: 18690.1758\n",
      "45/45 [==============================] - 0s 6ms/step - loss: 17249.1348 - mean_squared_error: 766825536.0000 - mean_absolute_error: 17249.1348\n",
      "263/263 [==============================] - 1s 6ms/step - loss: 19644.3535 - mean_squared_error: 1008227520.0000 - mean_absolute_error: 19644.3535\n",
      "46/46 [==============================] - 0s 6ms/step - loss: 19460.9570 - mean_squared_error: 920158848.0000 - mean_absolute_error: 19460.9570\n",
      "272/272 [==============================] - 2s 6ms/step - loss: 18543.3828 - mean_squared_error: 943219776.0000 - mean_absolute_error: 18543.3828\n",
      "47/47 [==============================] - 0s 6ms/step - loss: 16220.0742 - mean_squared_error: 697515584.0000 - mean_absolute_error: 16220.0742\n",
      "191/191 [==============================] - 1s 6ms/step - loss: 29898.9023 - mean_squared_error: 1450330368.0000 - mean_absolute_error: 29898.9023\n",
      "33/33 [==============================] - 0s 6ms/step - loss: 20792.3555 - mean_squared_error: 900586944.0000 - mean_absolute_error: 20792.3555\n",
      "270/270 [==============================] - 2s 6ms/step - loss: 19721.8496 - mean_squared_error: 1008115456.0000 - mean_absolute_error: 19721.8496\n",
      "46/46 [==============================] - 0s 6ms/step - loss: 18150.6797 - mean_squared_error: 888270592.0000 - mean_absolute_error: 18150.6797\n",
      "272/272 [==============================] - 2s 6ms/step - loss: 15111.6660 - mean_squared_error: 611720704.0000 - mean_absolute_error: 15111.6660\n",
      "47/47 [==============================] - 0s 6ms/step - loss: 15211.5322 - mean_squared_error: 638103424.0000 - mean_absolute_error: 15211.5322\n",
      "172/172 [==============================] - 1s 6ms/step - loss: 32885.5625 - mean_squared_error: 1927870848.0000 - mean_absolute_error: 32885.5625\n",
      "31/31 [==============================] - 0s 6ms/step - loss: 26774.9492 - mean_squared_error: 1280276224.0000 - mean_absolute_error: 26774.9492\n",
      "273/273 [==============================] - 2s 6ms/step - loss: 14414.6924 - mean_squared_error: 600194432.0000 - mean_absolute_error: 14414.6924\n",
      "47/47 [==============================] - 0s 6ms/step - loss: 13938.1963 - mean_squared_error: 533839616.0000 - mean_absolute_error: 13938.1963\n",
      "251/251 [==============================] - 1s 6ms/step - loss: 88185.9609 - mean_squared_error: 10064417792.0000 - mean_absolute_error: 88185.9609\n",
      "44/44 [==============================] - 0s 6ms/step - loss: 58065.7227 - mean_squared_error: 4668644352.0000 - mean_absolute_error: 58065.7227\n",
      "166/166 [==============================] - 1s 7ms/step - loss: 16680.4805 - mean_squared_error: 605907136.0000 - mean_absolute_error: 16680.4805\n",
      "29/29 [==============================] - 0s 7ms/step - loss: 15163.9082 - mean_squared_error: 400185024.0000 - mean_absolute_error: 15163.9082\n",
      "191/191 [==============================] - 1s 6ms/step - loss: 16668.1875 - mean_squared_error: 829929088.0000 - mean_absolute_error: 16668.1875\n",
      "35/35 [==============================] - 0s 9ms/step - loss: 10848.8496 - mean_squared_error: 418418912.0000 - mean_absolute_error: 10848.8496\n",
      "195/195 [==============================] - 1s 6ms/step - loss: 103614.3906 - mean_squared_error: 13261405184.0000 - mean_absolute_error: 103614.3906\n",
      "36/36 [==============================] - 0s 6ms/step - loss: 85076.0547 - mean_squared_error: 8851362816.0000 - mean_absolute_error: 85076.0547\n",
      "263/263 [==============================] - 1s 6ms/step - loss: 21948.1992 - mean_squared_error: 1216742144.0000 - mean_absolute_error: 21948.1992\n",
      "46/46 [==============================] - 0s 6ms/step - loss: 18059.6797 - mean_squared_error: 867951808.0000 - mean_absolute_error: 18059.6797\n",
      "267/267 [==============================] - 2s 6ms/step - loss: 12657.7676 - mean_squared_error: 445455872.0000 - mean_absolute_error: 12657.7676\n",
      "47/47 [==============================] - 0s 6ms/step - loss: 13084.2783 - mean_squared_error: 492548160.0000 - mean_absolute_error: 13084.2783\n",
      "268/268 [==============================] - 2s 6ms/step - loss: 16537.5703 - mean_squared_error: 736620864.0000 - mean_absolute_error: 16537.5703\n",
      "47/47 [==============================] - 0s 6ms/step - loss: 17636.7422 - mean_squared_error: 864814464.0000 - mean_absolute_error: 17636.7422\n",
      "183/183 [==============================] - 1s 6ms/step - loss: 32851.3008 - mean_squared_error: 1796497280.0000 - mean_absolute_error: 32851.3008\n",
      "34/34 [==============================] - 0s 6ms/step - loss: 30644.6738 - mean_squared_error: 1527839872.0000 - mean_absolute_error: 30644.6738\n",
      "180/180 [==============================] - 1s 6ms/step - loss: 13212.1152 - mean_squared_error: 598257152.0000 - mean_absolute_error: 13212.1152\n",
      "32/32 [==============================] - 0s 6ms/step - loss: 12901.4814 - mean_squared_error: 567491008.0000 - mean_absolute_error: 12901.4814\n",
      "189/189 [==============================] - 1s 6ms/step - loss: 6045.9136 - mean_squared_error: 146679920.0000 - mean_absolute_error: 6045.9136\n",
      "35/35 [==============================] - 0s 6ms/step - loss: 6165.3872 - mean_squared_error: 169909920.0000 - mean_absolute_error: 6165.3872\n",
      "257/257 [==============================] - 1s 6ms/step - loss: 15989.1104 - mean_squared_error: 635569600.0000 - mean_absolute_error: 15989.1104\n",
      "44/44 [==============================] - 0s 6ms/step - loss: 11682.7197 - mean_squared_error: 490120384.0000 - mean_absolute_error: 11682.7197\n"
     ]
    }
   ],
   "source": [
    "for i in range(0, 45):\n",
    "    # path = os.path.join(\"./data/store_level_data/\", \"store_\" + str(i))\n",
    "    X_train, y_train, X_test, y_test = load_data(str(i+1), data_dir=\"./data/store_level_data/\")\n",
    "    try:\n",
    "        loss, train_mean_squared_error, train_mean_absolute_error = model.evaluate(\n",
    "                X_train, y_train\n",
    "            )\n",
    "        loss, test_mean_squared_error, test_mean_absolute_error = model.evaluate(\n",
    "                X_test, y_test\n",
    "            )\n",
    "\n",
    "        df_sub = pd.DataFrame({\"Store\":[str(i+1)],\n",
    "                            \"train_mse\": [train_mean_squared_error],\n",
    "                            \"train_mae\":[train_mean_absolute_error],\n",
    "                            \"test_mse\": [test_mean_squared_error],\n",
    "                            \"test_mae\":[test_mean_absolute_error],\n",
    "                            \"training_history\": history }\n",
    "                            )\n",
    "        df = pd.concat([df, df_sub])\n",
    "    except:\n",
    "        failed.append(str(i+1))"
   ]
  },
  {
   "cell_type": "code",
   "execution_count": 53,
   "metadata": {},
   "outputs": [
    {
     "data": {
      "text/plain": [
       "['13', '14', '15', '28', '29']"
      ]
     },
     "execution_count": 53,
     "metadata": {},
     "output_type": "execute_result"
    }
   ],
   "source": [
    "failed"
   ]
  },
  {
   "cell_type": "code",
   "execution_count": 55,
   "metadata": {},
   "outputs": [
    {
     "name": "stdout",
     "output_type": "stream",
     "text": [
      "README.md  conda.yml  \u001b[1m\u001b[36mdata\u001b[m\u001b[m/      \u001b[1m\u001b[36mnotebooks\u001b[m\u001b[m/ \u001b[1m\u001b[36msrc\u001b[m\u001b[m/       \u001b[1m\u001b[36msrc1\u001b[m\u001b[m/\n"
     ]
    }
   ],
   "source": [
    "%ls"
   ]
  },
  {
   "cell_type": "code",
   "execution_count": 57,
   "metadata": {},
   "outputs": [],
   "source": [
    "df.to_csv(\"./data/performance/centralised_result.csv\", index=False)"
   ]
  },
  {
   "cell_type": "code",
   "execution_count": null,
   "metadata": {},
   "outputs": [],
   "source": []
  }
 ],
 "metadata": {
  "kernelspec": {
   "display_name": "Python 3.9.13 ('assignment-5-tensor')",
   "language": "python",
   "name": "python3"
  },
  "language_info": {
   "codemirror_mode": {
    "name": "ipython",
    "version": 3
   },
   "file_extension": ".py",
   "mimetype": "text/x-python",
   "name": "python",
   "nbconvert_exporter": "python",
   "pygments_lexer": "ipython3",
   "version": "3.9.13"
  },
  "orig_nbformat": 4,
  "vscode": {
   "interpreter": {
    "hash": "5f7b906d99b2ec91f843337fb9b0616c07f4c02a7a501f2516fb446e3b496cbd"
   }
  }
 },
 "nbformat": 4,
 "nbformat_minor": 2
}
